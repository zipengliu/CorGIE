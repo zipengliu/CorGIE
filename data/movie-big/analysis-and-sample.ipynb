{
 "cells": [
  {
   "cell_type": "code",
   "execution_count": 2,
   "metadata": {
    "ExecuteTime": {
     "end_time": "2020-09-23T11:00:12.727796Z",
     "start_time": "2020-09-23T11:00:07.566971Z"
    }
   },
   "outputs": [],
   "source": [
    "%matplotlib notebook\n",
    "import pandas as pd\n",
    "import numpy as np\n",
    "import matplotlib.pyplot as plt\n",
    "from ast import literal_eval\n",
    "import networkx as nx\n",
    "from pprint import pprint\n",
    "import os\n",
    "import json"
   ]
  },
  {
   "cell_type": "markdown",
   "metadata": {},
   "source": [
    "## Dataset from Kaggle: https://www.kaggle.com/rounakbanik/the-movies-dataset"
   ]
  },
  {
   "cell_type": "code",
   "execution_count": 3,
   "metadata": {
    "ExecuteTime": {
     "end_time": "2020-09-23T11:00:13.222704Z",
     "start_time": "2020-09-23T11:00:12.729666Z"
    }
   },
   "outputs": [
    {
     "name": "stderr",
     "output_type": "stream",
     "text": [
      "/Users/zipengliu/opt/anaconda3/lib/python3.7/site-packages/IPython/core/interactiveshell.py:3063: DtypeWarning: Columns (10) have mixed types.Specify dtype option on import or set low_memory=False.\n",
      "  interactivity=interactivity, compiler=compiler, result=result)\n"
     ]
    }
   ],
   "source": [
    "# Read the files\n",
    "movies_metadata = pd.read_csv('movies_metadata.csv')"
   ]
  },
  {
   "cell_type": "code",
   "execution_count": 4,
   "metadata": {
    "ExecuteTime": {
     "end_time": "2020-09-23T11:00:16.734370Z",
     "start_time": "2020-09-23T11:00:13.225196Z"
    },
    "scrolled": true
   },
   "outputs": [
    {
     "name": "stdout",
     "output_type": "stream",
     "text": [
      "[19730, 29503, 35587]\n"
     ]
    }
   ],
   "source": [
    "# Remove rows with dirty data\n",
    "shitty_idx = []\n",
    "for idx, row in movies_metadata.iterrows():\n",
    "    if not row['id'].isdigit():\n",
    "        shitty_idx.append(idx)\n",
    "print(shitty_idx)\n",
    "movies_metadata.drop(shitty_idx, axis=0, inplace=True)"
   ]
  },
  {
   "cell_type": "code",
   "execution_count": 5,
   "metadata": {
    "ExecuteTime": {
     "end_time": "2020-09-23T11:00:16.761734Z",
     "start_time": "2020-09-23T11:00:16.736963Z"
    }
   },
   "outputs": [
    {
     "data": {
      "text/plain": [
       "movieId      79132\n",
       "imdbId     1375666\n",
       "Name: 27205.0, dtype: int64"
      ]
     },
     "execution_count": 5,
     "metadata": {},
     "output_type": "execute_result"
    }
   ],
   "source": [
    "# Read the mapping between different id systems\n",
    "links_df = pd.read_csv('links.csv')\n",
    "links_df.set_index('tmdbId', inplace=True)\n",
    "links_df.loc[27205]"
   ]
  },
  {
   "cell_type": "code",
   "execution_count": 6,
   "metadata": {
    "ExecuteTime": {
     "end_time": "2020-09-23T11:00:16.809323Z",
     "start_time": "2020-09-23T11:00:16.763663Z"
    }
   },
   "outputs": [
    {
     "name": "stdout",
     "output_type": "stream",
     "text": [
      "(45463, 24)\n",
      "(45433, 23)\n",
      "Int64Index([   862,   8844,  15602,  31357,  11862,    949,  11860,  45325,\n",
      "              9091,    710,\n",
      "            ...\n",
      "             84419, 390959, 289923, 222848,  30840, 439050, 111109,  67758,\n",
      "            227506, 461257],\n",
      "           dtype='int64', name='tmdbId', length=45433)\n"
     ]
    }
   ],
   "source": [
    "# Change the index type to int and remove duplicated\n",
    "print(movies_metadata.shape)\n",
    "movies_metadata['id'] = movies_metadata['id'].astype('int64')\n",
    "movies_metadata.drop_duplicates(subset='id', inplace=True)\n",
    "movies_metadata.rename(columns={'id': 'tmdbId'}, inplace=True)\n",
    "movies_metadata.set_index('tmdbId', inplace=True)\n",
    "print(movies_metadata.shape)\n",
    "print(movies_metadata.index)"
   ]
  },
  {
   "cell_type": "code",
   "execution_count": 7,
   "metadata": {
    "ExecuteTime": {
     "end_time": "2020-09-23T11:00:16.920707Z",
     "start_time": "2020-09-23T11:00:16.811867Z"
    }
   },
   "outputs": [
    {
     "name": "stdout",
     "output_type": "stream",
     "text": [
      "(46419, 2)\n",
      "(45432, 1)\n"
     ]
    }
   ],
   "source": [
    "keywords = pd.read_csv('keywords.csv')\n",
    "print(keywords.shape)\n",
    "keywords.drop_duplicates(subset='id', inplace=True)\n",
    "keywords.set_index('id', inplace=True)\n",
    "print(keywords.shape)"
   ]
  },
  {
   "cell_type": "code",
   "execution_count": 8,
   "metadata": {
    "ExecuteTime": {
     "end_time": "2020-09-23T11:00:18.238176Z",
     "start_time": "2020-09-23T11:00:16.923227Z"
    }
   },
   "outputs": [
    {
     "name": "stdout",
     "output_type": "stream",
     "text": [
      "(45476, 3)\n",
      "(45432, 2)\n"
     ]
    }
   ],
   "source": [
    "credits = pd.read_csv('credits.csv')\n",
    "print(credits.shape)\n",
    "credits.drop_duplicates(subset='id', inplace=True)\n",
    "credits.set_index('id', inplace=True)\n",
    "print(credits.shape)"
   ]
  },
  {
   "cell_type": "code",
   "execution_count": 9,
   "metadata": {
    "ExecuteTime": {
     "end_time": "2020-09-23T11:00:18.302488Z",
     "start_time": "2020-09-23T11:00:18.241913Z"
    }
   },
   "outputs": [],
   "source": [
    "df = movies_metadata.join(keywords, how='inner').join(credits, how='inner')"
   ]
  },
  {
   "cell_type": "code",
   "execution_count": 10,
   "metadata": {
    "ExecuteTime": {
     "end_time": "2020-09-23T11:00:18.309006Z",
     "start_time": "2020-09-23T11:00:18.305554Z"
    }
   },
   "outputs": [
    {
     "name": "stdout",
     "output_type": "stream",
     "text": [
      "(45433, 23)\n",
      "(45432, 1)\n",
      "(45432, 2)\n",
      "(45432, 26)\n"
     ]
    }
   ],
   "source": [
    "print(movies_metadata.shape)\n",
    "print(keywords.shape)\n",
    "print(credits.shape)\n",
    "print(df.shape)"
   ]
  },
  {
   "cell_type": "code",
   "execution_count": 11,
   "metadata": {
    "ExecuteTime": {
     "end_time": "2020-09-23T11:00:18.335063Z",
     "start_time": "2020-09-23T11:00:18.311099Z"
    }
   },
   "outputs": [
    {
     "data": {
      "text/html": [
       "<div>\n",
       "<style scoped>\n",
       "    .dataframe tbody tr th:only-of-type {\n",
       "        vertical-align: middle;\n",
       "    }\n",
       "\n",
       "    .dataframe tbody tr th {\n",
       "        vertical-align: top;\n",
       "    }\n",
       "\n",
       "    .dataframe thead th {\n",
       "        text-align: right;\n",
       "    }\n",
       "</style>\n",
       "<table border=\"1\" class=\"dataframe\">\n",
       "  <thead>\n",
       "    <tr style=\"text-align: right;\">\n",
       "      <th></th>\n",
       "      <th>adult</th>\n",
       "      <th>belongs_to_collection</th>\n",
       "      <th>budget</th>\n",
       "      <th>genres</th>\n",
       "      <th>homepage</th>\n",
       "      <th>imdb_id</th>\n",
       "      <th>original_language</th>\n",
       "      <th>original_title</th>\n",
       "      <th>overview</th>\n",
       "      <th>popularity</th>\n",
       "      <th>...</th>\n",
       "      <th>spoken_languages</th>\n",
       "      <th>status</th>\n",
       "      <th>tagline</th>\n",
       "      <th>title</th>\n",
       "      <th>video</th>\n",
       "      <th>vote_average</th>\n",
       "      <th>vote_count</th>\n",
       "      <th>keywords</th>\n",
       "      <th>cast</th>\n",
       "      <th>crew</th>\n",
       "    </tr>\n",
       "  </thead>\n",
       "  <tbody>\n",
       "    <tr>\n",
       "      <th>862</th>\n",
       "      <td>False</td>\n",
       "      <td>{'id': 10194, 'name': 'Toy Story Collection', ...</td>\n",
       "      <td>30000000</td>\n",
       "      <td>[{'id': 16, 'name': 'Animation'}, {'id': 35, '...</td>\n",
       "      <td>http://toystory.disney.com/toy-story</td>\n",
       "      <td>tt0114709</td>\n",
       "      <td>en</td>\n",
       "      <td>Toy Story</td>\n",
       "      <td>Led by Woody, Andy's toys live happily in his ...</td>\n",
       "      <td>21.9469</td>\n",
       "      <td>...</td>\n",
       "      <td>[{'iso_639_1': 'en', 'name': 'English'}]</td>\n",
       "      <td>Released</td>\n",
       "      <td>NaN</td>\n",
       "      <td>Toy Story</td>\n",
       "      <td>False</td>\n",
       "      <td>7.7</td>\n",
       "      <td>5415.0</td>\n",
       "      <td>[{'id': 931, 'name': 'jealousy'}, {'id': 4290,...</td>\n",
       "      <td>[{'cast_id': 14, 'character': 'Woody (voice)',...</td>\n",
       "      <td>[{'credit_id': '52fe4284c3a36847f8024f49', 'de...</td>\n",
       "    </tr>\n",
       "    <tr>\n",
       "      <th>8844</th>\n",
       "      <td>False</td>\n",
       "      <td>NaN</td>\n",
       "      <td>65000000</td>\n",
       "      <td>[{'id': 12, 'name': 'Adventure'}, {'id': 14, '...</td>\n",
       "      <td>NaN</td>\n",
       "      <td>tt0113497</td>\n",
       "      <td>en</td>\n",
       "      <td>Jumanji</td>\n",
       "      <td>When siblings Judy and Peter discover an encha...</td>\n",
       "      <td>17.0155</td>\n",
       "      <td>...</td>\n",
       "      <td>[{'iso_639_1': 'en', 'name': 'English'}, {'iso...</td>\n",
       "      <td>Released</td>\n",
       "      <td>Roll the dice and unleash the excitement!</td>\n",
       "      <td>Jumanji</td>\n",
       "      <td>False</td>\n",
       "      <td>6.9</td>\n",
       "      <td>2413.0</td>\n",
       "      <td>[{'id': 10090, 'name': 'board game'}, {'id': 1...</td>\n",
       "      <td>[{'cast_id': 1, 'character': 'Alan Parrish', '...</td>\n",
       "      <td>[{'credit_id': '52fe44bfc3a36847f80a7cd1', 'de...</td>\n",
       "    </tr>\n",
       "    <tr>\n",
       "      <th>15602</th>\n",
       "      <td>False</td>\n",
       "      <td>{'id': 119050, 'name': 'Grumpy Old Men Collect...</td>\n",
       "      <td>0</td>\n",
       "      <td>[{'id': 10749, 'name': 'Romance'}, {'id': 35, ...</td>\n",
       "      <td>NaN</td>\n",
       "      <td>tt0113228</td>\n",
       "      <td>en</td>\n",
       "      <td>Grumpier Old Men</td>\n",
       "      <td>A family wedding reignites the ancient feud be...</td>\n",
       "      <td>11.7129</td>\n",
       "      <td>...</td>\n",
       "      <td>[{'iso_639_1': 'en', 'name': 'English'}]</td>\n",
       "      <td>Released</td>\n",
       "      <td>Still Yelling. Still Fighting. Still Ready for...</td>\n",
       "      <td>Grumpier Old Men</td>\n",
       "      <td>False</td>\n",
       "      <td>6.5</td>\n",
       "      <td>92.0</td>\n",
       "      <td>[{'id': 1495, 'name': 'fishing'}, {'id': 12392...</td>\n",
       "      <td>[{'cast_id': 2, 'character': 'Max Goldman', 'c...</td>\n",
       "      <td>[{'credit_id': '52fe466a9251416c75077a89', 'de...</td>\n",
       "    </tr>\n",
       "    <tr>\n",
       "      <th>31357</th>\n",
       "      <td>False</td>\n",
       "      <td>NaN</td>\n",
       "      <td>16000000</td>\n",
       "      <td>[{'id': 35, 'name': 'Comedy'}, {'id': 18, 'nam...</td>\n",
       "      <td>NaN</td>\n",
       "      <td>tt0114885</td>\n",
       "      <td>en</td>\n",
       "      <td>Waiting to Exhale</td>\n",
       "      <td>Cheated on, mistreated and stepped on, the wom...</td>\n",
       "      <td>3.85949</td>\n",
       "      <td>...</td>\n",
       "      <td>[{'iso_639_1': 'en', 'name': 'English'}]</td>\n",
       "      <td>Released</td>\n",
       "      <td>Friends are the people who let you be yourself...</td>\n",
       "      <td>Waiting to Exhale</td>\n",
       "      <td>False</td>\n",
       "      <td>6.1</td>\n",
       "      <td>34.0</td>\n",
       "      <td>[{'id': 818, 'name': 'based on novel'}, {'id':...</td>\n",
       "      <td>[{'cast_id': 1, 'character': \"Savannah 'Vannah...</td>\n",
       "      <td>[{'credit_id': '52fe44779251416c91011acb', 'de...</td>\n",
       "    </tr>\n",
       "    <tr>\n",
       "      <th>11862</th>\n",
       "      <td>False</td>\n",
       "      <td>{'id': 96871, 'name': 'Father of the Bride Col...</td>\n",
       "      <td>0</td>\n",
       "      <td>[{'id': 35, 'name': 'Comedy'}]</td>\n",
       "      <td>NaN</td>\n",
       "      <td>tt0113041</td>\n",
       "      <td>en</td>\n",
       "      <td>Father of the Bride Part II</td>\n",
       "      <td>Just when George Banks has recovered from his ...</td>\n",
       "      <td>8.38752</td>\n",
       "      <td>...</td>\n",
       "      <td>[{'iso_639_1': 'en', 'name': 'English'}]</td>\n",
       "      <td>Released</td>\n",
       "      <td>Just When His World Is Back To Normal... He's ...</td>\n",
       "      <td>Father of the Bride Part II</td>\n",
       "      <td>False</td>\n",
       "      <td>5.7</td>\n",
       "      <td>173.0</td>\n",
       "      <td>[{'id': 1009, 'name': 'baby'}, {'id': 1599, 'n...</td>\n",
       "      <td>[{'cast_id': 1, 'character': 'George Banks', '...</td>\n",
       "      <td>[{'credit_id': '52fe44959251416c75039ed7', 'de...</td>\n",
       "    </tr>\n",
       "  </tbody>\n",
       "</table>\n",
       "<p>5 rows × 26 columns</p>\n",
       "</div>"
      ],
      "text/plain": [
       "       adult                              belongs_to_collection    budget  \\\n",
       "862    False  {'id': 10194, 'name': 'Toy Story Collection', ...  30000000   \n",
       "8844   False                                                NaN  65000000   \n",
       "15602  False  {'id': 119050, 'name': 'Grumpy Old Men Collect...         0   \n",
       "31357  False                                                NaN  16000000   \n",
       "11862  False  {'id': 96871, 'name': 'Father of the Bride Col...         0   \n",
       "\n",
       "                                                  genres  \\\n",
       "862    [{'id': 16, 'name': 'Animation'}, {'id': 35, '...   \n",
       "8844   [{'id': 12, 'name': 'Adventure'}, {'id': 14, '...   \n",
       "15602  [{'id': 10749, 'name': 'Romance'}, {'id': 35, ...   \n",
       "31357  [{'id': 35, 'name': 'Comedy'}, {'id': 18, 'nam...   \n",
       "11862                     [{'id': 35, 'name': 'Comedy'}]   \n",
       "\n",
       "                                   homepage    imdb_id original_language  \\\n",
       "862    http://toystory.disney.com/toy-story  tt0114709                en   \n",
       "8844                                    NaN  tt0113497                en   \n",
       "15602                                   NaN  tt0113228                en   \n",
       "31357                                   NaN  tt0114885                en   \n",
       "11862                                   NaN  tt0113041                en   \n",
       "\n",
       "                    original_title  \\\n",
       "862                      Toy Story   \n",
       "8844                       Jumanji   \n",
       "15602             Grumpier Old Men   \n",
       "31357            Waiting to Exhale   \n",
       "11862  Father of the Bride Part II   \n",
       "\n",
       "                                                overview popularity  ...  \\\n",
       "862    Led by Woody, Andy's toys live happily in his ...    21.9469  ...   \n",
       "8844   When siblings Judy and Peter discover an encha...    17.0155  ...   \n",
       "15602  A family wedding reignites the ancient feud be...    11.7129  ...   \n",
       "31357  Cheated on, mistreated and stepped on, the wom...    3.85949  ...   \n",
       "11862  Just when George Banks has recovered from his ...    8.38752  ...   \n",
       "\n",
       "                                        spoken_languages    status  \\\n",
       "862             [{'iso_639_1': 'en', 'name': 'English'}]  Released   \n",
       "8844   [{'iso_639_1': 'en', 'name': 'English'}, {'iso...  Released   \n",
       "15602           [{'iso_639_1': 'en', 'name': 'English'}]  Released   \n",
       "31357           [{'iso_639_1': 'en', 'name': 'English'}]  Released   \n",
       "11862           [{'iso_639_1': 'en', 'name': 'English'}]  Released   \n",
       "\n",
       "                                                 tagline  \\\n",
       "862                                                  NaN   \n",
       "8844           Roll the dice and unleash the excitement!   \n",
       "15602  Still Yelling. Still Fighting. Still Ready for...   \n",
       "31357  Friends are the people who let you be yourself...   \n",
       "11862  Just When His World Is Back To Normal... He's ...   \n",
       "\n",
       "                             title  video  vote_average vote_count  \\\n",
       "862                      Toy Story  False           7.7     5415.0   \n",
       "8844                       Jumanji  False           6.9     2413.0   \n",
       "15602             Grumpier Old Men  False           6.5       92.0   \n",
       "31357            Waiting to Exhale  False           6.1       34.0   \n",
       "11862  Father of the Bride Part II  False           5.7      173.0   \n",
       "\n",
       "                                                keywords  \\\n",
       "862    [{'id': 931, 'name': 'jealousy'}, {'id': 4290,...   \n",
       "8844   [{'id': 10090, 'name': 'board game'}, {'id': 1...   \n",
       "15602  [{'id': 1495, 'name': 'fishing'}, {'id': 12392...   \n",
       "31357  [{'id': 818, 'name': 'based on novel'}, {'id':...   \n",
       "11862  [{'id': 1009, 'name': 'baby'}, {'id': 1599, 'n...   \n",
       "\n",
       "                                                    cast  \\\n",
       "862    [{'cast_id': 14, 'character': 'Woody (voice)',...   \n",
       "8844   [{'cast_id': 1, 'character': 'Alan Parrish', '...   \n",
       "15602  [{'cast_id': 2, 'character': 'Max Goldman', 'c...   \n",
       "31357  [{'cast_id': 1, 'character': \"Savannah 'Vannah...   \n",
       "11862  [{'cast_id': 1, 'character': 'George Banks', '...   \n",
       "\n",
       "                                                    crew  \n",
       "862    [{'credit_id': '52fe4284c3a36847f8024f49', 'de...  \n",
       "8844   [{'credit_id': '52fe44bfc3a36847f80a7cd1', 'de...  \n",
       "15602  [{'credit_id': '52fe466a9251416c75077a89', 'de...  \n",
       "31357  [{'credit_id': '52fe44779251416c91011acb', 'de...  \n",
       "11862  [{'credit_id': '52fe44959251416c75039ed7', 'de...  \n",
       "\n",
       "[5 rows x 26 columns]"
      ]
     },
     "execution_count": 11,
     "metadata": {},
     "output_type": "execute_result"
    }
   ],
   "source": [
    "df.head()"
   ]
  },
  {
   "cell_type": "code",
   "execution_count": 12,
   "metadata": {
    "ExecuteTime": {
     "end_time": "2020-09-23T11:00:18.340369Z",
     "start_time": "2020-09-23T11:00:18.336490Z"
    }
   },
   "outputs": [
    {
     "data": {
      "text/plain": [
       "Index(['adult', 'belongs_to_collection', 'budget', 'genres', 'homepage',\n",
       "       'imdb_id', 'original_language', 'original_title', 'overview',\n",
       "       'popularity', 'poster_path', 'production_companies',\n",
       "       'production_countries', 'release_date', 'revenue', 'runtime',\n",
       "       'spoken_languages', 'status', 'tagline', 'title', 'video',\n",
       "       'vote_average', 'vote_count', 'keywords', 'cast', 'crew'],\n",
       "      dtype='object')"
      ]
     },
     "execution_count": 12,
     "metadata": {},
     "output_type": "execute_result"
    }
   ],
   "source": [
    "df.columns"
   ]
  },
  {
   "cell_type": "code",
   "execution_count": 13,
   "metadata": {
    "ExecuteTime": {
     "end_time": "2020-09-23T11:00:48.058798Z",
     "start_time": "2020-09-23T11:00:18.342464Z"
    },
    "scrolled": true
   },
   "outputs": [
    {
     "name": "stdout",
     "output_type": "stream",
     "text": [
      "genres\n",
      "count    45432.000000\n",
      "mean         2.003324\n",
      "std          1.130698\n",
      "min          0.000000\n",
      "25%          1.000000\n",
      "50%          2.000000\n",
      "75%          3.000000\n",
      "max          8.000000\n",
      "Name: genres_cnt, dtype: float64\n",
      "\n",
      "keywords\n",
      "count    45432.000000\n",
      "mean         3.446954\n",
      "std          4.690083\n",
      "min          0.000000\n",
      "25%          0.000000\n",
      "50%          2.000000\n",
      "75%          5.000000\n",
      "max        149.000000\n",
      "Name: keywords_cnt, dtype: float64\n",
      "\n",
      "production_countries\n",
      "count    45432.000000\n",
      "mean         1.086635\n",
      "std          0.763007\n",
      "min          0.000000\n",
      "25%          1.000000\n",
      "50%          1.000000\n",
      "75%          1.000000\n",
      "max         25.000000\n",
      "Name: production_countries_cnt, dtype: float64\n",
      "\n",
      "production_companies\n",
      "count    45432.000000\n",
      "mean         1.550977\n",
      "std          1.741638\n",
      "min          0.000000\n",
      "25%          0.000000\n",
      "50%          1.000000\n",
      "75%          2.000000\n",
      "max         26.000000\n",
      "Name: production_companies_cnt, dtype: float64\n",
      "\n",
      "spoken_languages\n",
      "count    45432.000000\n",
      "mean         1.172434\n",
      "std          0.753488\n",
      "min          0.000000\n",
      "25%          1.000000\n",
      "50%          1.000000\n",
      "75%          1.000000\n",
      "max         19.000000\n",
      "Name: spoken_languages_cnt, dtype: float64\n",
      "\n",
      "cast\n",
      "count    45432.000000\n",
      "mean        12.371104\n",
      "std         12.089791\n",
      "min          0.000000\n",
      "25%          6.000000\n",
      "50%         10.000000\n",
      "75%         15.000000\n",
      "max        313.000000\n",
      "Name: cast_cnt, dtype: float64\n",
      "\n",
      "crew\n",
      "count    45432.000000\n",
      "mean        10.209456\n",
      "std         15.804910\n",
      "min          0.000000\n",
      "25%          2.000000\n",
      "50%          6.000000\n",
      "75%         12.000000\n",
      "max        435.000000\n",
      "Name: crew_cnt, dtype: float64\n",
      "\n",
      "belongs_to_collection\n",
      "count    45432.000000\n",
      "mean         0.395140\n",
      "std          1.193506\n",
      "min          0.000000\n",
      "25%          0.000000\n",
      "50%          0.000000\n",
      "75%          0.000000\n",
      "max          4.000000\n",
      "Name: belongs_to_collection_cnt, dtype: float64\n",
      "\n"
     ]
    }
   ],
   "source": [
    "# Clean and transform some columns that comes with an array\n",
    "parse_col = ['genres', 'keywords', 'production_countries', 'production_companies', 'spoken_languages', \n",
    "             'cast', 'crew', 'belongs_to_collection']\n",
    "for column in parse_col:\n",
    "    df[column] = df[column].fillna('[]').apply(literal_eval)\n",
    "    df[column + '_cnt'] = df[column].map(len)\n",
    "    print(column)\n",
    "    print(df[column + '_cnt'].describe())\n",
    "    print()"
   ]
  },
  {
   "cell_type": "code",
   "execution_count": 14,
   "metadata": {
    "ExecuteTime": {
     "end_time": "2020-09-23T11:00:48.067297Z",
     "start_time": "2020-09-23T11:00:48.060279Z"
    }
   },
   "outputs": [],
   "source": [
    "# A hack to get rid of the NaN, which is not compatible with JSON serializer\n",
    "df['homepage'].fillna('', inplace=True)\n",
    "df['tagline'].fillna('', inplace=True)"
   ]
  },
  {
   "cell_type": "code",
   "execution_count": 15,
   "metadata": {
    "ExecuteTime": {
     "end_time": "2020-09-23T11:00:48.073909Z",
     "start_time": "2020-09-23T11:00:48.068746Z"
    }
   },
   "outputs": [],
   "source": [
    "# Take a look at the \"array-like\" columns by constructing different tables from them\n",
    "def inspect_entities(e_name, id_col='id', include_cols=[]):\n",
    "    entity_dict = {}\n",
    "    for idx, row in df.iterrows():\n",
    "        # quick hack for columns that are of type dict instead of array of dict\n",
    "        temp = [row[e_name]] if e_name == 'belongs_to_collection' and pd.notna(row[e_name]) else row[e_name]\n",
    "        for g in temp:\n",
    "            eid = g[id_col]\n",
    "            if eid not in entity_dict:\n",
    "                entity_dict[eid] = {'name': g['name'], 'count': 0}\n",
    "                # fill in the fields to be included\n",
    "                for f in include_cols:\n",
    "                    if f in g:\n",
    "                        entity_dict[eid][f] = g[f]\n",
    "            entity_dict[eid]['count'] += 1\n",
    "    entity_df = pd.DataFrame(entity_dict).transpose()\n",
    "    entity_df['count'] = entity_df['count'].astype('int')\n",
    "    entity_df.sort_values('count', ascending=False, inplace=True)\n",
    "    return entity_df"
   ]
  },
  {
   "cell_type": "code",
   "execution_count": 16,
   "metadata": {
    "ExecuteTime": {
     "end_time": "2020-09-23T11:00:51.399856Z",
     "start_time": "2020-09-23T11:00:48.075133Z"
    },
    "scrolled": true
   },
   "outputs": [
    {
     "data": {
      "text/html": [
       "<div>\n",
       "<style scoped>\n",
       "    .dataframe tbody tr th:only-of-type {\n",
       "        vertical-align: middle;\n",
       "    }\n",
       "\n",
       "    .dataframe tbody tr th {\n",
       "        vertical-align: top;\n",
       "    }\n",
       "\n",
       "    .dataframe thead th {\n",
       "        text-align: right;\n",
       "    }\n",
       "</style>\n",
       "<table border=\"1\" class=\"dataframe\">\n",
       "  <thead>\n",
       "    <tr style=\"text-align: right;\">\n",
       "      <th></th>\n",
       "      <th>name</th>\n",
       "      <th>count</th>\n",
       "    </tr>\n",
       "  </thead>\n",
       "  <tbody>\n",
       "    <tr>\n",
       "      <th>18</th>\n",
       "      <td>Drama</td>\n",
       "      <td>20244</td>\n",
       "    </tr>\n",
       "    <tr>\n",
       "      <th>35</th>\n",
       "      <td>Comedy</td>\n",
       "      <td>13176</td>\n",
       "    </tr>\n",
       "    <tr>\n",
       "      <th>53</th>\n",
       "      <td>Thriller</td>\n",
       "      <td>7619</td>\n",
       "    </tr>\n",
       "    <tr>\n",
       "      <th>10749</th>\n",
       "      <td>Romance</td>\n",
       "      <td>6730</td>\n",
       "    </tr>\n",
       "    <tr>\n",
       "      <th>28</th>\n",
       "      <td>Action</td>\n",
       "      <td>6592</td>\n",
       "    </tr>\n",
       "    <tr>\n",
       "      <th>27</th>\n",
       "      <td>Horror</td>\n",
       "      <td>4671</td>\n",
       "    </tr>\n",
       "    <tr>\n",
       "      <th>80</th>\n",
       "      <td>Crime</td>\n",
       "      <td>4304</td>\n",
       "    </tr>\n",
       "    <tr>\n",
       "      <th>99</th>\n",
       "      <td>Documentary</td>\n",
       "      <td>3930</td>\n",
       "    </tr>\n",
       "    <tr>\n",
       "      <th>12</th>\n",
       "      <td>Adventure</td>\n",
       "      <td>3490</td>\n",
       "    </tr>\n",
       "    <tr>\n",
       "      <th>878</th>\n",
       "      <td>Science Fiction</td>\n",
       "      <td>3044</td>\n",
       "    </tr>\n",
       "    <tr>\n",
       "      <th>10751</th>\n",
       "      <td>Family</td>\n",
       "      <td>2767</td>\n",
       "    </tr>\n",
       "    <tr>\n",
       "      <th>9648</th>\n",
       "      <td>Mystery</td>\n",
       "      <td>2464</td>\n",
       "    </tr>\n",
       "    <tr>\n",
       "      <th>14</th>\n",
       "      <td>Fantasy</td>\n",
       "      <td>2309</td>\n",
       "    </tr>\n",
       "    <tr>\n",
       "      <th>16</th>\n",
       "      <td>Animation</td>\n",
       "      <td>1931</td>\n",
       "    </tr>\n",
       "    <tr>\n",
       "      <th>10769</th>\n",
       "      <td>Foreign</td>\n",
       "      <td>1619</td>\n",
       "    </tr>\n",
       "    <tr>\n",
       "      <th>10402</th>\n",
       "      <td>Music</td>\n",
       "      <td>1597</td>\n",
       "    </tr>\n",
       "    <tr>\n",
       "      <th>36</th>\n",
       "      <td>History</td>\n",
       "      <td>1398</td>\n",
       "    </tr>\n",
       "    <tr>\n",
       "      <th>10752</th>\n",
       "      <td>War</td>\n",
       "      <td>1322</td>\n",
       "    </tr>\n",
       "    <tr>\n",
       "      <th>37</th>\n",
       "      <td>Western</td>\n",
       "      <td>1042</td>\n",
       "    </tr>\n",
       "    <tr>\n",
       "      <th>10770</th>\n",
       "      <td>TV Movie</td>\n",
       "      <td>766</td>\n",
       "    </tr>\n",
       "  </tbody>\n",
       "</table>\n",
       "</div>"
      ],
      "text/plain": [
       "                  name  count\n",
       "18               Drama  20244\n",
       "35              Comedy  13176\n",
       "53            Thriller   7619\n",
       "10749          Romance   6730\n",
       "28              Action   6592\n",
       "27              Horror   4671\n",
       "80               Crime   4304\n",
       "99         Documentary   3930\n",
       "12           Adventure   3490\n",
       "878    Science Fiction   3044\n",
       "10751           Family   2767\n",
       "9648           Mystery   2464\n",
       "14             Fantasy   2309\n",
       "16           Animation   1931\n",
       "10769          Foreign   1619\n",
       "10402            Music   1597\n",
       "36             History   1398\n",
       "10752              War   1322\n",
       "37             Western   1042\n",
       "10770         TV Movie    766"
      ]
     },
     "execution_count": 16,
     "metadata": {},
     "output_type": "execute_result"
    }
   ],
   "source": [
    "genres_df = inspect_entities('genres')\n",
    "genres_df"
   ]
  },
  {
   "cell_type": "code",
   "execution_count": 17,
   "metadata": {
    "ExecuteTime": {
     "end_time": "2020-09-23T11:00:51.403151Z",
     "start_time": "2020-09-23T11:00:51.401353Z"
    }
   },
   "outputs": [],
   "source": [
    "# plt.hist(genres_df['count'], bins=50)\n",
    "# plt.grid(True)\n",
    "# plt.show()"
   ]
  },
  {
   "cell_type": "code",
   "execution_count": 18,
   "metadata": {
    "ExecuteTime": {
     "end_time": "2020-09-23T11:00:56.048059Z",
     "start_time": "2020-09-23T11:00:51.404660Z"
    },
    "scrolled": true
   },
   "outputs": [
    {
     "data": {
      "text/html": [
       "<div>\n",
       "<style scoped>\n",
       "    .dataframe tbody tr th:only-of-type {\n",
       "        vertical-align: middle;\n",
       "    }\n",
       "\n",
       "    .dataframe tbody tr th {\n",
       "        vertical-align: top;\n",
       "    }\n",
       "\n",
       "    .dataframe thead th {\n",
       "        text-align: right;\n",
       "    }\n",
       "</style>\n",
       "<table border=\"1\" class=\"dataframe\">\n",
       "  <thead>\n",
       "    <tr style=\"text-align: right;\">\n",
       "      <th></th>\n",
       "      <th>name</th>\n",
       "      <th>count</th>\n",
       "    </tr>\n",
       "  </thead>\n",
       "  <tbody>\n",
       "    <tr>\n",
       "      <th>187056</th>\n",
       "      <td>woman director</td>\n",
       "      <td>3039</td>\n",
       "    </tr>\n",
       "    <tr>\n",
       "      <th>10183</th>\n",
       "      <td>independent film</td>\n",
       "      <td>1914</td>\n",
       "    </tr>\n",
       "    <tr>\n",
       "      <th>9826</th>\n",
       "      <td>murder</td>\n",
       "      <td>1285</td>\n",
       "    </tr>\n",
       "    <tr>\n",
       "      <th>818</th>\n",
       "      <td>based on novel</td>\n",
       "      <td>822</td>\n",
       "    </tr>\n",
       "    <tr>\n",
       "      <th>4344</th>\n",
       "      <td>musical</td>\n",
       "      <td>726</td>\n",
       "    </tr>\n",
       "    <tr>\n",
       "      <th>...</th>\n",
       "      <td>...</td>\n",
       "      <td>...</td>\n",
       "    </tr>\n",
       "    <tr>\n",
       "      <th>188607</th>\n",
       "      <td>rube</td>\n",
       "      <td>1</td>\n",
       "    </tr>\n",
       "    <tr>\n",
       "      <th>188606</th>\n",
       "      <td>middle america</td>\n",
       "      <td>1</td>\n",
       "    </tr>\n",
       "    <tr>\n",
       "      <th>166244</th>\n",
       "      <td>beatboxing</td>\n",
       "      <td>1</td>\n",
       "    </tr>\n",
       "    <tr>\n",
       "      <th>208126</th>\n",
       "      <td>crown jewels</td>\n",
       "      <td>1</td>\n",
       "    </tr>\n",
       "    <tr>\n",
       "      <th>209358</th>\n",
       "      <td>acab</td>\n",
       "      <td>1</td>\n",
       "    </tr>\n",
       "  </tbody>\n",
       "</table>\n",
       "<p>19956 rows × 2 columns</p>\n",
       "</div>"
      ],
      "text/plain": [
       "                    name  count\n",
       "187056    woman director   3039\n",
       "10183   independent film   1914\n",
       "9826              murder   1285\n",
       "818       based on novel    822\n",
       "4344             musical    726\n",
       "...                  ...    ...\n",
       "188607              rube      1\n",
       "188606    middle america      1\n",
       "166244        beatboxing      1\n",
       "208126      crown jewels      1\n",
       "209358              acab      1\n",
       "\n",
       "[19956 rows x 2 columns]"
      ]
     },
     "execution_count": 18,
     "metadata": {},
     "output_type": "execute_result"
    }
   ],
   "source": [
    "keywords_df = inspect_entities('keywords')\n",
    "keywords_df"
   ]
  },
  {
   "cell_type": "code",
   "execution_count": 19,
   "metadata": {
    "ExecuteTime": {
     "end_time": "2020-09-23T11:00:56.112464Z",
     "start_time": "2020-09-23T11:00:56.049593Z"
    }
   },
   "outputs": [
    {
     "data": {
      "application/javascript": [
       "/* Put everything inside the global mpl namespace */\n",
       "window.mpl = {};\n",
       "\n",
       "\n",
       "mpl.get_websocket_type = function() {\n",
       "    if (typeof(WebSocket) !== 'undefined') {\n",
       "        return WebSocket;\n",
       "    } else if (typeof(MozWebSocket) !== 'undefined') {\n",
       "        return MozWebSocket;\n",
       "    } else {\n",
       "        alert('Your browser does not have WebSocket support. ' +\n",
       "              'Please try Chrome, Safari or Firefox ≥ 6. ' +\n",
       "              'Firefox 4 and 5 are also supported but you ' +\n",
       "              'have to enable WebSockets in about:config.');\n",
       "    };\n",
       "}\n",
       "\n",
       "mpl.figure = function(figure_id, websocket, ondownload, parent_element) {\n",
       "    this.id = figure_id;\n",
       "\n",
       "    this.ws = websocket;\n",
       "\n",
       "    this.supports_binary = (this.ws.binaryType != undefined);\n",
       "\n",
       "    if (!this.supports_binary) {\n",
       "        var warnings = document.getElementById(\"mpl-warnings\");\n",
       "        if (warnings) {\n",
       "            warnings.style.display = 'block';\n",
       "            warnings.textContent = (\n",
       "                \"This browser does not support binary websocket messages. \" +\n",
       "                    \"Performance may be slow.\");\n",
       "        }\n",
       "    }\n",
       "\n",
       "    this.imageObj = new Image();\n",
       "\n",
       "    this.context = undefined;\n",
       "    this.message = undefined;\n",
       "    this.canvas = undefined;\n",
       "    this.rubberband_canvas = undefined;\n",
       "    this.rubberband_context = undefined;\n",
       "    this.format_dropdown = undefined;\n",
       "\n",
       "    this.image_mode = 'full';\n",
       "\n",
       "    this.root = $('<div/>');\n",
       "    this._root_extra_style(this.root)\n",
       "    this.root.attr('style', 'display: inline-block');\n",
       "\n",
       "    $(parent_element).append(this.root);\n",
       "\n",
       "    this._init_header(this);\n",
       "    this._init_canvas(this);\n",
       "    this._init_toolbar(this);\n",
       "\n",
       "    var fig = this;\n",
       "\n",
       "    this.waiting = false;\n",
       "\n",
       "    this.ws.onopen =  function () {\n",
       "            fig.send_message(\"supports_binary\", {value: fig.supports_binary});\n",
       "            fig.send_message(\"send_image_mode\", {});\n",
       "            if (mpl.ratio != 1) {\n",
       "                fig.send_message(\"set_dpi_ratio\", {'dpi_ratio': mpl.ratio});\n",
       "            }\n",
       "            fig.send_message(\"refresh\", {});\n",
       "        }\n",
       "\n",
       "    this.imageObj.onload = function() {\n",
       "            if (fig.image_mode == 'full') {\n",
       "                // Full images could contain transparency (where diff images\n",
       "                // almost always do), so we need to clear the canvas so that\n",
       "                // there is no ghosting.\n",
       "                fig.context.clearRect(0, 0, fig.canvas.width, fig.canvas.height);\n",
       "            }\n",
       "            fig.context.drawImage(fig.imageObj, 0, 0);\n",
       "        };\n",
       "\n",
       "    this.imageObj.onunload = function() {\n",
       "        fig.ws.close();\n",
       "    }\n",
       "\n",
       "    this.ws.onmessage = this._make_on_message_function(this);\n",
       "\n",
       "    this.ondownload = ondownload;\n",
       "}\n",
       "\n",
       "mpl.figure.prototype._init_header = function() {\n",
       "    var titlebar = $(\n",
       "        '<div class=\"ui-dialog-titlebar ui-widget-header ui-corner-all ' +\n",
       "        'ui-helper-clearfix\"/>');\n",
       "    var titletext = $(\n",
       "        '<div class=\"ui-dialog-title\" style=\"width: 100%; ' +\n",
       "        'text-align: center; padding: 3px;\"/>');\n",
       "    titlebar.append(titletext)\n",
       "    this.root.append(titlebar);\n",
       "    this.header = titletext[0];\n",
       "}\n",
       "\n",
       "\n",
       "\n",
       "mpl.figure.prototype._canvas_extra_style = function(canvas_div) {\n",
       "\n",
       "}\n",
       "\n",
       "\n",
       "mpl.figure.prototype._root_extra_style = function(canvas_div) {\n",
       "\n",
       "}\n",
       "\n",
       "mpl.figure.prototype._init_canvas = function() {\n",
       "    var fig = this;\n",
       "\n",
       "    var canvas_div = $('<div/>');\n",
       "\n",
       "    canvas_div.attr('style', 'position: relative; clear: both; outline: 0');\n",
       "\n",
       "    function canvas_keyboard_event(event) {\n",
       "        return fig.key_event(event, event['data']);\n",
       "    }\n",
       "\n",
       "    canvas_div.keydown('key_press', canvas_keyboard_event);\n",
       "    canvas_div.keyup('key_release', canvas_keyboard_event);\n",
       "    this.canvas_div = canvas_div\n",
       "    this._canvas_extra_style(canvas_div)\n",
       "    this.root.append(canvas_div);\n",
       "\n",
       "    var canvas = $('<canvas/>');\n",
       "    canvas.addClass('mpl-canvas');\n",
       "    canvas.attr('style', \"left: 0; top: 0; z-index: 0; outline: 0\")\n",
       "\n",
       "    this.canvas = canvas[0];\n",
       "    this.context = canvas[0].getContext(\"2d\");\n",
       "\n",
       "    var backingStore = this.context.backingStorePixelRatio ||\n",
       "\tthis.context.webkitBackingStorePixelRatio ||\n",
       "\tthis.context.mozBackingStorePixelRatio ||\n",
       "\tthis.context.msBackingStorePixelRatio ||\n",
       "\tthis.context.oBackingStorePixelRatio ||\n",
       "\tthis.context.backingStorePixelRatio || 1;\n",
       "\n",
       "    mpl.ratio = (window.devicePixelRatio || 1) / backingStore;\n",
       "\n",
       "    var rubberband = $('<canvas/>');\n",
       "    rubberband.attr('style', \"position: absolute; left: 0; top: 0; z-index: 1;\")\n",
       "\n",
       "    var pass_mouse_events = true;\n",
       "\n",
       "    canvas_div.resizable({\n",
       "        start: function(event, ui) {\n",
       "            pass_mouse_events = false;\n",
       "        },\n",
       "        resize: function(event, ui) {\n",
       "            fig.request_resize(ui.size.width, ui.size.height);\n",
       "        },\n",
       "        stop: function(event, ui) {\n",
       "            pass_mouse_events = true;\n",
       "            fig.request_resize(ui.size.width, ui.size.height);\n",
       "        },\n",
       "    });\n",
       "\n",
       "    function mouse_event_fn(event) {\n",
       "        if (pass_mouse_events)\n",
       "            return fig.mouse_event(event, event['data']);\n",
       "    }\n",
       "\n",
       "    rubberband.mousedown('button_press', mouse_event_fn);\n",
       "    rubberband.mouseup('button_release', mouse_event_fn);\n",
       "    // Throttle sequential mouse events to 1 every 20ms.\n",
       "    rubberband.mousemove('motion_notify', mouse_event_fn);\n",
       "\n",
       "    rubberband.mouseenter('figure_enter', mouse_event_fn);\n",
       "    rubberband.mouseleave('figure_leave', mouse_event_fn);\n",
       "\n",
       "    canvas_div.on(\"wheel\", function (event) {\n",
       "        event = event.originalEvent;\n",
       "        event['data'] = 'scroll'\n",
       "        if (event.deltaY < 0) {\n",
       "            event.step = 1;\n",
       "        } else {\n",
       "            event.step = -1;\n",
       "        }\n",
       "        mouse_event_fn(event);\n",
       "    });\n",
       "\n",
       "    canvas_div.append(canvas);\n",
       "    canvas_div.append(rubberband);\n",
       "\n",
       "    this.rubberband = rubberband;\n",
       "    this.rubberband_canvas = rubberband[0];\n",
       "    this.rubberband_context = rubberband[0].getContext(\"2d\");\n",
       "    this.rubberband_context.strokeStyle = \"#000000\";\n",
       "\n",
       "    this._resize_canvas = function(width, height) {\n",
       "        // Keep the size of the canvas, canvas container, and rubber band\n",
       "        // canvas in synch.\n",
       "        canvas_div.css('width', width)\n",
       "        canvas_div.css('height', height)\n",
       "\n",
       "        canvas.attr('width', width * mpl.ratio);\n",
       "        canvas.attr('height', height * mpl.ratio);\n",
       "        canvas.attr('style', 'width: ' + width + 'px; height: ' + height + 'px;');\n",
       "\n",
       "        rubberband.attr('width', width);\n",
       "        rubberband.attr('height', height);\n",
       "    }\n",
       "\n",
       "    // Set the figure to an initial 600x600px, this will subsequently be updated\n",
       "    // upon first draw.\n",
       "    this._resize_canvas(600, 600);\n",
       "\n",
       "    // Disable right mouse context menu.\n",
       "    $(this.rubberband_canvas).bind(\"contextmenu\",function(e){\n",
       "        return false;\n",
       "    });\n",
       "\n",
       "    function set_focus () {\n",
       "        canvas.focus();\n",
       "        canvas_div.focus();\n",
       "    }\n",
       "\n",
       "    window.setTimeout(set_focus, 100);\n",
       "}\n",
       "\n",
       "mpl.figure.prototype._init_toolbar = function() {\n",
       "    var fig = this;\n",
       "\n",
       "    var nav_element = $('<div/>');\n",
       "    nav_element.attr('style', 'width: 100%');\n",
       "    this.root.append(nav_element);\n",
       "\n",
       "    // Define a callback function for later on.\n",
       "    function toolbar_event(event) {\n",
       "        return fig.toolbar_button_onclick(event['data']);\n",
       "    }\n",
       "    function toolbar_mouse_event(event) {\n",
       "        return fig.toolbar_button_onmouseover(event['data']);\n",
       "    }\n",
       "\n",
       "    for(var toolbar_ind in mpl.toolbar_items) {\n",
       "        var name = mpl.toolbar_items[toolbar_ind][0];\n",
       "        var tooltip = mpl.toolbar_items[toolbar_ind][1];\n",
       "        var image = mpl.toolbar_items[toolbar_ind][2];\n",
       "        var method_name = mpl.toolbar_items[toolbar_ind][3];\n",
       "\n",
       "        if (!name) {\n",
       "            // put a spacer in here.\n",
       "            continue;\n",
       "        }\n",
       "        var button = $('<button/>');\n",
       "        button.addClass('ui-button ui-widget ui-state-default ui-corner-all ' +\n",
       "                        'ui-button-icon-only');\n",
       "        button.attr('role', 'button');\n",
       "        button.attr('aria-disabled', 'false');\n",
       "        button.click(method_name, toolbar_event);\n",
       "        button.mouseover(tooltip, toolbar_mouse_event);\n",
       "\n",
       "        var icon_img = $('<span/>');\n",
       "        icon_img.addClass('ui-button-icon-primary ui-icon');\n",
       "        icon_img.addClass(image);\n",
       "        icon_img.addClass('ui-corner-all');\n",
       "\n",
       "        var tooltip_span = $('<span/>');\n",
       "        tooltip_span.addClass('ui-button-text');\n",
       "        tooltip_span.html(tooltip);\n",
       "\n",
       "        button.append(icon_img);\n",
       "        button.append(tooltip_span);\n",
       "\n",
       "        nav_element.append(button);\n",
       "    }\n",
       "\n",
       "    var fmt_picker_span = $('<span/>');\n",
       "\n",
       "    var fmt_picker = $('<select/>');\n",
       "    fmt_picker.addClass('mpl-toolbar-option ui-widget ui-widget-content');\n",
       "    fmt_picker_span.append(fmt_picker);\n",
       "    nav_element.append(fmt_picker_span);\n",
       "    this.format_dropdown = fmt_picker[0];\n",
       "\n",
       "    for (var ind in mpl.extensions) {\n",
       "        var fmt = mpl.extensions[ind];\n",
       "        var option = $(\n",
       "            '<option/>', {selected: fmt === mpl.default_extension}).html(fmt);\n",
       "        fmt_picker.append(option);\n",
       "    }\n",
       "\n",
       "    // Add hover states to the ui-buttons\n",
       "    $( \".ui-button\" ).hover(\n",
       "        function() { $(this).addClass(\"ui-state-hover\");},\n",
       "        function() { $(this).removeClass(\"ui-state-hover\");}\n",
       "    );\n",
       "\n",
       "    var status_bar = $('<span class=\"mpl-message\"/>');\n",
       "    nav_element.append(status_bar);\n",
       "    this.message = status_bar[0];\n",
       "}\n",
       "\n",
       "mpl.figure.prototype.request_resize = function(x_pixels, y_pixels) {\n",
       "    // Request matplotlib to resize the figure. Matplotlib will then trigger a resize in the client,\n",
       "    // which will in turn request a refresh of the image.\n",
       "    this.send_message('resize', {'width': x_pixels, 'height': y_pixels});\n",
       "}\n",
       "\n",
       "mpl.figure.prototype.send_message = function(type, properties) {\n",
       "    properties['type'] = type;\n",
       "    properties['figure_id'] = this.id;\n",
       "    this.ws.send(JSON.stringify(properties));\n",
       "}\n",
       "\n",
       "mpl.figure.prototype.send_draw_message = function() {\n",
       "    if (!this.waiting) {\n",
       "        this.waiting = true;\n",
       "        this.ws.send(JSON.stringify({type: \"draw\", figure_id: this.id}));\n",
       "    }\n",
       "}\n",
       "\n",
       "\n",
       "mpl.figure.prototype.handle_save = function(fig, msg) {\n",
       "    var format_dropdown = fig.format_dropdown;\n",
       "    var format = format_dropdown.options[format_dropdown.selectedIndex].value;\n",
       "    fig.ondownload(fig, format);\n",
       "}\n",
       "\n",
       "\n",
       "mpl.figure.prototype.handle_resize = function(fig, msg) {\n",
       "    var size = msg['size'];\n",
       "    if (size[0] != fig.canvas.width || size[1] != fig.canvas.height) {\n",
       "        fig._resize_canvas(size[0], size[1]);\n",
       "        fig.send_message(\"refresh\", {});\n",
       "    };\n",
       "}\n",
       "\n",
       "mpl.figure.prototype.handle_rubberband = function(fig, msg) {\n",
       "    var x0 = msg['x0'] / mpl.ratio;\n",
       "    var y0 = (fig.canvas.height - msg['y0']) / mpl.ratio;\n",
       "    var x1 = msg['x1'] / mpl.ratio;\n",
       "    var y1 = (fig.canvas.height - msg['y1']) / mpl.ratio;\n",
       "    x0 = Math.floor(x0) + 0.5;\n",
       "    y0 = Math.floor(y0) + 0.5;\n",
       "    x1 = Math.floor(x1) + 0.5;\n",
       "    y1 = Math.floor(y1) + 0.5;\n",
       "    var min_x = Math.min(x0, x1);\n",
       "    var min_y = Math.min(y0, y1);\n",
       "    var width = Math.abs(x1 - x0);\n",
       "    var height = Math.abs(y1 - y0);\n",
       "\n",
       "    fig.rubberband_context.clearRect(\n",
       "        0, 0, fig.canvas.width / mpl.ratio, fig.canvas.height / mpl.ratio);\n",
       "\n",
       "    fig.rubberband_context.strokeRect(min_x, min_y, width, height);\n",
       "}\n",
       "\n",
       "mpl.figure.prototype.handle_figure_label = function(fig, msg) {\n",
       "    // Updates the figure title.\n",
       "    fig.header.textContent = msg['label'];\n",
       "}\n",
       "\n",
       "mpl.figure.prototype.handle_cursor = function(fig, msg) {\n",
       "    var cursor = msg['cursor'];\n",
       "    switch(cursor)\n",
       "    {\n",
       "    case 0:\n",
       "        cursor = 'pointer';\n",
       "        break;\n",
       "    case 1:\n",
       "        cursor = 'default';\n",
       "        break;\n",
       "    case 2:\n",
       "        cursor = 'crosshair';\n",
       "        break;\n",
       "    case 3:\n",
       "        cursor = 'move';\n",
       "        break;\n",
       "    }\n",
       "    fig.rubberband_canvas.style.cursor = cursor;\n",
       "}\n",
       "\n",
       "mpl.figure.prototype.handle_message = function(fig, msg) {\n",
       "    fig.message.textContent = msg['message'];\n",
       "}\n",
       "\n",
       "mpl.figure.prototype.handle_draw = function(fig, msg) {\n",
       "    // Request the server to send over a new figure.\n",
       "    fig.send_draw_message();\n",
       "}\n",
       "\n",
       "mpl.figure.prototype.handle_image_mode = function(fig, msg) {\n",
       "    fig.image_mode = msg['mode'];\n",
       "}\n",
       "\n",
       "mpl.figure.prototype.updated_canvas_event = function() {\n",
       "    // Called whenever the canvas gets updated.\n",
       "    this.send_message(\"ack\", {});\n",
       "}\n",
       "\n",
       "// A function to construct a web socket function for onmessage handling.\n",
       "// Called in the figure constructor.\n",
       "mpl.figure.prototype._make_on_message_function = function(fig) {\n",
       "    return function socket_on_message(evt) {\n",
       "        if (evt.data instanceof Blob) {\n",
       "            /* FIXME: We get \"Resource interpreted as Image but\n",
       "             * transferred with MIME type text/plain:\" errors on\n",
       "             * Chrome.  But how to set the MIME type?  It doesn't seem\n",
       "             * to be part of the websocket stream */\n",
       "            evt.data.type = \"image/png\";\n",
       "\n",
       "            /* Free the memory for the previous frames */\n",
       "            if (fig.imageObj.src) {\n",
       "                (window.URL || window.webkitURL).revokeObjectURL(\n",
       "                    fig.imageObj.src);\n",
       "            }\n",
       "\n",
       "            fig.imageObj.src = (window.URL || window.webkitURL).createObjectURL(\n",
       "                evt.data);\n",
       "            fig.updated_canvas_event();\n",
       "            fig.waiting = false;\n",
       "            return;\n",
       "        }\n",
       "        else if (typeof evt.data === 'string' && evt.data.slice(0, 21) == \"data:image/png;base64\") {\n",
       "            fig.imageObj.src = evt.data;\n",
       "            fig.updated_canvas_event();\n",
       "            fig.waiting = false;\n",
       "            return;\n",
       "        }\n",
       "\n",
       "        var msg = JSON.parse(evt.data);\n",
       "        var msg_type = msg['type'];\n",
       "\n",
       "        // Call the  \"handle_{type}\" callback, which takes\n",
       "        // the figure and JSON message as its only arguments.\n",
       "        try {\n",
       "            var callback = fig[\"handle_\" + msg_type];\n",
       "        } catch (e) {\n",
       "            console.log(\"No handler for the '\" + msg_type + \"' message type: \", msg);\n",
       "            return;\n",
       "        }\n",
       "\n",
       "        if (callback) {\n",
       "            try {\n",
       "                // console.log(\"Handling '\" + msg_type + \"' message: \", msg);\n",
       "                callback(fig, msg);\n",
       "            } catch (e) {\n",
       "                console.log(\"Exception inside the 'handler_\" + msg_type + \"' callback:\", e, e.stack, msg);\n",
       "            }\n",
       "        }\n",
       "    };\n",
       "}\n",
       "\n",
       "// from http://stackoverflow.com/questions/1114465/getting-mouse-location-in-canvas\n",
       "mpl.findpos = function(e) {\n",
       "    //this section is from http://www.quirksmode.org/js/events_properties.html\n",
       "    var targ;\n",
       "    if (!e)\n",
       "        e = window.event;\n",
       "    if (e.target)\n",
       "        targ = e.target;\n",
       "    else if (e.srcElement)\n",
       "        targ = e.srcElement;\n",
       "    if (targ.nodeType == 3) // defeat Safari bug\n",
       "        targ = targ.parentNode;\n",
       "\n",
       "    // jQuery normalizes the pageX and pageY\n",
       "    // pageX,Y are the mouse positions relative to the document\n",
       "    // offset() returns the position of the element relative to the document\n",
       "    var x = e.pageX - $(targ).offset().left;\n",
       "    var y = e.pageY - $(targ).offset().top;\n",
       "\n",
       "    return {\"x\": x, \"y\": y};\n",
       "};\n",
       "\n",
       "/*\n",
       " * return a copy of an object with only non-object keys\n",
       " * we need this to avoid circular references\n",
       " * http://stackoverflow.com/a/24161582/3208463\n",
       " */\n",
       "function simpleKeys (original) {\n",
       "  return Object.keys(original).reduce(function (obj, key) {\n",
       "    if (typeof original[key] !== 'object')\n",
       "        obj[key] = original[key]\n",
       "    return obj;\n",
       "  }, {});\n",
       "}\n",
       "\n",
       "mpl.figure.prototype.mouse_event = function(event, name) {\n",
       "    var canvas_pos = mpl.findpos(event)\n",
       "\n",
       "    if (name === 'button_press')\n",
       "    {\n",
       "        this.canvas.focus();\n",
       "        this.canvas_div.focus();\n",
       "    }\n",
       "\n",
       "    var x = canvas_pos.x * mpl.ratio;\n",
       "    var y = canvas_pos.y * mpl.ratio;\n",
       "\n",
       "    this.send_message(name, {x: x, y: y, button: event.button,\n",
       "                             step: event.step,\n",
       "                             guiEvent: simpleKeys(event)});\n",
       "\n",
       "    /* This prevents the web browser from automatically changing to\n",
       "     * the text insertion cursor when the button is pressed.  We want\n",
       "     * to control all of the cursor setting manually through the\n",
       "     * 'cursor' event from matplotlib */\n",
       "    event.preventDefault();\n",
       "    return false;\n",
       "}\n",
       "\n",
       "mpl.figure.prototype._key_event_extra = function(event, name) {\n",
       "    // Handle any extra behaviour associated with a key event\n",
       "}\n",
       "\n",
       "mpl.figure.prototype.key_event = function(event, name) {\n",
       "\n",
       "    // Prevent repeat events\n",
       "    if (name == 'key_press')\n",
       "    {\n",
       "        if (event.which === this._key)\n",
       "            return;\n",
       "        else\n",
       "            this._key = event.which;\n",
       "    }\n",
       "    if (name == 'key_release')\n",
       "        this._key = null;\n",
       "\n",
       "    var value = '';\n",
       "    if (event.ctrlKey && event.which != 17)\n",
       "        value += \"ctrl+\";\n",
       "    if (event.altKey && event.which != 18)\n",
       "        value += \"alt+\";\n",
       "    if (event.shiftKey && event.which != 16)\n",
       "        value += \"shift+\";\n",
       "\n",
       "    value += 'k';\n",
       "    value += event.which.toString();\n",
       "\n",
       "    this._key_event_extra(event, name);\n",
       "\n",
       "    this.send_message(name, {key: value,\n",
       "                             guiEvent: simpleKeys(event)});\n",
       "    return false;\n",
       "}\n",
       "\n",
       "mpl.figure.prototype.toolbar_button_onclick = function(name) {\n",
       "    if (name == 'download') {\n",
       "        this.handle_save(this, null);\n",
       "    } else {\n",
       "        this.send_message(\"toolbar_button\", {name: name});\n",
       "    }\n",
       "};\n",
       "\n",
       "mpl.figure.prototype.toolbar_button_onmouseover = function(tooltip) {\n",
       "    this.message.textContent = tooltip;\n",
       "};\n",
       "mpl.toolbar_items = [[\"Home\", \"Reset original view\", \"fa fa-home icon-home\", \"home\"], [\"Back\", \"Back to previous view\", \"fa fa-arrow-left icon-arrow-left\", \"back\"], [\"Forward\", \"Forward to next view\", \"fa fa-arrow-right icon-arrow-right\", \"forward\"], [\"\", \"\", \"\", \"\"], [\"Pan\", \"Pan axes with left mouse, zoom with right\", \"fa fa-arrows icon-move\", \"pan\"], [\"Zoom\", \"Zoom to rectangle\", \"fa fa-square-o icon-check-empty\", \"zoom\"], [\"\", \"\", \"\", \"\"], [\"Download\", \"Download plot\", \"fa fa-floppy-o icon-save\", \"download\"]];\n",
       "\n",
       "mpl.extensions = [\"eps\", \"jpeg\", \"pdf\", \"png\", \"ps\", \"raw\", \"svg\", \"tif\"];\n",
       "\n",
       "mpl.default_extension = \"png\";var comm_websocket_adapter = function(comm) {\n",
       "    // Create a \"websocket\"-like object which calls the given IPython comm\n",
       "    // object with the appropriate methods. Currently this is a non binary\n",
       "    // socket, so there is still some room for performance tuning.\n",
       "    var ws = {};\n",
       "\n",
       "    ws.close = function() {\n",
       "        comm.close()\n",
       "    };\n",
       "    ws.send = function(m) {\n",
       "        //console.log('sending', m);\n",
       "        comm.send(m);\n",
       "    };\n",
       "    // Register the callback with on_msg.\n",
       "    comm.on_msg(function(msg) {\n",
       "        //console.log('receiving', msg['content']['data'], msg);\n",
       "        // Pass the mpl event to the overridden (by mpl) onmessage function.\n",
       "        ws.onmessage(msg['content']['data'])\n",
       "    });\n",
       "    return ws;\n",
       "}\n",
       "\n",
       "mpl.mpl_figure_comm = function(comm, msg) {\n",
       "    // This is the function which gets called when the mpl process\n",
       "    // starts-up an IPython Comm through the \"matplotlib\" channel.\n",
       "\n",
       "    var id = msg.content.data.id;\n",
       "    // Get hold of the div created by the display call when the Comm\n",
       "    // socket was opened in Python.\n",
       "    var element = $(\"#\" + id);\n",
       "    var ws_proxy = comm_websocket_adapter(comm)\n",
       "\n",
       "    function ondownload(figure, format) {\n",
       "        window.open(figure.imageObj.src);\n",
       "    }\n",
       "\n",
       "    var fig = new mpl.figure(id, ws_proxy,\n",
       "                           ondownload,\n",
       "                           element.get(0));\n",
       "\n",
       "    // Call onopen now - mpl needs it, as it is assuming we've passed it a real\n",
       "    // web socket which is closed, not our websocket->open comm proxy.\n",
       "    ws_proxy.onopen();\n",
       "\n",
       "    fig.parent_element = element.get(0);\n",
       "    fig.cell_info = mpl.find_output_cell(\"<div id='\" + id + \"'></div>\");\n",
       "    if (!fig.cell_info) {\n",
       "        console.error(\"Failed to find cell for figure\", id, fig);\n",
       "        return;\n",
       "    }\n",
       "\n",
       "    var output_index = fig.cell_info[2]\n",
       "    var cell = fig.cell_info[0];\n",
       "\n",
       "};\n",
       "\n",
       "mpl.figure.prototype.handle_close = function(fig, msg) {\n",
       "    var width = fig.canvas.width/mpl.ratio\n",
       "    fig.root.unbind('remove')\n",
       "\n",
       "    // Update the output cell to use the data from the current canvas.\n",
       "    fig.push_to_output();\n",
       "    var dataURL = fig.canvas.toDataURL();\n",
       "    // Re-enable the keyboard manager in IPython - without this line, in FF,\n",
       "    // the notebook keyboard shortcuts fail.\n",
       "    IPython.keyboard_manager.enable()\n",
       "    $(fig.parent_element).html('<img src=\"' + dataURL + '\" width=\"' + width + '\">');\n",
       "    fig.close_ws(fig, msg);\n",
       "}\n",
       "\n",
       "mpl.figure.prototype.close_ws = function(fig, msg){\n",
       "    fig.send_message('closing', msg);\n",
       "    // fig.ws.close()\n",
       "}\n",
       "\n",
       "mpl.figure.prototype.push_to_output = function(remove_interactive) {\n",
       "    // Turn the data on the canvas into data in the output cell.\n",
       "    var width = this.canvas.width/mpl.ratio\n",
       "    var dataURL = this.canvas.toDataURL();\n",
       "    this.cell_info[1]['text/html'] = '<img src=\"' + dataURL + '\" width=\"' + width + '\">';\n",
       "}\n",
       "\n",
       "mpl.figure.prototype.updated_canvas_event = function() {\n",
       "    // Tell IPython that the notebook contents must change.\n",
       "    IPython.notebook.set_dirty(true);\n",
       "    this.send_message(\"ack\", {});\n",
       "    var fig = this;\n",
       "    // Wait a second, then push the new image to the DOM so\n",
       "    // that it is saved nicely (might be nice to debounce this).\n",
       "    setTimeout(function () { fig.push_to_output() }, 1000);\n",
       "}\n",
       "\n",
       "mpl.figure.prototype._init_toolbar = function() {\n",
       "    var fig = this;\n",
       "\n",
       "    var nav_element = $('<div/>');\n",
       "    nav_element.attr('style', 'width: 100%');\n",
       "    this.root.append(nav_element);\n",
       "\n",
       "    // Define a callback function for later on.\n",
       "    function toolbar_event(event) {\n",
       "        return fig.toolbar_button_onclick(event['data']);\n",
       "    }\n",
       "    function toolbar_mouse_event(event) {\n",
       "        return fig.toolbar_button_onmouseover(event['data']);\n",
       "    }\n",
       "\n",
       "    for(var toolbar_ind in mpl.toolbar_items){\n",
       "        var name = mpl.toolbar_items[toolbar_ind][0];\n",
       "        var tooltip = mpl.toolbar_items[toolbar_ind][1];\n",
       "        var image = mpl.toolbar_items[toolbar_ind][2];\n",
       "        var method_name = mpl.toolbar_items[toolbar_ind][3];\n",
       "\n",
       "        if (!name) { continue; };\n",
       "\n",
       "        var button = $('<button class=\"btn btn-default\" href=\"#\" title=\"' + name + '\"><i class=\"fa ' + image + ' fa-lg\"></i></button>');\n",
       "        button.click(method_name, toolbar_event);\n",
       "        button.mouseover(tooltip, toolbar_mouse_event);\n",
       "        nav_element.append(button);\n",
       "    }\n",
       "\n",
       "    // Add the status bar.\n",
       "    var status_bar = $('<span class=\"mpl-message\" style=\"text-align:right; float: right;\"/>');\n",
       "    nav_element.append(status_bar);\n",
       "    this.message = status_bar[0];\n",
       "\n",
       "    // Add the close button to the window.\n",
       "    var buttongrp = $('<div class=\"btn-group inline pull-right\"></div>');\n",
       "    var button = $('<button class=\"btn btn-mini btn-primary\" href=\"#\" title=\"Stop Interaction\"><i class=\"fa fa-power-off icon-remove icon-large\"></i></button>');\n",
       "    button.click(function (evt) { fig.handle_close(fig, {}); } );\n",
       "    button.mouseover('Stop Interaction', toolbar_mouse_event);\n",
       "    buttongrp.append(button);\n",
       "    var titlebar = this.root.find($('.ui-dialog-titlebar'));\n",
       "    titlebar.prepend(buttongrp);\n",
       "}\n",
       "\n",
       "mpl.figure.prototype._root_extra_style = function(el){\n",
       "    var fig = this\n",
       "    el.on(\"remove\", function(){\n",
       "\tfig.close_ws(fig, {});\n",
       "    });\n",
       "}\n",
       "\n",
       "mpl.figure.prototype._canvas_extra_style = function(el){\n",
       "    // this is important to make the div 'focusable\n",
       "    el.attr('tabindex', 0)\n",
       "    // reach out to IPython and tell the keyboard manager to turn it's self\n",
       "    // off when our div gets focus\n",
       "\n",
       "    // location in version 3\n",
       "    if (IPython.notebook.keyboard_manager) {\n",
       "        IPython.notebook.keyboard_manager.register_events(el);\n",
       "    }\n",
       "    else {\n",
       "        // location in version 2\n",
       "        IPython.keyboard_manager.register_events(el);\n",
       "    }\n",
       "\n",
       "}\n",
       "\n",
       "mpl.figure.prototype._key_event_extra = function(event, name) {\n",
       "    var manager = IPython.notebook.keyboard_manager;\n",
       "    if (!manager)\n",
       "        manager = IPython.keyboard_manager;\n",
       "\n",
       "    // Check for shift+enter\n",
       "    if (event.shiftKey && event.which == 13) {\n",
       "        this.canvas_div.blur();\n",
       "        // select the cell after this one\n",
       "        var index = IPython.notebook.find_cell_index(this.cell_info[0]);\n",
       "        IPython.notebook.select(index + 1);\n",
       "    }\n",
       "}\n",
       "\n",
       "mpl.figure.prototype.handle_save = function(fig, msg) {\n",
       "    fig.ondownload(fig, null);\n",
       "}\n",
       "\n",
       "\n",
       "mpl.find_output_cell = function(html_output) {\n",
       "    // Return the cell and output element which can be found *uniquely* in the notebook.\n",
       "    // Note - this is a bit hacky, but it is done because the \"notebook_saving.Notebook\"\n",
       "    // IPython event is triggered only after the cells have been serialised, which for\n",
       "    // our purposes (turning an active figure into a static one), is too late.\n",
       "    var cells = IPython.notebook.get_cells();\n",
       "    var ncells = cells.length;\n",
       "    for (var i=0; i<ncells; i++) {\n",
       "        var cell = cells[i];\n",
       "        if (cell.cell_type === 'code'){\n",
       "            for (var j=0; j<cell.output_area.outputs.length; j++) {\n",
       "                var data = cell.output_area.outputs[j];\n",
       "                if (data.data) {\n",
       "                    // IPython >= 3 moved mimebundle to data attribute of output\n",
       "                    data = data.data;\n",
       "                }\n",
       "                if (data['text/html'] == html_output) {\n",
       "                    return [cell, data, j];\n",
       "                }\n",
       "            }\n",
       "        }\n",
       "    }\n",
       "}\n",
       "\n",
       "// Register the function which deals with the matplotlib target/channel.\n",
       "// The kernel may be null if the page has been refreshed.\n",
       "if (IPython.notebook.kernel != null) {\n",
       "    IPython.notebook.kernel.comm_manager.register_target('matplotlib', mpl.mpl_figure_comm);\n",
       "}\n"
      ],
      "text/plain": [
       "<IPython.core.display.Javascript object>"
      ]
     },
     "metadata": {},
     "output_type": "display_data"
    },
    {
     "data": {
      "text/html": [
       "<img src=\"data:image/png;base64,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\" width=\"640\">"
      ],
      "text/plain": [
       "<IPython.core.display.HTML object>"
      ]
     },
     "metadata": {},
     "output_type": "display_data"
    }
   ],
   "source": [
    "plt.hist(keywords_df['count'], bins=50, log=True)\n",
    "plt.grid(True)\n",
    "plt.show()"
   ]
  },
  {
   "cell_type": "code",
   "execution_count": 20,
   "metadata": {
    "ExecuteTime": {
     "end_time": "2020-09-23T11:01:12.763209Z",
     "start_time": "2020-09-23T11:00:56.113951Z"
    }
   },
   "outputs": [
    {
     "data": {
      "text/html": [
       "<div>\n",
       "<style scoped>\n",
       "    .dataframe tbody tr th:only-of-type {\n",
       "        vertical-align: middle;\n",
       "    }\n",
       "\n",
       "    .dataframe tbody tr th {\n",
       "        vertical-align: top;\n",
       "    }\n",
       "\n",
       "    .dataframe thead th {\n",
       "        text-align: right;\n",
       "    }\n",
       "</style>\n",
       "<table border=\"1\" class=\"dataframe\">\n",
       "  <thead>\n",
       "    <tr style=\"text-align: right;\">\n",
       "      <th></th>\n",
       "      <th>name</th>\n",
       "      <th>count</th>\n",
       "      <th>gender</th>\n",
       "      <th>profile_path</th>\n",
       "    </tr>\n",
       "  </thead>\n",
       "  <tbody>\n",
       "    <tr>\n",
       "      <th>121323</th>\n",
       "      <td>Bess Flowers</td>\n",
       "      <td>241</td>\n",
       "      <td>1</td>\n",
       "      <td>/akbW8jJl8GSXFpixFaobMOqvNv4.jpg</td>\n",
       "    </tr>\n",
       "    <tr>\n",
       "      <th>113</th>\n",
       "      <td>Christopher Lee</td>\n",
       "      <td>148</td>\n",
       "      <td>2</td>\n",
       "      <td>/aVzp6zflzedmdKPLxaPqcZ05PDK.jpg</td>\n",
       "    </tr>\n",
       "    <tr>\n",
       "      <th>4165</th>\n",
       "      <td>John Wayne</td>\n",
       "      <td>125</td>\n",
       "      <td>2</td>\n",
       "      <td>/iw9gHSQj1l3TQeiJb5tNK2N8k2w.jpg</td>\n",
       "    </tr>\n",
       "    <tr>\n",
       "      <th>2231</th>\n",
       "      <td>Samuel L. Jackson</td>\n",
       "      <td>123</td>\n",
       "      <td>2</td>\n",
       "      <td>/AvCReLikjzYEf9XjTQxbv3JWgKT.jpg</td>\n",
       "    </tr>\n",
       "    <tr>\n",
       "      <th>3895</th>\n",
       "      <td>Michael Caine</td>\n",
       "      <td>110</td>\n",
       "      <td>2</td>\n",
       "      <td>/vvj0JMSFpOajXCE46Hy4dyqSP2U.jpg</td>\n",
       "    </tr>\n",
       "    <tr>\n",
       "      <th>...</th>\n",
       "      <td>...</td>\n",
       "      <td>...</td>\n",
       "      <td>...</td>\n",
       "      <td>...</td>\n",
       "    </tr>\n",
       "    <tr>\n",
       "      <th>587632</th>\n",
       "      <td>Kim Mi-Kyung</td>\n",
       "      <td>1</td>\n",
       "      <td>1</td>\n",
       "      <td>/bRLtZnO0epZSMkTvOYyi6I4woDH.jpg</td>\n",
       "    </tr>\n",
       "    <tr>\n",
       "      <th>587641</th>\n",
       "      <td>Sa-Hee</td>\n",
       "      <td>1</td>\n",
       "      <td>0</td>\n",
       "      <td>/4yQTMDd1ltqiUDCC5jqaHpu5INk.jpg</td>\n",
       "    </tr>\n",
       "    <tr>\n",
       "      <th>186018</th>\n",
       "      <td>Jack Elliott</td>\n",
       "      <td>1</td>\n",
       "      <td>0</td>\n",
       "      <td>None</td>\n",
       "    </tr>\n",
       "    <tr>\n",
       "      <th>1179594</th>\n",
       "      <td>Odetta</td>\n",
       "      <td>1</td>\n",
       "      <td>0</td>\n",
       "      <td>None</td>\n",
       "    </tr>\n",
       "    <tr>\n",
       "      <th>1261758</th>\n",
       "      <td>Aleksandr Chabrov</td>\n",
       "      <td>1</td>\n",
       "      <td>0</td>\n",
       "      <td>None</td>\n",
       "    </tr>\n",
       "  </tbody>\n",
       "</table>\n",
       "<p>206158 rows × 4 columns</p>\n",
       "</div>"
      ],
      "text/plain": [
       "                      name  count gender                      profile_path\n",
       "121323        Bess Flowers    241      1  /akbW8jJl8GSXFpixFaobMOqvNv4.jpg\n",
       "113        Christopher Lee    148      2  /aVzp6zflzedmdKPLxaPqcZ05PDK.jpg\n",
       "4165            John Wayne    125      2  /iw9gHSQj1l3TQeiJb5tNK2N8k2w.jpg\n",
       "2231     Samuel L. Jackson    123      2  /AvCReLikjzYEf9XjTQxbv3JWgKT.jpg\n",
       "3895         Michael Caine    110      2  /vvj0JMSFpOajXCE46Hy4dyqSP2U.jpg\n",
       "...                    ...    ...    ...                               ...\n",
       "587632        Kim Mi-Kyung      1      1  /bRLtZnO0epZSMkTvOYyi6I4woDH.jpg\n",
       "587641              Sa-Hee      1      0  /4yQTMDd1ltqiUDCC5jqaHpu5INk.jpg\n",
       "186018        Jack Elliott      1      0                              None\n",
       "1179594             Odetta      1      0                              None\n",
       "1261758  Aleksandr Chabrov      1      0                              None\n",
       "\n",
       "[206158 rows x 4 columns]"
      ]
     },
     "execution_count": 20,
     "metadata": {},
     "output_type": "execute_result"
    }
   ],
   "source": [
    "cast_df = inspect_entities('cast', include_cols=['gender', 'profile_path'])\n",
    "cast_df"
   ]
  },
  {
   "cell_type": "code",
   "execution_count": 21,
   "metadata": {
    "ExecuteTime": {
     "end_time": "2020-09-23T11:01:26.417705Z",
     "start_time": "2020-09-23T11:01:12.765196Z"
    },
    "scrolled": true
   },
   "outputs": [
    {
     "data": {
      "text/html": [
       "<div>\n",
       "<style scoped>\n",
       "    .dataframe tbody tr th:only-of-type {\n",
       "        vertical-align: middle;\n",
       "    }\n",
       "\n",
       "    .dataframe tbody tr th {\n",
       "        vertical-align: top;\n",
       "    }\n",
       "\n",
       "    .dataframe thead th {\n",
       "        text-align: right;\n",
       "    }\n",
       "</style>\n",
       "<table border=\"1\" class=\"dataframe\">\n",
       "  <thead>\n",
       "    <tr style=\"text-align: right;\">\n",
       "      <th></th>\n",
       "      <th>name</th>\n",
       "      <th>count</th>\n",
       "      <th>gender</th>\n",
       "      <th>department</th>\n",
       "      <th>job</th>\n",
       "      <th>profile_path</th>\n",
       "    </tr>\n",
       "  </thead>\n",
       "  <tbody>\n",
       "    <tr>\n",
       "      <th>9062</th>\n",
       "      <td>Cedric Gibbons</td>\n",
       "      <td>272</td>\n",
       "      <td>2</td>\n",
       "      <td>Art</td>\n",
       "      <td>Art Direction</td>\n",
       "      <td>/w8tc9iVH87Iu1KKFDZ9B99NhnBc.jpg</td>\n",
       "    </tr>\n",
       "    <tr>\n",
       "      <th>2952</th>\n",
       "      <td>Avy Kaufman</td>\n",
       "      <td>184</td>\n",
       "      <td>1</td>\n",
       "      <td>Production</td>\n",
       "      <td>Casting</td>\n",
       "      <td>/yQPGktsmkKkhkOQAUlmYlxHJOiJ.jpg</td>\n",
       "    </tr>\n",
       "    <tr>\n",
       "      <th>4350</th>\n",
       "      <td>Edith Head</td>\n",
       "      <td>165</td>\n",
       "      <td>1</td>\n",
       "      <td>Costume &amp; Make-Up</td>\n",
       "      <td>Costume Design</td>\n",
       "      <td>/63ZeXQOh26sGa8nTbYWntieyWrz.jpg</td>\n",
       "    </tr>\n",
       "    <tr>\n",
       "      <th>102429</th>\n",
       "      <td>Roger Corman</td>\n",
       "      <td>155</td>\n",
       "      <td>2</td>\n",
       "      <td>Production</td>\n",
       "      <td>Executive Producer</td>\n",
       "      <td>/gCfEvxl7jTv2dBo8HvwWVMi3auz.jpg</td>\n",
       "    </tr>\n",
       "    <tr>\n",
       "      <th>1259</th>\n",
       "      <td>Ennio Morricone</td>\n",
       "      <td>153</td>\n",
       "      <td>2</td>\n",
       "      <td>Sound</td>\n",
       "      <td>Music</td>\n",
       "      <td>/tlntfyflyEHgJTFjqIgg8P8UIx9.jpg</td>\n",
       "    </tr>\n",
       "    <tr>\n",
       "      <th>...</th>\n",
       "      <td>...</td>\n",
       "      <td>...</td>\n",
       "      <td>...</td>\n",
       "      <td>...</td>\n",
       "      <td>...</td>\n",
       "      <td>...</td>\n",
       "    </tr>\n",
       "    <tr>\n",
       "      <th>1782549</th>\n",
       "      <td>Vail Romeyn</td>\n",
       "      <td>1</td>\n",
       "      <td>1</td>\n",
       "      <td>Production</td>\n",
       "      <td>Production Supervisor</td>\n",
       "      <td>None</td>\n",
       "    </tr>\n",
       "    <tr>\n",
       "      <th>1782548</th>\n",
       "      <td>Justin Haut</td>\n",
       "      <td>1</td>\n",
       "      <td>0</td>\n",
       "      <td>Production</td>\n",
       "      <td>Production Coordinator</td>\n",
       "      <td>None</td>\n",
       "    </tr>\n",
       "    <tr>\n",
       "      <th>1782545</th>\n",
       "      <td>Adam Boor</td>\n",
       "      <td>1</td>\n",
       "      <td>0</td>\n",
       "      <td>Art</td>\n",
       "      <td>Location Scout</td>\n",
       "      <td>None</td>\n",
       "    </tr>\n",
       "    <tr>\n",
       "      <th>1782543</th>\n",
       "      <td>Jamie Stires</td>\n",
       "      <td>1</td>\n",
       "      <td>0</td>\n",
       "      <td>Production</td>\n",
       "      <td>Casting Associate</td>\n",
       "      <td>None</td>\n",
       "    </tr>\n",
       "    <tr>\n",
       "      <th>1344495</th>\n",
       "      <td>Daisy Asquith</td>\n",
       "      <td>1</td>\n",
       "      <td>0</td>\n",
       "      <td>Directing</td>\n",
       "      <td>Director</td>\n",
       "      <td>None</td>\n",
       "    </tr>\n",
       "  </tbody>\n",
       "</table>\n",
       "<p>161575 rows × 6 columns</p>\n",
       "</div>"
      ],
      "text/plain": [
       "                    name  count gender         department  \\\n",
       "9062      Cedric Gibbons    272      2                Art   \n",
       "2952         Avy Kaufman    184      1         Production   \n",
       "4350          Edith Head    165      1  Costume & Make-Up   \n",
       "102429      Roger Corman    155      2         Production   \n",
       "1259     Ennio Morricone    153      2              Sound   \n",
       "...                  ...    ...    ...                ...   \n",
       "1782549      Vail Romeyn      1      1         Production   \n",
       "1782548      Justin Haut      1      0         Production   \n",
       "1782545        Adam Boor      1      0                Art   \n",
       "1782543     Jamie Stires      1      0         Production   \n",
       "1344495    Daisy Asquith      1      0          Directing   \n",
       "\n",
       "                            job                      profile_path  \n",
       "9062              Art Direction  /w8tc9iVH87Iu1KKFDZ9B99NhnBc.jpg  \n",
       "2952                    Casting  /yQPGktsmkKkhkOQAUlmYlxHJOiJ.jpg  \n",
       "4350             Costume Design  /63ZeXQOh26sGa8nTbYWntieyWrz.jpg  \n",
       "102429       Executive Producer  /gCfEvxl7jTv2dBo8HvwWVMi3auz.jpg  \n",
       "1259                      Music  /tlntfyflyEHgJTFjqIgg8P8UIx9.jpg  \n",
       "...                         ...                               ...  \n",
       "1782549   Production Supervisor                              None  \n",
       "1782548  Production Coordinator                              None  \n",
       "1782545          Location Scout                              None  \n",
       "1782543       Casting Associate                              None  \n",
       "1344495                Director                              None  \n",
       "\n",
       "[161575 rows x 6 columns]"
      ]
     },
     "execution_count": 21,
     "metadata": {},
     "output_type": "execute_result"
    }
   ],
   "source": [
    "# Note: assume the same person will be in the same department and the same job for simplicity (which is NOT true) \n",
    "crew_df = inspect_entities('crew', include_cols=['gender', 'department', 'job', 'profile_path'])\n",
    "crew_df"
   ]
  },
  {
   "cell_type": "code",
   "execution_count": 22,
   "metadata": {
    "ExecuteTime": {
     "end_time": "2020-09-23T11:01:31.212333Z",
     "start_time": "2020-09-23T11:01:26.419861Z"
    }
   },
   "outputs": [
    {
     "data": {
      "text/html": [
       "<div>\n",
       "<style scoped>\n",
       "    .dataframe tbody tr th:only-of-type {\n",
       "        vertical-align: middle;\n",
       "    }\n",
       "\n",
       "    .dataframe tbody tr th {\n",
       "        vertical-align: top;\n",
       "    }\n",
       "\n",
       "    .dataframe thead th {\n",
       "        text-align: right;\n",
       "    }\n",
       "</style>\n",
       "<table border=\"1\" class=\"dataframe\">\n",
       "  <thead>\n",
       "    <tr style=\"text-align: right;\">\n",
       "      <th></th>\n",
       "      <th>name</th>\n",
       "      <th>count</th>\n",
       "    </tr>\n",
       "  </thead>\n",
       "  <tbody>\n",
       "    <tr>\n",
       "      <th>6194</th>\n",
       "      <td>Warner Bros.</td>\n",
       "      <td>1250</td>\n",
       "    </tr>\n",
       "    <tr>\n",
       "      <th>8411</th>\n",
       "      <td>Metro-Goldwyn-Mayer (MGM)</td>\n",
       "      <td>1074</td>\n",
       "    </tr>\n",
       "    <tr>\n",
       "      <th>4</th>\n",
       "      <td>Paramount Pictures</td>\n",
       "      <td>1001</td>\n",
       "    </tr>\n",
       "    <tr>\n",
       "      <th>306</th>\n",
       "      <td>Twentieth Century Fox Film Corporation</td>\n",
       "      <td>836</td>\n",
       "    </tr>\n",
       "    <tr>\n",
       "      <th>33</th>\n",
       "      <td>Universal Pictures</td>\n",
       "      <td>830</td>\n",
       "    </tr>\n",
       "    <tr>\n",
       "      <th>...</th>\n",
       "      <td>...</td>\n",
       "      <td>...</td>\n",
       "    </tr>\n",
       "    <tr>\n",
       "      <th>26338</th>\n",
       "      <td>Atrium Productions</td>\n",
       "      <td>1</td>\n",
       "    </tr>\n",
       "    <tr>\n",
       "      <th>21332</th>\n",
       "      <td>Eye Entertainment</td>\n",
       "      <td>1</td>\n",
       "    </tr>\n",
       "    <tr>\n",
       "      <th>64891</th>\n",
       "      <td>Ombadsman</td>\n",
       "      <td>1</td>\n",
       "    </tr>\n",
       "    <tr>\n",
       "      <th>618</th>\n",
       "      <td>Deutsche Filmvertriebs GmbH</td>\n",
       "      <td>1</td>\n",
       "    </tr>\n",
       "    <tr>\n",
       "      <th>88753</th>\n",
       "      <td>Yermoliev</td>\n",
       "      <td>1</td>\n",
       "    </tr>\n",
       "  </tbody>\n",
       "</table>\n",
       "<p>23692 rows × 2 columns</p>\n",
       "</div>"
      ],
      "text/plain": [
       "                                         name  count\n",
       "6194                             Warner Bros.   1250\n",
       "8411                Metro-Goldwyn-Mayer (MGM)   1074\n",
       "4                          Paramount Pictures   1001\n",
       "306    Twentieth Century Fox Film Corporation    836\n",
       "33                         Universal Pictures    830\n",
       "...                                       ...    ...\n",
       "26338                      Atrium Productions      1\n",
       "21332                       Eye Entertainment      1\n",
       "64891                               Ombadsman      1\n",
       "618               Deutsche Filmvertriebs GmbH      1\n",
       "88753                               Yermoliev      1\n",
       "\n",
       "[23692 rows x 2 columns]"
      ]
     },
     "execution_count": 22,
     "metadata": {},
     "output_type": "execute_result"
    }
   ],
   "source": [
    "prod_comp_df = inspect_entities('production_companies')\n",
    "prod_comp_df"
   ]
  },
  {
   "cell_type": "code",
   "execution_count": 23,
   "metadata": {
    "ExecuteTime": {
     "end_time": "2020-09-23T11:01:34.504203Z",
     "start_time": "2020-09-23T11:01:31.214220Z"
    }
   },
   "outputs": [
    {
     "data": {
      "text/html": [
       "<div>\n",
       "<style scoped>\n",
       "    .dataframe tbody tr th:only-of-type {\n",
       "        vertical-align: middle;\n",
       "    }\n",
       "\n",
       "    .dataframe tbody tr th {\n",
       "        vertical-align: top;\n",
       "    }\n",
       "\n",
       "    .dataframe thead th {\n",
       "        text-align: right;\n",
       "    }\n",
       "</style>\n",
       "<table border=\"1\" class=\"dataframe\">\n",
       "  <thead>\n",
       "    <tr style=\"text-align: right;\">\n",
       "      <th></th>\n",
       "      <th>name</th>\n",
       "      <th>count</th>\n",
       "    </tr>\n",
       "  </thead>\n",
       "  <tbody>\n",
       "    <tr>\n",
       "      <th>US</th>\n",
       "      <td>United States of America</td>\n",
       "      <td>21140</td>\n",
       "    </tr>\n",
       "    <tr>\n",
       "      <th>GB</th>\n",
       "      <td>United Kingdom</td>\n",
       "      <td>4091</td>\n",
       "    </tr>\n",
       "    <tr>\n",
       "      <th>FR</th>\n",
       "      <td>France</td>\n",
       "      <td>3932</td>\n",
       "    </tr>\n",
       "    <tr>\n",
       "      <th>DE</th>\n",
       "      <td>Germany</td>\n",
       "      <td>2249</td>\n",
       "    </tr>\n",
       "    <tr>\n",
       "      <th>IT</th>\n",
       "      <td>Italy</td>\n",
       "      <td>2166</td>\n",
       "    </tr>\n",
       "    <tr>\n",
       "      <th>...</th>\n",
       "      <td>...</td>\n",
       "      <td>...</td>\n",
       "    </tr>\n",
       "    <tr>\n",
       "      <th>MG</th>\n",
       "      <td>Madagascar</td>\n",
       "      <td>1</td>\n",
       "    </tr>\n",
       "    <tr>\n",
       "      <th>SO</th>\n",
       "      <td>Somalia</td>\n",
       "      <td>1</td>\n",
       "    </tr>\n",
       "    <tr>\n",
       "      <th>KW</th>\n",
       "      <td>Kuwait</td>\n",
       "      <td>1</td>\n",
       "    </tr>\n",
       "    <tr>\n",
       "      <th>MQ</th>\n",
       "      <td>Martinique</td>\n",
       "      <td>1</td>\n",
       "    </tr>\n",
       "    <tr>\n",
       "      <th>GN</th>\n",
       "      <td>Guinea</td>\n",
       "      <td>1</td>\n",
       "    </tr>\n",
       "  </tbody>\n",
       "</table>\n",
       "<p>161 rows × 2 columns</p>\n",
       "</div>"
      ],
      "text/plain": [
       "                        name  count\n",
       "US  United States of America  21140\n",
       "GB            United Kingdom   4091\n",
       "FR                    France   3932\n",
       "DE                   Germany   2249\n",
       "IT                     Italy   2166\n",
       "..                       ...    ...\n",
       "MG                Madagascar      1\n",
       "SO                   Somalia      1\n",
       "KW                    Kuwait      1\n",
       "MQ                Martinique      1\n",
       "GN                    Guinea      1\n",
       "\n",
       "[161 rows x 2 columns]"
      ]
     },
     "execution_count": 23,
     "metadata": {},
     "output_type": "execute_result"
    }
   ],
   "source": [
    "prod_countries_df = inspect_entities('production_countries', id_col='iso_3166_1')\n",
    "prod_countries_df"
   ]
  },
  {
   "cell_type": "code",
   "execution_count": 24,
   "metadata": {
    "ExecuteTime": {
     "end_time": "2020-09-23T11:01:37.846562Z",
     "start_time": "2020-09-23T11:01:34.509935Z"
    }
   },
   "outputs": [
    {
     "data": {
      "text/html": [
       "<div>\n",
       "<style scoped>\n",
       "    .dataframe tbody tr th:only-of-type {\n",
       "        vertical-align: middle;\n",
       "    }\n",
       "\n",
       "    .dataframe tbody tr th {\n",
       "        vertical-align: top;\n",
       "    }\n",
       "\n",
       "    .dataframe thead th {\n",
       "        text-align: right;\n",
       "    }\n",
       "</style>\n",
       "<table border=\"1\" class=\"dataframe\">\n",
       "  <thead>\n",
       "    <tr style=\"text-align: right;\">\n",
       "      <th></th>\n",
       "      <th>name</th>\n",
       "      <th>count</th>\n",
       "    </tr>\n",
       "  </thead>\n",
       "  <tbody>\n",
       "    <tr>\n",
       "      <th>en</th>\n",
       "      <td>English</td>\n",
       "      <td>28727</td>\n",
       "    </tr>\n",
       "    <tr>\n",
       "      <th>fr</th>\n",
       "      <td>Français</td>\n",
       "      <td>4193</td>\n",
       "    </tr>\n",
       "    <tr>\n",
       "      <th>de</th>\n",
       "      <td>Deutsch</td>\n",
       "      <td>2624</td>\n",
       "    </tr>\n",
       "    <tr>\n",
       "      <th>es</th>\n",
       "      <td>Español</td>\n",
       "      <td>2413</td>\n",
       "    </tr>\n",
       "    <tr>\n",
       "      <th>it</th>\n",
       "      <td>Italiano</td>\n",
       "      <td>2366</td>\n",
       "    </tr>\n",
       "    <tr>\n",
       "      <th>...</th>\n",
       "      <td>...</td>\n",
       "      <td>...</td>\n",
       "    </tr>\n",
       "    <tr>\n",
       "      <th>ht</th>\n",
       "      <td></td>\n",
       "      <td>1</td>\n",
       "    </tr>\n",
       "    <tr>\n",
       "      <th>to</th>\n",
       "      <td></td>\n",
       "      <td>1</td>\n",
       "    </tr>\n",
       "    <tr>\n",
       "      <th>ty</th>\n",
       "      <td></td>\n",
       "      <td>1</td>\n",
       "    </tr>\n",
       "    <tr>\n",
       "      <th>kw</th>\n",
       "      <td></td>\n",
       "      <td>1</td>\n",
       "    </tr>\n",
       "    <tr>\n",
       "      <th>mh</th>\n",
       "      <td></td>\n",
       "      <td>1</td>\n",
       "    </tr>\n",
       "  </tbody>\n",
       "</table>\n",
       "<p>133 rows × 2 columns</p>\n",
       "</div>"
      ],
      "text/plain": [
       "        name  count\n",
       "en   English  28727\n",
       "fr  Français   4193\n",
       "de   Deutsch   2624\n",
       "es   Español   2413\n",
       "it  Italiano   2366\n",
       "..       ...    ...\n",
       "ht                1\n",
       "to                1\n",
       "ty                1\n",
       "kw                1\n",
       "mh                1\n",
       "\n",
       "[133 rows x 2 columns]"
      ]
     },
     "execution_count": 24,
     "metadata": {},
     "output_type": "execute_result"
    }
   ],
   "source": [
    "lang_df = inspect_entities('spoken_languages', id_col='iso_639_1')\n",
    "lang_df"
   ]
  },
  {
   "cell_type": "code",
   "execution_count": 25,
   "metadata": {
    "ExecuteTime": {
     "end_time": "2020-09-23T11:01:44.016264Z",
     "start_time": "2020-09-23T11:01:37.850234Z"
    }
   },
   "outputs": [
    {
     "name": "stderr",
     "output_type": "stream",
     "text": [
      "/Users/zipengliu/opt/anaconda3/lib/python3.7/site-packages/ipykernel_launcher.py:6: DeprecationWarning: The truth value of an empty array is ambiguous. Returning False, but in future this will result in an error. Use `array.size > 0` to check that an array is not empty.\n",
      "  \n"
     ]
    },
    {
     "data": {
      "text/html": [
       "<div>\n",
       "<style scoped>\n",
       "    .dataframe tbody tr th:only-of-type {\n",
       "        vertical-align: middle;\n",
       "    }\n",
       "\n",
       "    .dataframe tbody tr th {\n",
       "        vertical-align: top;\n",
       "    }\n",
       "\n",
       "    .dataframe thead th {\n",
       "        text-align: right;\n",
       "    }\n",
       "</style>\n",
       "<table border=\"1\" class=\"dataframe\">\n",
       "  <thead>\n",
       "    <tr style=\"text-align: right;\">\n",
       "      <th></th>\n",
       "      <th>name</th>\n",
       "      <th>count</th>\n",
       "      <th>poster_path</th>\n",
       "      <th>backdrop_path</th>\n",
       "    </tr>\n",
       "  </thead>\n",
       "  <tbody>\n",
       "    <tr>\n",
       "      <th>415931</th>\n",
       "      <td>The Bowery Boys</td>\n",
       "      <td>29</td>\n",
       "      <td>/q6sA4bzMT9cK7EEmXYwt7PNrL5h.jpg</td>\n",
       "      <td>/foe3kuiJmg5AklhtD3skWbaTMf2.jpg</td>\n",
       "    </tr>\n",
       "    <tr>\n",
       "      <th>421566</th>\n",
       "      <td>Totò Collection</td>\n",
       "      <td>27</td>\n",
       "      <td>/4ayJsjC3djGwU9eCWUokdBWvdLC.jpg</td>\n",
       "      <td>/jaUuprubvAxXLAY5hUfrNjxccUh.jpg</td>\n",
       "    </tr>\n",
       "    <tr>\n",
       "      <th>645</th>\n",
       "      <td>James Bond Collection</td>\n",
       "      <td>26</td>\n",
       "      <td>/HORpg5CSkmeQlAolx3bKMrKgfi.jpg</td>\n",
       "      <td>/6VcVl48kNKvdXOZfJPdarlUGOsk.jpg</td>\n",
       "    </tr>\n",
       "    <tr>\n",
       "      <th>96887</th>\n",
       "      <td>Zatôichi: The Blind Swordsman</td>\n",
       "      <td>26</td>\n",
       "      <td>/8Q31DAtmFJjhFTwQGXghBUCgWK2.jpg</td>\n",
       "      <td>/bY8gLImMR5Pr9PaG3ZpobfaAQ8N.jpg</td>\n",
       "    </tr>\n",
       "    <tr>\n",
       "      <th>37261</th>\n",
       "      <td>The Carry On Collection</td>\n",
       "      <td>25</td>\n",
       "      <td>/2P0HNrYgKDvirV8RCdT1rBSJdbJ.jpg</td>\n",
       "      <td>/38tF1LJN7ULeZAuAfP7beaPMfcl.jpg</td>\n",
       "    </tr>\n",
       "    <tr>\n",
       "      <th>...</th>\n",
       "      <td>...</td>\n",
       "      <td>...</td>\n",
       "      <td>...</td>\n",
       "      <td>...</td>\n",
       "    </tr>\n",
       "    <tr>\n",
       "      <th>147207</th>\n",
       "      <td>Glass Tiger collection</td>\n",
       "      <td>1</td>\n",
       "      <td>/f8h1V44zKFOFuW4DF56oV5ENu5r.jpg</td>\n",
       "      <td>/ehLhVlA5riW7xYTmefb7Hqf0hMd.jpg</td>\n",
       "    </tr>\n",
       "    <tr>\n",
       "      <th>260520</th>\n",
       "      <td>Kathleen Madigan Collection</td>\n",
       "      <td>1</td>\n",
       "      <td>None</td>\n",
       "      <td>None</td>\n",
       "    </tr>\n",
       "    <tr>\n",
       "      <th>268014</th>\n",
       "      <td>The Big Bottom Box</td>\n",
       "      <td>1</td>\n",
       "      <td>/5i9awYAZqAAleGx8JFTVZILnXMx.jpg</td>\n",
       "      <td>None</td>\n",
       "    </tr>\n",
       "    <tr>\n",
       "      <th>479549</th>\n",
       "      <td>Joséphine - Saga</td>\n",
       "      <td>1</td>\n",
       "      <td>/yxp6kDbIAbDzyoUkAONISnc2Zfj.jpg</td>\n",
       "      <td>/29ETFnPUNcsH9r7MflZ3Op0APJi.jpg</td>\n",
       "    </tr>\n",
       "    <tr>\n",
       "      <th>200641</th>\n",
       "      <td>Red Lotus Collection</td>\n",
       "      <td>1</td>\n",
       "      <td>/yf9Eod9ANXyHTzDpAxz9ezgvlL4.jpg</td>\n",
       "      <td>/3fhHbLeO3DqdHvgHg5szs399eBb.jpg</td>\n",
       "    </tr>\n",
       "  </tbody>\n",
       "</table>\n",
       "<p>1695 rows × 4 columns</p>\n",
       "</div>"
      ],
      "text/plain": [
       "                                 name  count  \\\n",
       "415931                The Bowery Boys     29   \n",
       "421566                Totò Collection     27   \n",
       "645             James Bond Collection     26   \n",
       "96887   Zatôichi: The Blind Swordsman     26   \n",
       "37261         The Carry On Collection     25   \n",
       "...                               ...    ...   \n",
       "147207         Glass Tiger collection      1   \n",
       "260520    Kathleen Madigan Collection      1   \n",
       "268014             The Big Bottom Box      1   \n",
       "479549               Joséphine - Saga      1   \n",
       "200641           Red Lotus Collection      1   \n",
       "\n",
       "                             poster_path                     backdrop_path  \n",
       "415931  /q6sA4bzMT9cK7EEmXYwt7PNrL5h.jpg  /foe3kuiJmg5AklhtD3skWbaTMf2.jpg  \n",
       "421566  /4ayJsjC3djGwU9eCWUokdBWvdLC.jpg  /jaUuprubvAxXLAY5hUfrNjxccUh.jpg  \n",
       "645      /HORpg5CSkmeQlAolx3bKMrKgfi.jpg  /6VcVl48kNKvdXOZfJPdarlUGOsk.jpg  \n",
       "96887   /8Q31DAtmFJjhFTwQGXghBUCgWK2.jpg  /bY8gLImMR5Pr9PaG3ZpobfaAQ8N.jpg  \n",
       "37261   /2P0HNrYgKDvirV8RCdT1rBSJdbJ.jpg  /38tF1LJN7ULeZAuAfP7beaPMfcl.jpg  \n",
       "...                                  ...                               ...  \n",
       "147207  /f8h1V44zKFOFuW4DF56oV5ENu5r.jpg  /ehLhVlA5riW7xYTmefb7Hqf0hMd.jpg  \n",
       "260520                              None                              None  \n",
       "268014  /5i9awYAZqAAleGx8JFTVZILnXMx.jpg                              None  \n",
       "479549  /yxp6kDbIAbDzyoUkAONISnc2Zfj.jpg  /29ETFnPUNcsH9r7MflZ3Op0APJi.jpg  \n",
       "200641  /yf9Eod9ANXyHTzDpAxz9ezgvlL4.jpg  /3fhHbLeO3DqdHvgHg5szs399eBb.jpg  \n",
       "\n",
       "[1695 rows x 4 columns]"
      ]
     },
     "execution_count": 25,
     "metadata": {},
     "output_type": "execute_result"
    }
   ],
   "source": [
    "collections_df = inspect_entities('belongs_to_collection', include_cols=['poster_path', 'backdrop_path'])\n",
    "collections_df"
   ]
  },
  {
   "cell_type": "code",
   "execution_count": 26,
   "metadata": {
    "ExecuteTime": {
     "end_time": "2020-09-23T11:01:50.528846Z",
     "start_time": "2020-09-23T11:01:44.017680Z"
    }
   },
   "outputs": [],
   "source": [
    "df.to_csv('combined_dataframe.csv')"
   ]
  },
  {
   "cell_type": "code",
   "execution_count": 27,
   "metadata": {
    "ExecuteTime": {
     "end_time": "2020-09-23T11:01:56.048038Z",
     "start_time": "2020-09-23T11:01:50.530670Z"
    }
   },
   "outputs": [],
   "source": [
    "ratings_df = pd.read_csv('ratings.csv')"
   ]
  },
  {
   "cell_type": "code",
   "execution_count": 28,
   "metadata": {
    "ExecuteTime": {
     "end_time": "2020-09-23T11:01:56.057714Z",
     "start_time": "2020-09-23T11:01:56.049835Z"
    }
   },
   "outputs": [
    {
     "data": {
      "text/html": [
       "<div>\n",
       "<style scoped>\n",
       "    .dataframe tbody tr th:only-of-type {\n",
       "        vertical-align: middle;\n",
       "    }\n",
       "\n",
       "    .dataframe tbody tr th {\n",
       "        vertical-align: top;\n",
       "    }\n",
       "\n",
       "    .dataframe thead th {\n",
       "        text-align: right;\n",
       "    }\n",
       "</style>\n",
       "<table border=\"1\" class=\"dataframe\">\n",
       "  <thead>\n",
       "    <tr style=\"text-align: right;\">\n",
       "      <th></th>\n",
       "      <th>userId</th>\n",
       "      <th>movieId</th>\n",
       "      <th>rating</th>\n",
       "      <th>timestamp</th>\n",
       "    </tr>\n",
       "  </thead>\n",
       "  <tbody>\n",
       "    <tr>\n",
       "      <th>0</th>\n",
       "      <td>1</td>\n",
       "      <td>110</td>\n",
       "      <td>1.0</td>\n",
       "      <td>1425941529</td>\n",
       "    </tr>\n",
       "    <tr>\n",
       "      <th>1</th>\n",
       "      <td>1</td>\n",
       "      <td>147</td>\n",
       "      <td>4.5</td>\n",
       "      <td>1425942435</td>\n",
       "    </tr>\n",
       "    <tr>\n",
       "      <th>2</th>\n",
       "      <td>1</td>\n",
       "      <td>858</td>\n",
       "      <td>5.0</td>\n",
       "      <td>1425941523</td>\n",
       "    </tr>\n",
       "    <tr>\n",
       "      <th>3</th>\n",
       "      <td>1</td>\n",
       "      <td>1221</td>\n",
       "      <td>5.0</td>\n",
       "      <td>1425941546</td>\n",
       "    </tr>\n",
       "    <tr>\n",
       "      <th>4</th>\n",
       "      <td>1</td>\n",
       "      <td>1246</td>\n",
       "      <td>5.0</td>\n",
       "      <td>1425941556</td>\n",
       "    </tr>\n",
       "  </tbody>\n",
       "</table>\n",
       "</div>"
      ],
      "text/plain": [
       "   userId  movieId  rating   timestamp\n",
       "0       1      110     1.0  1425941529\n",
       "1       1      147     4.5  1425942435\n",
       "2       1      858     5.0  1425941523\n",
       "3       1     1221     5.0  1425941546\n",
       "4       1     1246     5.0  1425941556"
      ]
     },
     "execution_count": 28,
     "metadata": {},
     "output_type": "execute_result"
    }
   ],
   "source": [
    "ratings_df.head()"
   ]
  },
  {
   "cell_type": "code",
   "execution_count": 29,
   "metadata": {
    "ExecuteTime": {
     "end_time": "2020-09-23T11:02:04.341553Z",
     "start_time": "2020-09-23T11:01:56.059197Z"
    }
   },
   "outputs": [],
   "source": [
    "ratings_df.set_index('movieId', drop=False, append=True, inplace=True)"
   ]
  },
  {
   "cell_type": "code",
   "execution_count": 30,
   "metadata": {
    "ExecuteTime": {
     "end_time": "2020-09-23T11:02:04.715051Z",
     "start_time": "2020-09-23T11:02:04.343345Z"
    }
   },
   "outputs": [
    {
     "data": {
      "text/html": [
       "<div>\n",
       "<style scoped>\n",
       "    .dataframe tbody tr th:only-of-type {\n",
       "        vertical-align: middle;\n",
       "    }\n",
       "\n",
       "    .dataframe tbody tr th {\n",
       "        vertical-align: top;\n",
       "    }\n",
       "\n",
       "    .dataframe thead th {\n",
       "        text-align: right;\n",
       "    }\n",
       "</style>\n",
       "<table border=\"1\" class=\"dataframe\">\n",
       "  <thead>\n",
       "    <tr style=\"text-align: right;\">\n",
       "      <th></th>\n",
       "      <th></th>\n",
       "      <th>userId</th>\n",
       "      <th>movieId</th>\n",
       "      <th>rating</th>\n",
       "      <th>timestamp</th>\n",
       "    </tr>\n",
       "    <tr>\n",
       "      <th></th>\n",
       "      <th>movieId</th>\n",
       "      <th></th>\n",
       "      <th></th>\n",
       "      <th></th>\n",
       "      <th></th>\n",
       "    </tr>\n",
       "  </thead>\n",
       "  <tbody>\n",
       "    <tr>\n",
       "      <th>189</th>\n",
       "      <th>79132</th>\n",
       "      <td>7</td>\n",
       "      <td>79132</td>\n",
       "      <td>3.0</td>\n",
       "      <td>1486253597</td>\n",
       "    </tr>\n",
       "    <tr>\n",
       "      <th>1112</th>\n",
       "      <th>79132</th>\n",
       "      <td>15</td>\n",
       "      <td>79132</td>\n",
       "      <td>2.0</td>\n",
       "      <td>1346008186</td>\n",
       "    </tr>\n",
       "    <tr>\n",
       "      <th>1269</th>\n",
       "      <th>79132</th>\n",
       "      <td>16</td>\n",
       "      <td>79132</td>\n",
       "      <td>4.0</td>\n",
       "      <td>1485645845</td>\n",
       "    </tr>\n",
       "    <tr>\n",
       "      <th>1560</th>\n",
       "      <th>79132</th>\n",
       "      <td>20</td>\n",
       "      <td>79132</td>\n",
       "      <td>3.5</td>\n",
       "      <td>1367493805</td>\n",
       "    </tr>\n",
       "    <tr>\n",
       "      <th>2486</th>\n",
       "      <th>79132</th>\n",
       "      <td>28</td>\n",
       "      <td>79132</td>\n",
       "      <td>4.5</td>\n",
       "      <td>1392410262</td>\n",
       "    </tr>\n",
       "    <tr>\n",
       "      <th>...</th>\n",
       "      <th>...</th>\n",
       "      <td>...</td>\n",
       "      <td>...</td>\n",
       "      <td>...</td>\n",
       "      <td>...</td>\n",
       "    </tr>\n",
       "    <tr>\n",
       "      <th>26019885</th>\n",
       "      <th>79132</th>\n",
       "      <td>270871</td>\n",
       "      <td>79132</td>\n",
       "      <td>3.5</td>\n",
       "      <td>1394316894</td>\n",
       "    </tr>\n",
       "    <tr>\n",
       "      <th>26020839</th>\n",
       "      <th>79132</th>\n",
       "      <td>270884</td>\n",
       "      <td>79132</td>\n",
       "      <td>4.5</td>\n",
       "      <td>1498251799</td>\n",
       "    </tr>\n",
       "    <tr>\n",
       "      <th>26021000</th>\n",
       "      <th>79132</th>\n",
       "      <td>270886</td>\n",
       "      <td>79132</td>\n",
       "      <td>3.0</td>\n",
       "      <td>1462313230</td>\n",
       "    </tr>\n",
       "    <tr>\n",
       "      <th>26022540</th>\n",
       "      <th>79132</th>\n",
       "      <td>270887</td>\n",
       "      <td>79132</td>\n",
       "      <td>5.0</td>\n",
       "      <td>1462996875</td>\n",
       "    </tr>\n",
       "    <tr>\n",
       "      <th>26023985</th>\n",
       "      <th>79132</th>\n",
       "      <td>270894</td>\n",
       "      <td>79132</td>\n",
       "      <td>4.5</td>\n",
       "      <td>1419821482</td>\n",
       "    </tr>\n",
       "  </tbody>\n",
       "</table>\n",
       "<p>35297 rows × 4 columns</p>\n",
       "</div>"
      ],
      "text/plain": [
       "                  userId  movieId  rating   timestamp\n",
       "         movieId                                     \n",
       "189      79132         7    79132     3.0  1486253597\n",
       "1112     79132        15    79132     2.0  1346008186\n",
       "1269     79132        16    79132     4.0  1485645845\n",
       "1560     79132        20    79132     3.5  1367493805\n",
       "2486     79132        28    79132     4.5  1392410262\n",
       "...                  ...      ...     ...         ...\n",
       "26019885 79132    270871    79132     3.5  1394316894\n",
       "26020839 79132    270884    79132     4.5  1498251799\n",
       "26021000 79132    270886    79132     3.0  1462313230\n",
       "26022540 79132    270887    79132     5.0  1462996875\n",
       "26023985 79132    270894    79132     4.5  1419821482\n",
       "\n",
       "[35297 rows x 4 columns]"
      ]
     },
     "execution_count": 30,
     "metadata": {},
     "output_type": "execute_result"
    }
   ],
   "source": [
    "ratings_df[ratings_df['movieId'] == 79132]"
   ]
  },
  {
   "cell_type": "code",
   "execution_count": 31,
   "metadata": {
    "ExecuteTime": {
     "end_time": "2020-09-23T11:02:04.719005Z",
     "start_time": "2020-09-23T11:02:04.716624Z"
    }
   },
   "outputs": [],
   "source": [
    "# Compute some attributes for users\n",
    "user_groups = ratings_df.groupby('userId')"
   ]
  },
  {
   "cell_type": "code",
   "execution_count": 32,
   "metadata": {
    "ExecuteTime": {
     "end_time": "2020-09-23T11:02:05.635238Z",
     "start_time": "2020-09-23T11:02:04.720590Z"
    }
   },
   "outputs": [],
   "source": [
    "user_rating_counts = user_groups['rating'].count()\n",
    "user_rating_mean = user_groups['rating'].mean()"
   ]
  },
  {
   "cell_type": "code",
   "execution_count": 33,
   "metadata": {
    "ExecuteTime": {
     "end_time": "2020-09-23T11:02:05.641036Z",
     "start_time": "2020-09-23T11:02:05.636851Z"
    }
   },
   "outputs": [
    {
     "data": {
      "text/plain": [
       "userId\n",
       "1          27\n",
       "2          22\n",
       "3          10\n",
       "4          62\n",
       "5          26\n",
       "         ... \n",
       "270892     75\n",
       "270893    190\n",
       "270894    148\n",
       "270895     20\n",
       "270896    260\n",
       "Name: rating, Length: 270896, dtype: int64"
      ]
     },
     "execution_count": 33,
     "metadata": {},
     "output_type": "execute_result"
    }
   ],
   "source": [
    "user_rating_counts"
   ]
  },
  {
   "cell_type": "markdown",
   "metadata": {},
   "source": [
    "## Sample and construct graphs"
   ]
  },
  {
   "cell_type": "code",
   "execution_count": 34,
   "metadata": {
    "ExecuteTime": {
     "end_time": "2020-09-23T11:02:05.645831Z",
     "start_time": "2020-09-23T11:02:05.642482Z"
    }
   },
   "outputs": [],
   "source": [
    "movie_cols = ['adult', 'budget', 'homepage',\n",
    "       'imdb_id', 'original_language', 'original_title', 'overview',\n",
    "       'popularity', 'poster_path', 'production_companies_cnt',\n",
    "       'production_countries_cnt', 'release_date', 'revenue', 'runtime',\n",
    "       'spoken_languages_cnt', 'status', 'tagline', 'title', 'video',\n",
    "       'vote_average', 'vote_count', 'keywords_cnt', 'cast_cnt', 'crew_cnt']\n",
    "\n",
    "# For types such as crew, cast, production companies, keywords, genres\n",
    "other_type_cols = ['count', 'gender', 'department', 'job', 'poster_path', 'backdrop_path']"
   ]
  },
  {
   "cell_type": "code",
   "execution_count": 35,
   "metadata": {
    "ExecuteTime": {
     "end_time": "2020-09-23T11:02:05.650233Z",
     "start_time": "2020-09-23T11:02:05.647239Z"
    }
   },
   "outputs": [],
   "source": [
    "other_type_df = {\n",
    "    'genres': genres_df,\n",
    "    'keywords': keywords_df,\n",
    "    'production_companies': prod_comp_df,\n",
    "    'production_countries': prod_countries_df,\n",
    "    'cast': cast_df,\n",
    "    'crew': crew_df,\n",
    "    'spoken_languages': lang_df,\n",
    "    'belongs_to_collection': collections_df\n",
    "}"
   ]
  },
  {
   "cell_type": "code",
   "execution_count": 36,
   "metadata": {
    "ExecuteTime": {
     "end_time": "2020-09-23T11:02:05.654985Z",
     "start_time": "2020-09-23T11:02:05.651611Z"
    }
   },
   "outputs": [],
   "source": [
    "# Get a dict of the attributes of a node (pandas.Series)\n",
    "def get_node_attributes(node, fields):\n",
    "    a = node.to_dict()\n",
    "    ret = {}\n",
    "    for f in fields:\n",
    "        if f in a:\n",
    "            ret[f] = int(a[f]) if f is 'count' else a[f]\n",
    "    return ret"
   ]
  },
  {
   "cell_type": "code",
   "execution_count": 37,
   "metadata": {
    "ExecuteTime": {
     "end_time": "2020-09-23T11:02:05.669759Z",
     "start_time": "2020-09-23T11:02:05.656399Z"
    }
   },
   "outputs": [],
   "source": [
    "def create_nodes_and_edges(df, output_dir, include_node_types, limits, with_ratings=None):\n",
    "    # Write the dataframe to disk for backup\n",
    "    if not os.path.exists(output_dir):\n",
    "        print('Create directory: ', output_dir)\n",
    "        os.makedirs(output_dir)\n",
    "    top_voted.to_csv(os.path.join(output_dir, 'dataframe.csv'))\n",
    "    \n",
    "    # Mapping from original id in the data table to the index in the nodes array\n",
    "    # We need to use a new index system because the original ids are separated for different entities\n",
    "    movie_mapping = {}\n",
    "    other_type_mapping = []\n",
    "    for i in range(len(include_node_types)):\n",
    "        other_type_mapping.append({})\n",
    "    if with_ratings:\n",
    "        other_type_mapping.append({})\n",
    "        \n",
    "#     edges = []\n",
    "#     nodes = []\n",
    "    g = nx.Graph()\n",
    "    node_idx = 0\n",
    "    edge_idx = 0\n",
    "    \n",
    "    for tmdb_id, m in top_voted.iterrows():\n",
    "        movie_id = links_df.loc[tmdb_id]['movieId']\n",
    "        # print('Processing movie ', movie_id, m['title'])\n",
    "#         nodes.append({'original_id': movie_id, 'label': m['original_title'], 'type': 'movie'})\n",
    "        g.add_node(node_idx, original_id=int(movie_id), label=m['original_title'], type='movie', \n",
    "                   **get_node_attributes(m, movie_cols))\n",
    "        movie_mapping[movie_id] = node_idx\n",
    "        node_idx += 1\n",
    "\n",
    "        for type_idx, t in enumerate(include_node_types):\n",
    "            # assuming it is an array \n",
    "            column_array = m[t][:limits[type_idx]] if limits[type_idx] > 0 else m[t]\n",
    "            for c in column_array:\n",
    "                if c['id'] not in other_type_mapping[type_idx]:\n",
    "#                     nodes.append({'original_id': c['id'], 'label': c['name'], 'type': t})\n",
    "                    # print(get_node_attributes(other_type_df[t].loc[c['id']], other_type_cols))\n",
    "                    g.add_node(node_idx, original_id=c['id'], label=c['name'], type=t,\n",
    "                              **get_node_attributes(other_type_df[t].loc[c['id']], other_type_cols))\n",
    "                    other_type_mapping[type_idx][c['id']] = node_idx\n",
    "                    node_idx += 1\n",
    "#                 edges.append({\n",
    "#                     'source': movie_mapping[movie_id], \n",
    "#                     'target': other_type_mapping[type_idx][c['id']], \n",
    "#                     'weight': 1.0\n",
    "#                 })\n",
    "                g.add_edge(movie_mapping[movie_id], other_type_mapping[type_idx][c['id']])\n",
    "                \n",
    "        if with_ratings:\n",
    "            for rid, r in ratings_df[ratings_df['movieId'] == movie_id].iloc[:with_ratings].iterrows():\n",
    "                if r['userId'] not in other_type_mapping[-1]:\n",
    "#                     nodes.append({'original_id': int(r['userId']), 'label': r['userId'], 'type': 'user'})\n",
    "                    uid = int(r['userId'])\n",
    "                    g.add_node(node_idx, original_id=uid, label=uid, type='user', avr=float(user_rating_mean[uid]), cnt=int(user_rating_counts[uid]))\n",
    "                    other_type_mapping[-1][r['userId']] = node_idx\n",
    "                    node_idx += 1\n",
    "#                 edges.append({\n",
    "#                     'source': movie_mapping[movie_id], \n",
    "#                     'target': other_type_mapping[-1][r['userId']], \n",
    "#                     'weight': r['rating']\n",
    "#                 })\n",
    "                g.add_edge(movie_mapping[movie_id], other_type_mapping[-1][r['userId']], weight=r['rating'])\n",
    "                # print(g.number_of_edges(), other_type_mapping[-1][r['userId']], g.degree[other_type_mapping[-1][r['userId']]])\n",
    "\n",
    "\n",
    "#     print(len(nodes), len(edges))\n",
    "    print('# nodes: ', g.number_of_nodes(), '\\t # edges: ', g.number_of_edges())\n",
    "    # Construct dataframes to emit\n",
    "#     nodes_df = pd.DataFrame(nodes)\n",
    "#     edges_df = pd.DataFrame(edges)\n",
    "#     nodes_df.to_csv(os.path.join(output_dir, 'nodes.csv'), index_label='node_index')\n",
    "#     edges_df.to_csv(os.path.join(output_dir, 'edges.csv'), index_label='edge_index')\n",
    "        \n",
    "    json_data = nx.node_link_data(g)\n",
    "    json.dump(json_data, open(os.path.join(output_dir, 'graph.json'), 'w'), indent=2, allow_nan=False)\n",
    "    return g"
   ]
  },
  {
   "cell_type": "markdown",
   "metadata": {},
   "source": [
    "### 1. small graph with 10 top voted movies, and top 5 cast, and top 5 production companies (3 node types)"
   ]
  },
  {
   "cell_type": "code",
   "execution_count": 38,
   "metadata": {
    "ExecuteTime": {
     "end_time": "2020-09-23T11:02:05.835838Z",
     "start_time": "2020-09-23T11:02:05.671868Z"
    }
   },
   "outputs": [
    {
     "name": "stdout",
     "output_type": "stream",
     "text": [
      "# nodes:  84 \t # edges:  87\n"
     ]
    }
   ],
   "source": [
    "top_voted = df.sort_values('vote_count', ascending=False).iloc[:10]\n",
    "g = create_nodes_and_edges(top_voted, './graphs/small-10-movies/', ['cast', 'production_companies'], [5, 5])"
   ]
  },
  {
   "cell_type": "markdown",
   "metadata": {},
   "source": [
    "### 2. medium-sized graph with 20 top voted movies, and top 5 cast,  top 3 production companies, genres, and keywords (5 node types)"
   ]
  },
  {
   "cell_type": "code",
   "execution_count": 39,
   "metadata": {
    "ExecuteTime": {
     "end_time": "2020-09-23T11:02:06.004895Z",
     "start_time": "2020-09-23T11:02:05.837689Z"
    }
   },
   "outputs": [
    {
     "name": "stdout",
     "output_type": "stream",
     "text": [
      "# nodes:  404 \t # edges:  536\n"
     ]
    }
   ],
   "source": [
    "top_voted = df.sort_values('vote_count', ascending=False).iloc[:20]\n",
    "g = create_nodes_and_edges(top_voted, './graphs/medium-20-movies/', \n",
    "                                            ['cast', 'production_companies', 'genres', 'keywords'], [5, 5, -1, -1])"
   ]
  },
  {
   "cell_type": "markdown",
   "metadata": {
    "ExecuteTime": {
     "end_time": "2019-11-12T02:28:04.365847Z",
     "start_time": "2019-11-12T02:28:04.354914Z"
    }
   },
   "source": [
    "### 3. medium-sized graph with 20 top voted movies, and top 5 cast,  top 3 production companies, genres, and 20 user ratings (5 node types)"
   ]
  },
  {
   "cell_type": "code",
   "execution_count": 40,
   "metadata": {
    "ExecuteTime": {
     "end_time": "2020-09-23T11:02:06.929359Z",
     "start_time": "2020-09-23T11:02:06.006479Z"
    }
   },
   "outputs": [
    {
     "name": "stdout",
     "output_type": "stream",
     "text": [
      "# nodes:  281 \t # edges:  629\n"
     ]
    }
   ],
   "source": [
    "top_voted = df.sort_values('vote_count', ascending=False).iloc[:20]\n",
    "g = create_nodes_and_edges(top_voted, './graphs/medium-20-movies-with-ratings/', \n",
    "                                            ['cast', 'production_companies', 'genres'], [5, 5, -1], 20)"
   ]
  },
  {
   "cell_type": "markdown",
   "metadata": {
    "ExecuteTime": {
     "end_time": "2019-11-12T02:47:56.324114Z",
     "start_time": "2019-11-12T02:47:56.319499Z"
    }
   },
   "source": [
    "### 4. large graph with 100 top voted movies, and top 10 cast,  top 3 production companies, genres, and 30 user ratings (5 node types)"
   ]
  },
  {
   "cell_type": "code",
   "execution_count": 41,
   "metadata": {
    "ExecuteTime": {
     "end_time": "2020-09-23T11:02:10.715207Z",
     "start_time": "2020-09-23T11:02:06.930827Z"
    }
   },
   "outputs": [
    {
     "name": "stdout",
     "output_type": "stream",
     "text": [
      "# nodes:  1388 \t # edges:  4629\n"
     ]
    }
   ],
   "source": [
    "top_voted = df.sort_values('vote_count', ascending=False).iloc[:100]\n",
    "g = create_nodes_and_edges(top_voted, './graphs/large-100-movies-with-ratings/', \n",
    "                                            ['cast', 'production_companies', 'genres'], [10, 5, -1], 30)"
   ]
  },
  {
   "cell_type": "markdown",
   "metadata": {},
   "source": [
    "### 5. large graph with 500 top voted movies, and top 15 cast, top 4 production companies, genres, and 50 user ratings (5 node types)"
   ]
  },
  {
   "cell_type": "code",
   "execution_count": 42,
   "metadata": {
    "ExecuteTime": {
     "end_time": "2020-09-23T11:02:29.311412Z",
     "start_time": "2020-09-23T11:02:10.716813Z"
    }
   },
   "outputs": [
    {
     "name": "stdout",
     "output_type": "stream",
     "text": [
      "# nodes:  9345 \t # edges:  37851\n"
     ]
    }
   ],
   "source": [
    "top_voted = df.sort_values('vote_count', ascending=False).iloc[:500]\n",
    "g = create_nodes_and_edges(top_voted, './graphs/large-500-movies-with-ratings/', \n",
    "                                            ['cast', 'production_companies', 'genres'], [20, 5, -1], 50)"
   ]
  },
  {
   "cell_type": "markdown",
   "metadata": {},
   "source": [
    "### 6. medium-sized bipartite graph with 20 top voted movies, and 40 user ratings per movie"
   ]
  },
  {
   "cell_type": "code",
   "execution_count": 43,
   "metadata": {
    "ExecuteTime": {
     "end_time": "2020-09-23T11:02:30.075726Z",
     "start_time": "2020-09-23T11:02:29.312853Z"
    }
   },
   "outputs": [
    {
     "name": "stdout",
     "output_type": "stream",
     "text": [
      "# nodes:  259 \t # edges:  800\n"
     ]
    }
   ],
   "source": [
    "top_voted = df.sort_values('vote_count', ascending=False).iloc[:20]\n",
    "g = create_nodes_and_edges(top_voted, './graphs/bipartite-user-movie-medium-1/', [], [], 40)"
   ]
  },
  {
   "cell_type": "markdown",
   "metadata": {},
   "source": [
    "### 7. medium-sized bipartite graph with 40 top voted movies, and 80 user ratings per movie"
   ]
  },
  {
   "cell_type": "code",
   "execution_count": 44,
   "metadata": {
    "ExecuteTime": {
     "end_time": "2020-09-23T11:02:31.669290Z",
     "start_time": "2020-09-23T11:02:30.077494Z"
    }
   },
   "outputs": [
    {
     "name": "stdout",
     "output_type": "stream",
     "text": [
      "# nodes:  780 \t # edges:  3200\n"
     ]
    }
   ],
   "source": [
    "top_voted = df.sort_values('vote_count', ascending=False).iloc[:40]\n",
    "g = create_nodes_and_edges(top_voted, './graphs/bipartite-user-movie-medium-2/', [], [], 80)"
   ]
  },
  {
   "cell_type": "markdown",
   "metadata": {},
   "source": [
    "### 8. large-sized bipartite graph with 100 top voted movies, and 500 user ratings per movie"
   ]
  },
  {
   "cell_type": "code",
   "execution_count": 45,
   "metadata": {
    "ExecuteTime": {
     "end_time": "2020-09-23T11:02:39.341567Z",
     "start_time": "2020-09-23T11:02:31.670824Z"
    }
   },
   "outputs": [
    {
     "name": "stdout",
     "output_type": "stream",
     "text": [
      "# nodes:  7407 \t # edges:  50000\n"
     ]
    }
   ],
   "source": [
    "top_voted = df.sort_values('vote_count', ascending=False).iloc[:100]\n",
    "g = create_nodes_and_edges(top_voted, './graphs/bipartite-user-movie-large-1/', [], [], 500)"
   ]
  },
  {
   "cell_type": "markdown",
   "metadata": {},
   "source": [
    "### 9. large-sized bipartite graph with 200 top voted movies, and 1000 user ratings per movie"
   ]
  },
  {
   "cell_type": "code",
   "execution_count": 46,
   "metadata": {
    "ExecuteTime": {
     "end_time": "2020-09-23T11:03:02.405299Z",
     "start_time": "2020-09-23T11:02:39.342744Z"
    }
   },
   "outputs": [
    {
     "name": "stdout",
     "output_type": "stream",
     "text": [
      "# nodes:  20619 \t # edges:  198250\n"
     ]
    }
   ],
   "source": [
    "top_voted = df.sort_values('vote_count', ascending=False).iloc[:200]\n",
    "g = create_nodes_and_edges(top_voted, './graphs/bipartite-user-movie-large-2/', [], [], 1000)"
   ]
  },
  {
   "cell_type": "markdown",
   "metadata": {},
   "source": [
    "### 10. medium-sized tripartite graph with 20 top voted movies, and 40 user ratings per movie, and the production companies"
   ]
  },
  {
   "cell_type": "code",
   "execution_count": 47,
   "metadata": {
    "ExecuteTime": {
     "end_time": "2020-09-23T11:03:03.209966Z",
     "start_time": "2020-09-23T11:03:02.406812Z"
    }
   },
   "outputs": [
    {
     "name": "stdout",
     "output_type": "stream",
     "text": [
      "# nodes:  303 \t # edges:  868\n"
     ]
    }
   ],
   "source": [
    "top_voted = df.sort_values('vote_count', ascending=False).iloc[:20]\n",
    "g = create_nodes_and_edges(top_voted, './graphs/tripartite-user-movie-prodComp-medium-1/', ['production_companies'], [5], 40)"
   ]
  },
  {
   "cell_type": "markdown",
   "metadata": {},
   "source": [
    "### 11. large-sized tripartite graph with 100 top voted movies, and 500 user ratings per movie, and the production companies"
   ]
  },
  {
   "cell_type": "code",
   "execution_count": 48,
   "metadata": {
    "ExecuteTime": {
     "end_time": "2020-09-23T11:03:11.168047Z",
     "start_time": "2020-09-23T11:03:03.211402Z"
    }
   },
   "outputs": [
    {
     "name": "stdout",
     "output_type": "stream",
     "text": [
      "# nodes:  7548 \t # edges:  50321\n"
     ]
    }
   ],
   "source": [
    "top_voted = df.sort_values('vote_count', ascending=False).iloc[:100]\n",
    "g = create_nodes_and_edges(top_voted, './graphs/tripartite-user-movie-prodComp-large-1/', ['production_companies'], [5], 500)"
   ]
  },
  {
   "cell_type": "markdown",
   "metadata": {},
   "source": [
    "### 12. medium-sized tripartite graph with 20 top voted movies, and 40 user ratings per movie, and the genres"
   ]
  },
  {
   "cell_type": "code",
   "execution_count": 49,
   "metadata": {
    "ExecuteTime": {
     "end_time": "2020-09-23T11:03:11.943197Z",
     "start_time": "2020-09-23T11:03:11.169689Z"
    }
   },
   "outputs": [
    {
     "name": "stdout",
     "output_type": "stream",
     "text": [
      "# nodes:  269 \t # edges:  861\n"
     ]
    }
   ],
   "source": [
    "top_voted = df.sort_values('vote_count', ascending=False).iloc[:20]\n",
    "g = create_nodes_and_edges(top_voted, './graphs/tripartite-user-movie-genre-medium-1/', ['genres'], [-1], 40)"
   ]
  },
  {
   "cell_type": "markdown",
   "metadata": {},
   "source": [
    "### 13. large-sized tripartite graph with 20 top voted movies, and 40 user ratings per movie, and the genres"
   ]
  },
  {
   "cell_type": "code",
   "execution_count": 50,
   "metadata": {
    "ExecuteTime": {
     "end_time": "2020-09-23T11:03:19.670446Z",
     "start_time": "2020-09-23T11:03:11.944656Z"
    }
   },
   "outputs": [
    {
     "name": "stdout",
     "output_type": "stream",
     "text": [
      "# nodes:  7423 \t # edges:  50311\n"
     ]
    }
   ],
   "source": [
    "top_voted = df.sort_values('vote_count', ascending=False).iloc[:100]\n",
    "g = create_nodes_and_edges(top_voted, './graphs/tripartite-user-movie-genre-large-1/', ['genres'], [-1], 500)"
   ]
  },
  {
   "cell_type": "code",
   "execution_count": null,
   "metadata": {},
   "outputs": [],
   "source": []
  }
 ],
 "metadata": {
  "kernelspec": {
   "display_name": "Python 3",
   "language": "python",
   "name": "python3"
  },
  "language_info": {
   "codemirror_mode": {
    "name": "ipython",
    "version": 3
   },
   "file_extension": ".py",
   "mimetype": "text/x-python",
   "name": "python",
   "nbconvert_exporter": "python",
   "pygments_lexer": "ipython3",
   "version": "3.7.6"
  }
 },
 "nbformat": 4,
 "nbformat_minor": 2
}

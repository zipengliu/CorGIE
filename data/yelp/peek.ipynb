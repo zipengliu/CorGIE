{
 "cells": [
  {
   "cell_type": "code",
   "execution_count": 30,
   "metadata": {
    "ExecuteTime": {
     "end_time": "2020-03-24T21:34:07.762020Z",
     "start_time": "2020-03-24T21:34:07.758658Z"
    }
   },
   "outputs": [],
   "source": [
    "import pandas as pd\n",
    "import networkx as nx\n",
    "import os\n",
    "import json\n",
    "from tqdm.notebook import tqdm\n",
    "from matplotlib import style\n",
    "import matplotlib.pyplot as plt"
   ]
  },
  {
   "cell_type": "code",
   "execution_count": 27,
   "metadata": {
    "ExecuteTime": {
     "end_time": "2020-03-24T21:32:58.028812Z",
     "start_time": "2020-03-24T21:32:58.026377Z"
    }
   },
   "outputs": [],
   "source": [
    "style.use('seaborn-dark')"
   ]
  },
  {
   "cell_type": "code",
   "execution_count": 2,
   "metadata": {
    "ExecuteTime": {
     "end_time": "2020-03-24T21:25:07.559692Z",
     "start_time": "2020-03-24T21:25:07.557086Z"
    }
   },
   "outputs": [],
   "source": [
    "bussi_file = 'yelp_academic_dataset_business.json'\n",
    "user_file = 'yelp_academic_dataset_user.json'\n",
    "review_file = 'yelp_academic_dataset_review.json'"
   ]
  },
  {
   "cell_type": "code",
   "execution_count": 3,
   "metadata": {
    "ExecuteTime": {
     "end_time": "2020-03-24T21:25:07.564523Z",
     "start_time": "2020-03-24T21:25:07.561907Z"
    }
   },
   "outputs": [],
   "source": [
    "def parse_file(filename):\n",
    "    with open(filename) as inputfile:\n",
    "        for line in inputfile:\n",
    "            yield json.loads(line)"
   ]
  },
  {
   "cell_type": "code",
   "execution_count": 4,
   "metadata": {
    "ExecuteTime": {
     "end_time": "2020-03-24T21:25:10.736824Z",
     "start_time": "2020-03-24T21:25:07.566509Z"
    }
   },
   "outputs": [],
   "source": [
    "parsed_array = [b for b in parse_file(bussi_file)]"
   ]
  },
  {
   "cell_type": "code",
   "execution_count": 5,
   "metadata": {
    "ExecuteTime": {
     "end_time": "2020-03-24T21:25:10.745738Z",
     "start_time": "2020-03-24T21:25:10.738449Z"
    }
   },
   "outputs": [
    {
     "data": {
      "text/plain": [
       "209393"
      ]
     },
     "execution_count": 5,
     "metadata": {},
     "output_type": "execute_result"
    }
   ],
   "source": [
    "len(parsed_array)"
   ]
  },
  {
   "cell_type": "code",
   "execution_count": 6,
   "metadata": {
    "ExecuteTime": {
     "end_time": "2020-03-24T21:25:11.544237Z",
     "start_time": "2020-03-24T21:25:10.747317Z"
    }
   },
   "outputs": [],
   "source": [
    "df = pd.DataFrame.from_records(parsed_array)"
   ]
  },
  {
   "cell_type": "code",
   "execution_count": 7,
   "metadata": {
    "ExecuteTime": {
     "end_time": "2020-03-24T21:25:11.581262Z",
     "start_time": "2020-03-24T21:25:11.546763Z"
    }
   },
   "outputs": [
    {
     "data": {
      "text/html": [
       "<div>\n",
       "<style scoped>\n",
       "    .dataframe tbody tr th:only-of-type {\n",
       "        vertical-align: middle;\n",
       "    }\n",
       "\n",
       "    .dataframe tbody tr th {\n",
       "        vertical-align: top;\n",
       "    }\n",
       "\n",
       "    .dataframe thead th {\n",
       "        text-align: right;\n",
       "    }\n",
       "</style>\n",
       "<table border=\"1\" class=\"dataframe\">\n",
       "  <thead>\n",
       "    <tr style=\"text-align: right;\">\n",
       "      <th></th>\n",
       "      <th>business_id</th>\n",
       "      <th>name</th>\n",
       "      <th>address</th>\n",
       "      <th>city</th>\n",
       "      <th>state</th>\n",
       "      <th>postal_code</th>\n",
       "      <th>latitude</th>\n",
       "      <th>longitude</th>\n",
       "      <th>stars</th>\n",
       "      <th>review_count</th>\n",
       "      <th>is_open</th>\n",
       "      <th>attributes</th>\n",
       "      <th>categories</th>\n",
       "      <th>hours</th>\n",
       "    </tr>\n",
       "  </thead>\n",
       "  <tbody>\n",
       "    <tr>\n",
       "      <th>0</th>\n",
       "      <td>f9NumwFMBDn751xgFiRbNA</td>\n",
       "      <td>The Range At Lake Norman</td>\n",
       "      <td>10913 Bailey Rd</td>\n",
       "      <td>Cornelius</td>\n",
       "      <td>NC</td>\n",
       "      <td>28031</td>\n",
       "      <td>35.462724</td>\n",
       "      <td>-80.852612</td>\n",
       "      <td>3.5</td>\n",
       "      <td>36</td>\n",
       "      <td>1</td>\n",
       "      <td>{'BusinessAcceptsCreditCards': 'True', 'BikePa...</td>\n",
       "      <td>Active Life, Gun/Rifle Ranges, Guns &amp; Ammo, Sh...</td>\n",
       "      <td>{'Monday': '10:0-18:0', 'Tuesday': '11:0-20:0'...</td>\n",
       "    </tr>\n",
       "    <tr>\n",
       "      <th>1</th>\n",
       "      <td>Yzvjg0SayhoZgCljUJRF9Q</td>\n",
       "      <td>Carlos Santo, NMD</td>\n",
       "      <td>8880 E Via Linda, Ste 107</td>\n",
       "      <td>Scottsdale</td>\n",
       "      <td>AZ</td>\n",
       "      <td>85258</td>\n",
       "      <td>33.569404</td>\n",
       "      <td>-111.890264</td>\n",
       "      <td>5.0</td>\n",
       "      <td>4</td>\n",
       "      <td>1</td>\n",
       "      <td>{'GoodForKids': 'True', 'ByAppointmentOnly': '...</td>\n",
       "      <td>Health &amp; Medical, Fitness &amp; Instruction, Yoga,...</td>\n",
       "      <td>None</td>\n",
       "    </tr>\n",
       "    <tr>\n",
       "      <th>2</th>\n",
       "      <td>XNoUzKckATkOD1hP6vghZg</td>\n",
       "      <td>Felinus</td>\n",
       "      <td>3554 Rue Notre-Dame O</td>\n",
       "      <td>Montreal</td>\n",
       "      <td>QC</td>\n",
       "      <td>H4C 1P4</td>\n",
       "      <td>45.479984</td>\n",
       "      <td>-73.580070</td>\n",
       "      <td>5.0</td>\n",
       "      <td>5</td>\n",
       "      <td>1</td>\n",
       "      <td>None</td>\n",
       "      <td>Pets, Pet Services, Pet Groomers</td>\n",
       "      <td>None</td>\n",
       "    </tr>\n",
       "    <tr>\n",
       "      <th>3</th>\n",
       "      <td>6OAZjbxqM5ol29BuHsil3w</td>\n",
       "      <td>Nevada House of Hose</td>\n",
       "      <td>1015 Sharp Cir</td>\n",
       "      <td>North Las Vegas</td>\n",
       "      <td>NV</td>\n",
       "      <td>89030</td>\n",
       "      <td>36.219728</td>\n",
       "      <td>-115.127725</td>\n",
       "      <td>2.5</td>\n",
       "      <td>3</td>\n",
       "      <td>0</td>\n",
       "      <td>{'BusinessAcceptsCreditCards': 'True', 'ByAppo...</td>\n",
       "      <td>Hardware Stores, Home Services, Building Suppl...</td>\n",
       "      <td>{'Monday': '7:0-16:0', 'Tuesday': '7:0-16:0', ...</td>\n",
       "    </tr>\n",
       "    <tr>\n",
       "      <th>4</th>\n",
       "      <td>51M2Kk903DFYI6gnB5I6SQ</td>\n",
       "      <td>USE MY GUY SERVICES LLC</td>\n",
       "      <td>4827 E Downing Cir</td>\n",
       "      <td>Mesa</td>\n",
       "      <td>AZ</td>\n",
       "      <td>85205</td>\n",
       "      <td>33.428065</td>\n",
       "      <td>-111.726648</td>\n",
       "      <td>4.5</td>\n",
       "      <td>26</td>\n",
       "      <td>1</td>\n",
       "      <td>{'BusinessAcceptsCreditCards': 'True', 'ByAppo...</td>\n",
       "      <td>Home Services, Plumbing, Electricians, Handyma...</td>\n",
       "      <td>{'Monday': '0:0-0:0', 'Tuesday': '9:0-16:0', '...</td>\n",
       "    </tr>\n",
       "    <tr>\n",
       "      <th>...</th>\n",
       "      <td>...</td>\n",
       "      <td>...</td>\n",
       "      <td>...</td>\n",
       "      <td>...</td>\n",
       "      <td>...</td>\n",
       "      <td>...</td>\n",
       "      <td>...</td>\n",
       "      <td>...</td>\n",
       "      <td>...</td>\n",
       "      <td>...</td>\n",
       "      <td>...</td>\n",
       "      <td>...</td>\n",
       "      <td>...</td>\n",
       "      <td>...</td>\n",
       "    </tr>\n",
       "    <tr>\n",
       "      <th>209388</th>\n",
       "      <td>9Q0fPWAjUweoFDk0kafuzQ</td>\n",
       "      <td>Nishi Sushi</td>\n",
       "      <td>9750 Weston Road</td>\n",
       "      <td>Vaughan</td>\n",
       "      <td>ON</td>\n",
       "      <td>L4H 2P2</td>\n",
       "      <td>43.838555</td>\n",
       "      <td>-79.559823</td>\n",
       "      <td>4.0</td>\n",
       "      <td>5</td>\n",
       "      <td>0</td>\n",
       "      <td>{'Ambience': '{'romantic': False, 'intimate': ...</td>\n",
       "      <td>Japanese, Sushi Bars, Restaurants</td>\n",
       "      <td>{'Monday': '11:0-22:0', 'Tuesday': '11:0-22:0'...</td>\n",
       "    </tr>\n",
       "    <tr>\n",
       "      <th>209389</th>\n",
       "      <td>PotiAhtDMYMNsJCzV0oLAw</td>\n",
       "      <td>Walmart</td>\n",
       "      <td>3240 Wilkinson Blvd</td>\n",
       "      <td>Charlotte</td>\n",
       "      <td>NC</td>\n",
       "      <td>28208</td>\n",
       "      <td>35.226307</td>\n",
       "      <td>-80.893539</td>\n",
       "      <td>2.0</td>\n",
       "      <td>13</td>\n",
       "      <td>0</td>\n",
       "      <td>{'RestaurantsPriceRange2': '1', 'BusinessParki...</td>\n",
       "      <td>Department Stores, Food, Mobile Phones, Fashio...</td>\n",
       "      <td>None</td>\n",
       "    </tr>\n",
       "    <tr>\n",
       "      <th>209390</th>\n",
       "      <td>SYa2j1boLF8DcGVOYfHPcA</td>\n",
       "      <td>Five Guys</td>\n",
       "      <td>7014-590 E Camelback Rd</td>\n",
       "      <td>Scottsdale</td>\n",
       "      <td>AZ</td>\n",
       "      <td>85251</td>\n",
       "      <td>33.504062</td>\n",
       "      <td>-111.929431</td>\n",
       "      <td>3.5</td>\n",
       "      <td>97</td>\n",
       "      <td>1</td>\n",
       "      <td>{'BusinessAcceptsCreditCards': 'True', 'Restau...</td>\n",
       "      <td>American (New), Food, Burgers, Restaurants, Fa...</td>\n",
       "      <td>{'Monday': '11:0-22:0', 'Tuesday': '11:0-22:0'...</td>\n",
       "    </tr>\n",
       "    <tr>\n",
       "      <th>209391</th>\n",
       "      <td>RSSIsgO00OuWQTRoITacpA</td>\n",
       "      <td>Indian Trail Dog Training</td>\n",
       "      <td></td>\n",
       "      <td>Indian Trail</td>\n",
       "      <td>NC</td>\n",
       "      <td>28079</td>\n",
       "      <td>35.101965</td>\n",
       "      <td>-80.599385</td>\n",
       "      <td>5.0</td>\n",
       "      <td>3</td>\n",
       "      <td>1</td>\n",
       "      <td>None</td>\n",
       "      <td>Pet Services, Pet Training, Pets</td>\n",
       "      <td>{'Monday': '0:0-0:0', 'Tuesday': '7:0-19:0', '...</td>\n",
       "    </tr>\n",
       "    <tr>\n",
       "      <th>209392</th>\n",
       "      <td>tOcYmewXFhQeZh3V42ymwg</td>\n",
       "      <td>Kudlow Ye</td>\n",
       "      <td>21 St Clair Avenue E, Suite 401</td>\n",
       "      <td>Toronto</td>\n",
       "      <td>ON</td>\n",
       "      <td>M4T 1L9</td>\n",
       "      <td>43.688214</td>\n",
       "      <td>-79.392756</td>\n",
       "      <td>5.0</td>\n",
       "      <td>3</td>\n",
       "      <td>1</td>\n",
       "      <td>None</td>\n",
       "      <td>Tax Services, Professional Services, Accountan...</td>\n",
       "      <td>{'Monday': '9:0-18:0', 'Tuesday': '9:0-18:0', ...</td>\n",
       "    </tr>\n",
       "  </tbody>\n",
       "</table>\n",
       "<p>209393 rows × 14 columns</p>\n",
       "</div>"
      ],
      "text/plain": [
       "                   business_id                       name  \\\n",
       "0       f9NumwFMBDn751xgFiRbNA   The Range At Lake Norman   \n",
       "1       Yzvjg0SayhoZgCljUJRF9Q          Carlos Santo, NMD   \n",
       "2       XNoUzKckATkOD1hP6vghZg                    Felinus   \n",
       "3       6OAZjbxqM5ol29BuHsil3w       Nevada House of Hose   \n",
       "4       51M2Kk903DFYI6gnB5I6SQ    USE MY GUY SERVICES LLC   \n",
       "...                        ...                        ...   \n",
       "209388  9Q0fPWAjUweoFDk0kafuzQ                Nishi Sushi   \n",
       "209389  PotiAhtDMYMNsJCzV0oLAw                    Walmart   \n",
       "209390  SYa2j1boLF8DcGVOYfHPcA                  Five Guys   \n",
       "209391  RSSIsgO00OuWQTRoITacpA  Indian Trail Dog Training   \n",
       "209392  tOcYmewXFhQeZh3V42ymwg                  Kudlow Ye   \n",
       "\n",
       "                                address             city state postal_code  \\\n",
       "0                       10913 Bailey Rd        Cornelius    NC       28031   \n",
       "1             8880 E Via Linda, Ste 107       Scottsdale    AZ       85258   \n",
       "2                 3554 Rue Notre-Dame O         Montreal    QC     H4C 1P4   \n",
       "3                        1015 Sharp Cir  North Las Vegas    NV       89030   \n",
       "4                    4827 E Downing Cir             Mesa    AZ       85205   \n",
       "...                                 ...              ...   ...         ...   \n",
       "209388                 9750 Weston Road          Vaughan    ON     L4H 2P2   \n",
       "209389              3240 Wilkinson Blvd        Charlotte    NC       28208   \n",
       "209390          7014-590 E Camelback Rd       Scottsdale    AZ       85251   \n",
       "209391                                      Indian Trail    NC       28079   \n",
       "209392  21 St Clair Avenue E, Suite 401          Toronto    ON     M4T 1L9   \n",
       "\n",
       "         latitude   longitude  stars  review_count  is_open  \\\n",
       "0       35.462724  -80.852612    3.5            36        1   \n",
       "1       33.569404 -111.890264    5.0             4        1   \n",
       "2       45.479984  -73.580070    5.0             5        1   \n",
       "3       36.219728 -115.127725    2.5             3        0   \n",
       "4       33.428065 -111.726648    4.5            26        1   \n",
       "...           ...         ...    ...           ...      ...   \n",
       "209388  43.838555  -79.559823    4.0             5        0   \n",
       "209389  35.226307  -80.893539    2.0            13        0   \n",
       "209390  33.504062 -111.929431    3.5            97        1   \n",
       "209391  35.101965  -80.599385    5.0             3        1   \n",
       "209392  43.688214  -79.392756    5.0             3        1   \n",
       "\n",
       "                                               attributes  \\\n",
       "0       {'BusinessAcceptsCreditCards': 'True', 'BikePa...   \n",
       "1       {'GoodForKids': 'True', 'ByAppointmentOnly': '...   \n",
       "2                                                    None   \n",
       "3       {'BusinessAcceptsCreditCards': 'True', 'ByAppo...   \n",
       "4       {'BusinessAcceptsCreditCards': 'True', 'ByAppo...   \n",
       "...                                                   ...   \n",
       "209388  {'Ambience': '{'romantic': False, 'intimate': ...   \n",
       "209389  {'RestaurantsPriceRange2': '1', 'BusinessParki...   \n",
       "209390  {'BusinessAcceptsCreditCards': 'True', 'Restau...   \n",
       "209391                                               None   \n",
       "209392                                               None   \n",
       "\n",
       "                                               categories  \\\n",
       "0       Active Life, Gun/Rifle Ranges, Guns & Ammo, Sh...   \n",
       "1       Health & Medical, Fitness & Instruction, Yoga,...   \n",
       "2                        Pets, Pet Services, Pet Groomers   \n",
       "3       Hardware Stores, Home Services, Building Suppl...   \n",
       "4       Home Services, Plumbing, Electricians, Handyma...   \n",
       "...                                                   ...   \n",
       "209388                  Japanese, Sushi Bars, Restaurants   \n",
       "209389  Department Stores, Food, Mobile Phones, Fashio...   \n",
       "209390  American (New), Food, Burgers, Restaurants, Fa...   \n",
       "209391                   Pet Services, Pet Training, Pets   \n",
       "209392  Tax Services, Professional Services, Accountan...   \n",
       "\n",
       "                                                    hours  \n",
       "0       {'Monday': '10:0-18:0', 'Tuesday': '11:0-20:0'...  \n",
       "1                                                    None  \n",
       "2                                                    None  \n",
       "3       {'Monday': '7:0-16:0', 'Tuesday': '7:0-16:0', ...  \n",
       "4       {'Monday': '0:0-0:0', 'Tuesday': '9:0-16:0', '...  \n",
       "...                                                   ...  \n",
       "209388  {'Monday': '11:0-22:0', 'Tuesday': '11:0-22:0'...  \n",
       "209389                                               None  \n",
       "209390  {'Monday': '11:0-22:0', 'Tuesday': '11:0-22:0'...  \n",
       "209391  {'Monday': '0:0-0:0', 'Tuesday': '7:0-19:0', '...  \n",
       "209392  {'Monday': '9:0-18:0', 'Tuesday': '9:0-18:0', ...  \n",
       "\n",
       "[209393 rows x 14 columns]"
      ]
     },
     "execution_count": 7,
     "metadata": {},
     "output_type": "execute_result"
    }
   ],
   "source": [
    "df"
   ]
  },
  {
   "cell_type": "code",
   "execution_count": 8,
   "metadata": {
    "ExecuteTime": {
     "end_time": "2020-03-24T21:25:11.647605Z",
     "start_time": "2020-03-24T21:25:11.585020Z"
    }
   },
   "outputs": [],
   "source": [
    "city_counts = df['city'].value_counts()"
   ]
  },
  {
   "cell_type": "code",
   "execution_count": 9,
   "metadata": {
    "ExecuteTime": {
     "end_time": "2020-03-24T21:25:11.655091Z",
     "start_time": "2020-03-24T21:25:11.650426Z"
    }
   },
   "outputs": [
    {
     "data": {
      "text/plain": [
       "Las Vegas          31631\n",
       "Toronto            20366\n",
       "Phoenix            20171\n",
       "Charlotte          10422\n",
       "Scottsdale          9342\n",
       "Calgary             8377\n",
       "Pittsburgh          7630\n",
       "Montréal            6979\n",
       "Mesa                6577\n",
       "Henderson           5272\n",
       "Tempe               4797\n",
       "Chandler            4580\n",
       "Cleveland           3857\n",
       "Glendale            3824\n",
       "Gilbert             3745\n",
       "Madison             3685\n",
       "Mississauga         3518\n",
       "Peoria              2080\n",
       "Markham             1963\n",
       "North Las Vegas     1677\n",
       "Name: city, dtype: int64"
      ]
     },
     "execution_count": 9,
     "metadata": {},
     "output_type": "execute_result"
    }
   ],
   "source": [
    "city_counts.head(20)"
   ]
  },
  {
   "cell_type": "code",
   "execution_count": 10,
   "metadata": {
    "ExecuteTime": {
     "end_time": "2020-03-24T21:25:11.659013Z",
     "start_time": "2020-03-24T21:25:11.656863Z"
    }
   },
   "outputs": [],
   "source": [
    "categories = {}"
   ]
  },
  {
   "cell_type": "code",
   "execution_count": 11,
   "metadata": {
    "ExecuteTime": {
     "end_time": "2020-03-24T21:25:32.123740Z",
     "start_time": "2020-03-24T21:25:11.660581Z"
    }
   },
   "outputs": [
    {
     "data": {
      "application/vnd.jupyter.widget-view+json": {
       "model_id": "01649a3a0d8c4bd1ac10dea96400baf6",
       "version_major": 2,
       "version_minor": 0
      },
      "text/plain": [
       "HBox(children=(FloatProgress(value=0.0, max=209393.0), HTML(value='')))"
      ]
     },
     "metadata": {},
     "output_type": "display_data"
    },
    {
     "name": "stdout",
     "output_type": "stream",
     "text": [
      "\n"
     ]
    }
   ],
   "source": [
    "for idx, row in tqdm(df.iterrows(), total=len(df)):\n",
    "    if isinstance(row['categories'], str):\n",
    "        s = map(lambda x: x.strip(), row['categories'].split(','))\n",
    "        for c in s:\n",
    "            if c not in categories:\n",
    "                categories[c] = 0\n",
    "            categories[c] += 1 "
   ]
  },
  {
   "cell_type": "code",
   "execution_count": 12,
   "metadata": {
    "ExecuteTime": {
     "end_time": "2020-03-24T21:25:32.128585Z",
     "start_time": "2020-03-24T21:25:32.125220Z"
    }
   },
   "outputs": [],
   "source": [
    "categories_df = pd.Series(categories)"
   ]
  },
  {
   "cell_type": "code",
   "execution_count": 13,
   "metadata": {
    "ExecuteTime": {
     "end_time": "2020-03-24T21:25:32.135218Z",
     "start_time": "2020-03-24T21:25:32.130268Z"
    }
   },
   "outputs": [
    {
     "data": {
      "text/plain": [
       "Restaurants                  63944\n",
       "Shopping                     34644\n",
       "Food                         32991\n",
       "Home Services                22487\n",
       "Beauty & Spas                20520\n",
       "Health & Medical             19227\n",
       "Local Services               15783\n",
       "Automotive                   14720\n",
       "Nightlife                    14211\n",
       "Bars                         12400\n",
       "Event Planning & Services    11263\n",
       "Active Life                  10225\n",
       "Coffee & Tea                  8415\n",
       "Fashion                       8374\n",
       "Fast Food                     8106\n",
       "Sandwiches                    8064\n",
       "American (Traditional)        7596\n",
       "Home & Garden                 7331\n",
       "Hair Salons                   7303\n",
       "Pizza                         7302\n",
       "dtype: int64"
      ]
     },
     "execution_count": 13,
     "metadata": {},
     "output_type": "execute_result"
    }
   ],
   "source": [
    "categories_df.sort_values(ascending=False).head(20)"
   ]
  },
  {
   "cell_type": "code",
   "execution_count": 14,
   "metadata": {
    "ExecuteTime": {
     "end_time": "2020-03-24T21:25:36.656427Z",
     "start_time": "2020-03-24T21:25:32.136577Z"
    }
   },
   "outputs": [],
   "source": [
    "rest_only_df = df[df.apply(lambda row: isinstance(row['categories'], str) and 'Restaurants' in row['categories'], axis=1)]"
   ]
  },
  {
   "cell_type": "code",
   "execution_count": 15,
   "metadata": {
    "ExecuteTime": {
     "end_time": "2020-03-24T21:25:36.664722Z",
     "start_time": "2020-03-24T21:25:36.658748Z"
    }
   },
   "outputs": [
    {
     "data": {
      "text/plain": [
       "8         Ethnic Food, Food Trucks, Specialty Food, Impo...\n",
       "20               Food, Restaurants, Grocery, Middle Eastern\n",
       "24                   Restaurants, Cheesesteaks, Poutineries\n",
       "25             Japanese, Fast Food, Food Court, Restaurants\n",
       "30        Persian/Iranian, Turkish, Middle Eastern, Rest...\n",
       "                                ...                        \n",
       "209381       Nightlife, Diners, Bars, Southern, Restaurants\n",
       "209383    Restaurants, Sandwiches, Food, Breakfast & Bru...\n",
       "209385    Restaurants, Pizza, Sandwiches, Fast Food, Chi...\n",
       "209388                    Japanese, Sushi Bars, Restaurants\n",
       "209390    American (New), Food, Burgers, Restaurants, Fa...\n",
       "Name: categories, Length: 63944, dtype: object"
      ]
     },
     "execution_count": 15,
     "metadata": {},
     "output_type": "execute_result"
    }
   ],
   "source": [
    "rest_only_df['categories']"
   ]
  },
  {
   "cell_type": "code",
   "execution_count": 16,
   "metadata": {
    "ExecuteTime": {
     "end_time": "2020-03-24T21:25:37.494987Z",
     "start_time": "2020-03-24T21:25:36.666943Z"
    }
   },
   "outputs": [],
   "source": [
    "num_cat = rest_only_df.apply(lambda row: len(row['categories'].split(',')), axis=1)"
   ]
  },
  {
   "cell_type": "code",
   "execution_count": 17,
   "metadata": {
    "ExecuteTime": {
     "end_time": "2020-03-24T21:25:37.505930Z",
     "start_time": "2020-03-24T21:25:37.497025Z"
    }
   },
   "outputs": [
    {
     "data": {
      "text/plain": [
       "20692     37\n",
       "30186     33\n",
       "140752    25\n",
       "192880    24\n",
       "23447     23\n",
       "          ..\n",
       "99892      1\n",
       "145624     1\n",
       "146318     1\n",
       "119200     1\n",
       "162821     1\n",
       "Length: 63944, dtype: int64"
      ]
     },
     "execution_count": 17,
     "metadata": {},
     "output_type": "execute_result"
    }
   ],
   "source": [
    "num_cat.sort_values(ascending=False)"
   ]
  },
  {
   "cell_type": "code",
   "execution_count": 18,
   "metadata": {
    "ExecuteTime": {
     "end_time": "2020-03-24T21:25:37.515559Z",
     "start_time": "2020-03-24T21:25:37.507836Z"
    }
   },
   "outputs": [
    {
     "data": {
      "text/plain": [
       "'Bakeries, Cafes, DJs, Home Services, Music Venues, Barbeque, Event Planning & Services, Food, Home & Garden, Beauty & Spas, Restaurants, Nail Salons, Fashion, Fitness & Instruction, Fur Clothing, Pilates, Party & Event Planning, Pizza, Shopping, Lighting Fixtures & Equipment, Food Court, Automotive, Active Life, Arts & Entertainment, Furniture Stores, Ice Delivery, Auto Repair, Furniture Repair, Electronics, Italian, Local Services, Party Equipment Rentals, Audio/Visual Equipment Rental, Furniture Rental, Nightlife, Karaoke, Photo Booth Rentals'"
      ]
     },
     "execution_count": 18,
     "metadata": {},
     "output_type": "execute_result"
    }
   ],
   "source": [
    "rest_only_df.loc[20692]['categories']"
   ]
  },
  {
   "cell_type": "code",
   "execution_count": 19,
   "metadata": {
    "ExecuteTime": {
     "end_time": "2020-03-24T21:25:37.532060Z",
     "start_time": "2020-03-24T21:25:37.517119Z"
    }
   },
   "outputs": [],
   "source": [
    "toronto_rest = rest_only_df[rest_only_df['city'] == 'Toronto']"
   ]
  },
  {
   "cell_type": "code",
   "execution_count": 20,
   "metadata": {
    "ExecuteTime": {
     "end_time": "2020-03-24T21:25:37.559947Z",
     "start_time": "2020-03-24T21:25:37.533678Z"
    }
   },
   "outputs": [
    {
     "data": {
      "text/html": [
       "<div>\n",
       "<style scoped>\n",
       "    .dataframe tbody tr th:only-of-type {\n",
       "        vertical-align: middle;\n",
       "    }\n",
       "\n",
       "    .dataframe tbody tr th {\n",
       "        vertical-align: top;\n",
       "    }\n",
       "\n",
       "    .dataframe thead th {\n",
       "        text-align: right;\n",
       "    }\n",
       "</style>\n",
       "<table border=\"1\" class=\"dataframe\">\n",
       "  <thead>\n",
       "    <tr style=\"text-align: right;\">\n",
       "      <th></th>\n",
       "      <th>business_id</th>\n",
       "      <th>name</th>\n",
       "      <th>address</th>\n",
       "      <th>city</th>\n",
       "      <th>state</th>\n",
       "      <th>postal_code</th>\n",
       "      <th>latitude</th>\n",
       "      <th>longitude</th>\n",
       "      <th>stars</th>\n",
       "      <th>review_count</th>\n",
       "      <th>is_open</th>\n",
       "      <th>attributes</th>\n",
       "      <th>categories</th>\n",
       "      <th>hours</th>\n",
       "    </tr>\n",
       "  </thead>\n",
       "  <tbody>\n",
       "    <tr>\n",
       "      <th>38</th>\n",
       "      <td>rVBPQdeayMYht4Uv_FOLHg</td>\n",
       "      <td>Gourmet Burger Company</td>\n",
       "      <td>843 Kipling Avenue</td>\n",
       "      <td>Toronto</td>\n",
       "      <td>ON</td>\n",
       "      <td>M8Z 5G9</td>\n",
       "      <td>43.633291</td>\n",
       "      <td>-79.531768</td>\n",
       "      <td>3.0</td>\n",
       "      <td>13</td>\n",
       "      <td>0</td>\n",
       "      <td>{'RestaurantsPriceRange2': '2', 'RestaurantsAt...</td>\n",
       "      <td>Restaurants, Burgers, Food</td>\n",
       "      <td>None</td>\n",
       "    </tr>\n",
       "    <tr>\n",
       "      <th>73</th>\n",
       "      <td>0QjROMVW9ACKjhSEfHqNCQ</td>\n",
       "      <td>Mi Mi Restaurant</td>\n",
       "      <td>688 Gerrard Street E</td>\n",
       "      <td>Toronto</td>\n",
       "      <td>ON</td>\n",
       "      <td>M4M 1Y3</td>\n",
       "      <td>43.666376</td>\n",
       "      <td>-79.348773</td>\n",
       "      <td>4.0</td>\n",
       "      <td>116</td>\n",
       "      <td>1</td>\n",
       "      <td>{'RestaurantsTakeOut': 'True', 'Alcohol': 'u'b...</td>\n",
       "      <td>Vietnamese, Restaurants</td>\n",
       "      <td>{'Monday': '11:0-22:0', 'Tuesday': '11:0-22:0'...</td>\n",
       "    </tr>\n",
       "    <tr>\n",
       "      <th>110</th>\n",
       "      <td>8k62wYhDVq1-652YbJi5eg</td>\n",
       "      <td>Tim Hortons</td>\n",
       "      <td>90 Adelaide Street W</td>\n",
       "      <td>Toronto</td>\n",
       "      <td>ON</td>\n",
       "      <td>M5H 3V9</td>\n",
       "      <td>43.649859</td>\n",
       "      <td>-79.382060</td>\n",
       "      <td>3.0</td>\n",
       "      <td>8</td>\n",
       "      <td>1</td>\n",
       "      <td>{'OutdoorSeating': 'False', 'RestaurantsDelive...</td>\n",
       "      <td>Bagels, Donuts, Food, Cafes, Coffee &amp; Tea, Res...</td>\n",
       "      <td>None</td>\n",
       "    </tr>\n",
       "    <tr>\n",
       "      <th>149</th>\n",
       "      <td>0DnQh8SE8BSnvJltGCCiWg</td>\n",
       "      <td>Chick-N-Joy</td>\n",
       "      <td>3-1265 York Mills Road</td>\n",
       "      <td>Toronto</td>\n",
       "      <td>ON</td>\n",
       "      <td>M3A 1Z3</td>\n",
       "      <td>43.765279</td>\n",
       "      <td>-79.326248</td>\n",
       "      <td>3.0</td>\n",
       "      <td>11</td>\n",
       "      <td>1</td>\n",
       "      <td>{'NoiseLevel': ''loud'', 'BusinessParking': '{...</td>\n",
       "      <td>Fast Food, Restaurants, Chicken Shop</td>\n",
       "      <td>None</td>\n",
       "    </tr>\n",
       "    <tr>\n",
       "      <th>150</th>\n",
       "      <td>NLaK58WvlNQdUunSIkt-jA</td>\n",
       "      <td>Zav Coffee Shop &amp; Gallery</td>\n",
       "      <td>2048 Danforth Avenue</td>\n",
       "      <td>Toronto</td>\n",
       "      <td>ON</td>\n",
       "      <td>M4C 1J6</td>\n",
       "      <td>43.685608</td>\n",
       "      <td>-79.313936</td>\n",
       "      <td>4.5</td>\n",
       "      <td>24</td>\n",
       "      <td>1</td>\n",
       "      <td>{'DogsAllowed': 'False', 'OutdoorSeating': 'Tr...</td>\n",
       "      <td>Coffee &amp; Tea, Restaurants, Sandwiches, Food</td>\n",
       "      <td>{'Monday': '0:0-0:0', 'Tuesday': '7:30-17:0', ...</td>\n",
       "    </tr>\n",
       "    <tr>\n",
       "      <th>...</th>\n",
       "      <td>...</td>\n",
       "      <td>...</td>\n",
       "      <td>...</td>\n",
       "      <td>...</td>\n",
       "      <td>...</td>\n",
       "      <td>...</td>\n",
       "      <td>...</td>\n",
       "      <td>...</td>\n",
       "      <td>...</td>\n",
       "      <td>...</td>\n",
       "      <td>...</td>\n",
       "      <td>...</td>\n",
       "      <td>...</td>\n",
       "      <td>...</td>\n",
       "    </tr>\n",
       "    <tr>\n",
       "      <th>209300</th>\n",
       "      <td>thzyiQZb16zD8wMliaEfRQ</td>\n",
       "      <td>Sushi Supreme</td>\n",
       "      <td>1995 Yonge Street</td>\n",
       "      <td>Toronto</td>\n",
       "      <td>ON</td>\n",
       "      <td>M4S 1Z8</td>\n",
       "      <td>43.700617</td>\n",
       "      <td>-79.396762</td>\n",
       "      <td>4.0</td>\n",
       "      <td>104</td>\n",
       "      <td>1</td>\n",
       "      <td>{'Ambience': '{'romantic': False, 'intimate': ...</td>\n",
       "      <td>Sushi Bars, Restaurants, Japanese</td>\n",
       "      <td>{'Monday': '12:0-23:0', 'Tuesday': '12:0-23:0'...</td>\n",
       "    </tr>\n",
       "    <tr>\n",
       "      <th>209315</th>\n",
       "      <td>eUi3O-8Gqh_nJ_ZhO-25gQ</td>\n",
       "      <td>Get &amp; Go Burrito</td>\n",
       "      <td>1077 Wilson Avenue, Unit 8</td>\n",
       "      <td>Toronto</td>\n",
       "      <td>ON</td>\n",
       "      <td>M3K 1G7</td>\n",
       "      <td>43.726656</td>\n",
       "      <td>-79.480365</td>\n",
       "      <td>3.5</td>\n",
       "      <td>43</td>\n",
       "      <td>1</td>\n",
       "      <td>{'BusinessParking': '{'garage': False, 'street...</td>\n",
       "      <td>Mexican, Restaurants</td>\n",
       "      <td>{'Monday': '11:0-23:0', 'Tuesday': '11:0-23:0'...</td>\n",
       "    </tr>\n",
       "    <tr>\n",
       "      <th>209328</th>\n",
       "      <td>yFQCdWr_k1pTObzHPGis9Q</td>\n",
       "      <td>Grasshopper Restaurant</td>\n",
       "      <td>310 College Street</td>\n",
       "      <td>Toronto</td>\n",
       "      <td>ON</td>\n",
       "      <td>M5T 1S2</td>\n",
       "      <td>43.657716</td>\n",
       "      <td>-79.402098</td>\n",
       "      <td>4.0</td>\n",
       "      <td>177</td>\n",
       "      <td>1</td>\n",
       "      <td>{'DogsAllowed': 'False', 'BikeParking': 'True'...</td>\n",
       "      <td>Vegan, Restaurants, Vegetarian, Salad</td>\n",
       "      <td>{'Monday': '11:30-22:0', 'Tuesday': '11:30-22:...</td>\n",
       "    </tr>\n",
       "    <tr>\n",
       "      <th>209359</th>\n",
       "      <td>GAgEoHcf4PSuZRS5Zd3ltA</td>\n",
       "      <td>Q's Shawarma</td>\n",
       "      <td>1075 Martin Grove Road</td>\n",
       "      <td>Toronto</td>\n",
       "      <td>ON</td>\n",
       "      <td>M9W 4W6</td>\n",
       "      <td>43.701807</td>\n",
       "      <td>-79.575135</td>\n",
       "      <td>4.0</td>\n",
       "      <td>16</td>\n",
       "      <td>1</td>\n",
       "      <td>{'GoodForKids': 'True', 'HasTV': 'True', 'Rest...</td>\n",
       "      <td>Restaurants, Mediterranean</td>\n",
       "      <td>{'Monday': '11:0-21:0', 'Tuesday': '11:0-21:0'...</td>\n",
       "    </tr>\n",
       "    <tr>\n",
       "      <th>209377</th>\n",
       "      <td>n2BKYb8aw4AhRKLkdUjQRg</td>\n",
       "      <td>Steak &amp; Cheese &amp; Quick Pita Restaurant</td>\n",
       "      <td>199 College St</td>\n",
       "      <td>Toronto</td>\n",
       "      <td>ON</td>\n",
       "      <td>M5T 1P9</td>\n",
       "      <td>43.658683</td>\n",
       "      <td>-79.395071</td>\n",
       "      <td>2.5</td>\n",
       "      <td>21</td>\n",
       "      <td>1</td>\n",
       "      <td>{'OutdoorSeating': 'False', 'Alcohol': 'u'none...</td>\n",
       "      <td>Sandwiches, Restaurants</td>\n",
       "      <td>None</td>\n",
       "    </tr>\n",
       "  </tbody>\n",
       "</table>\n",
       "<p>8679 rows × 14 columns</p>\n",
       "</div>"
      ],
      "text/plain": [
       "                   business_id                                    name  \\\n",
       "38      rVBPQdeayMYht4Uv_FOLHg                  Gourmet Burger Company   \n",
       "73      0QjROMVW9ACKjhSEfHqNCQ                        Mi Mi Restaurant   \n",
       "110     8k62wYhDVq1-652YbJi5eg                             Tim Hortons   \n",
       "149     0DnQh8SE8BSnvJltGCCiWg                             Chick-N-Joy   \n",
       "150     NLaK58WvlNQdUunSIkt-jA               Zav Coffee Shop & Gallery   \n",
       "...                        ...                                     ...   \n",
       "209300  thzyiQZb16zD8wMliaEfRQ                           Sushi Supreme   \n",
       "209315  eUi3O-8Gqh_nJ_ZhO-25gQ                        Get & Go Burrito   \n",
       "209328  yFQCdWr_k1pTObzHPGis9Q                  Grasshopper Restaurant   \n",
       "209359  GAgEoHcf4PSuZRS5Zd3ltA                            Q's Shawarma   \n",
       "209377  n2BKYb8aw4AhRKLkdUjQRg  Steak & Cheese & Quick Pita Restaurant   \n",
       "\n",
       "                           address     city state postal_code   latitude  \\\n",
       "38              843 Kipling Avenue  Toronto    ON     M8Z 5G9  43.633291   \n",
       "73            688 Gerrard Street E  Toronto    ON     M4M 1Y3  43.666376   \n",
       "110           90 Adelaide Street W  Toronto    ON     M5H 3V9  43.649859   \n",
       "149         3-1265 York Mills Road  Toronto    ON     M3A 1Z3  43.765279   \n",
       "150           2048 Danforth Avenue  Toronto    ON     M4C 1J6  43.685608   \n",
       "...                            ...      ...   ...         ...        ...   \n",
       "209300           1995 Yonge Street  Toronto    ON     M4S 1Z8  43.700617   \n",
       "209315  1077 Wilson Avenue, Unit 8  Toronto    ON     M3K 1G7  43.726656   \n",
       "209328          310 College Street  Toronto    ON     M5T 1S2  43.657716   \n",
       "209359      1075 Martin Grove Road  Toronto    ON     M9W 4W6  43.701807   \n",
       "209377              199 College St  Toronto    ON     M5T 1P9  43.658683   \n",
       "\n",
       "        longitude  stars  review_count  is_open  \\\n",
       "38     -79.531768    3.0            13        0   \n",
       "73     -79.348773    4.0           116        1   \n",
       "110    -79.382060    3.0             8        1   \n",
       "149    -79.326248    3.0            11        1   \n",
       "150    -79.313936    4.5            24        1   \n",
       "...           ...    ...           ...      ...   \n",
       "209300 -79.396762    4.0           104        1   \n",
       "209315 -79.480365    3.5            43        1   \n",
       "209328 -79.402098    4.0           177        1   \n",
       "209359 -79.575135    4.0            16        1   \n",
       "209377 -79.395071    2.5            21        1   \n",
       "\n",
       "                                               attributes  \\\n",
       "38      {'RestaurantsPriceRange2': '2', 'RestaurantsAt...   \n",
       "73      {'RestaurantsTakeOut': 'True', 'Alcohol': 'u'b...   \n",
       "110     {'OutdoorSeating': 'False', 'RestaurantsDelive...   \n",
       "149     {'NoiseLevel': ''loud'', 'BusinessParking': '{...   \n",
       "150     {'DogsAllowed': 'False', 'OutdoorSeating': 'Tr...   \n",
       "...                                                   ...   \n",
       "209300  {'Ambience': '{'romantic': False, 'intimate': ...   \n",
       "209315  {'BusinessParking': '{'garage': False, 'street...   \n",
       "209328  {'DogsAllowed': 'False', 'BikeParking': 'True'...   \n",
       "209359  {'GoodForKids': 'True', 'HasTV': 'True', 'Rest...   \n",
       "209377  {'OutdoorSeating': 'False', 'Alcohol': 'u'none...   \n",
       "\n",
       "                                               categories  \\\n",
       "38                             Restaurants, Burgers, Food   \n",
       "73                                Vietnamese, Restaurants   \n",
       "110     Bagels, Donuts, Food, Cafes, Coffee & Tea, Res...   \n",
       "149                  Fast Food, Restaurants, Chicken Shop   \n",
       "150           Coffee & Tea, Restaurants, Sandwiches, Food   \n",
       "...                                                   ...   \n",
       "209300                  Sushi Bars, Restaurants, Japanese   \n",
       "209315                               Mexican, Restaurants   \n",
       "209328              Vegan, Restaurants, Vegetarian, Salad   \n",
       "209359                         Restaurants, Mediterranean   \n",
       "209377                            Sandwiches, Restaurants   \n",
       "\n",
       "                                                    hours  \n",
       "38                                                   None  \n",
       "73      {'Monday': '11:0-22:0', 'Tuesday': '11:0-22:0'...  \n",
       "110                                                  None  \n",
       "149                                                  None  \n",
       "150     {'Monday': '0:0-0:0', 'Tuesday': '7:30-17:0', ...  \n",
       "...                                                   ...  \n",
       "209300  {'Monday': '12:0-23:0', 'Tuesday': '12:0-23:0'...  \n",
       "209315  {'Monday': '11:0-23:0', 'Tuesday': '11:0-23:0'...  \n",
       "209328  {'Monday': '11:30-22:0', 'Tuesday': '11:30-22:...  \n",
       "209359  {'Monday': '11:0-21:0', 'Tuesday': '11:0-21:0'...  \n",
       "209377                                               None  \n",
       "\n",
       "[8679 rows x 14 columns]"
      ]
     },
     "execution_count": 20,
     "metadata": {},
     "output_type": "execute_result"
    }
   ],
   "source": [
    "toronto_rest"
   ]
  },
  {
   "cell_type": "code",
   "execution_count": 31,
   "metadata": {
    "ExecuteTime": {
     "end_time": "2020-03-24T21:34:30.447256Z",
     "start_time": "2020-03-24T21:34:29.971801Z"
    }
   },
   "outputs": [
    {
     "data": {
      "text/plain": [
       "(array([6.729e+03, 1.025e+03, 4.000e+02, 1.940e+02, 1.240e+02, 6.300e+01,\n",
       "        4.700e+01, 2.600e+01, 2.100e+01, 1.400e+01, 4.000e+00, 6.000e+00,\n",
       "        5.000e+00, 3.000e+00, 3.000e+00, 3.000e+00, 3.000e+00, 2.000e+00,\n",
       "        2.000e+00, 1.000e+00, 0.000e+00, 0.000e+00, 0.000e+00, 1.000e+00,\n",
       "        0.000e+00, 0.000e+00, 0.000e+00, 1.000e+00, 1.000e+00, 0.000e+00,\n",
       "        0.000e+00, 0.000e+00, 0.000e+00, 0.000e+00, 0.000e+00, 0.000e+00,\n",
       "        0.000e+00, 0.000e+00, 0.000e+00, 0.000e+00, 0.000e+00, 0.000e+00,\n",
       "        0.000e+00, 0.000e+00, 0.000e+00, 0.000e+00, 0.000e+00, 0.000e+00,\n",
       "        0.000e+00, 1.000e+00]),\n",
       " array([   3. ,   58.1,  113.2,  168.3,  223.4,  278.5,  333.6,  388.7,\n",
       "         443.8,  498.9,  554. ,  609.1,  664.2,  719.3,  774.4,  829.5,\n",
       "         884.6,  939.7,  994.8, 1049.9, 1105. , 1160.1, 1215.2, 1270.3,\n",
       "        1325.4, 1380.5, 1435.6, 1490.7, 1545.8, 1600.9, 1656. , 1711.1,\n",
       "        1766.2, 1821.3, 1876.4, 1931.5, 1986.6, 2041.7, 2096.8, 2151.9,\n",
       "        2207. , 2262.1, 2317.2, 2372.3, 2427.4, 2482.5, 2537.6, 2592.7,\n",
       "        2647.8, 2702.9, 2758. ]),\n",
       " <a list of 50 Patch objects>)"
      ]
     },
     "execution_count": 31,
     "metadata": {},
     "output_type": "execute_result"
    },
    {
     "data": {
      "image/png": "[encoded data removed]",
      "text/plain": [
       "<Figure size 432x288 with 1 Axes>"
      ]
     },
     "metadata": {},
     "output_type": "display_data"
    }
   ],
   "source": [
    "plt.hist(toronto_rest['review_count'], bins=50, log=True)"
   ]
  },
  {
   "cell_type": "code",
   "execution_count": 32,
   "metadata": {
    "ExecuteTime": {
     "end_time": "2020-03-25T03:45:34.159564Z",
     "start_time": "2020-03-25T03:44:37.732211Z"
    }
   },
   "outputs": [],
   "source": [
    "user_df = pd.DataFrame.from_records([u for u in parse_file(user_file)])"
   ]
  },
  {
   "cell_type": "code",
   "execution_count": 33,
   "metadata": {
    "ExecuteTime": {
     "end_time": "2020-03-25T03:45:35.020876Z",
     "start_time": "2020-03-25T03:45:34.164908Z"
    }
   },
   "outputs": [
    {
     "data": {
      "text/plain": [
       "(array([1.948141e+06, 1.479900e+04, 3.430000e+03, 1.168000e+03,\n",
       "        5.400000e+02, 2.700000e+02, 1.260000e+02, 8.700000e+01,\n",
       "        4.700000e+01, 3.000000e+01, 1.900000e+01, 8.000000e+00,\n",
       "        7.000000e+00, 3.000000e+00, 6.000000e+00, 2.000000e+00,\n",
       "        8.000000e+00, 2.000000e+00, 0.000000e+00, 1.000000e+00,\n",
       "        0.000000e+00, 0.000000e+00, 1.000000e+00, 1.000000e+00,\n",
       "        0.000000e+00, 0.000000e+00, 2.000000e+00, 0.000000e+00,\n",
       "        0.000000e+00, 0.000000e+00, 0.000000e+00, 0.000000e+00,\n",
       "        0.000000e+00, 0.000000e+00, 1.000000e+00, 0.000000e+00,\n",
       "        0.000000e+00, 0.000000e+00, 1.000000e+00, 0.000000e+00,\n",
       "        0.000000e+00, 0.000000e+00, 0.000000e+00, 1.000000e+00,\n",
       "        1.000000e+00, 0.000000e+00, 0.000000e+00, 0.000000e+00,\n",
       "        0.000000e+00, 1.000000e+00]),\n",
       " array([    0. ,   289.1,   578.2,   867.3,  1156.4,  1445.5,  1734.6,\n",
       "         2023.7,  2312.8,  2601.9,  2891. ,  3180.1,  3469.2,  3758.3,\n",
       "         4047.4,  4336.5,  4625.6,  4914.7,  5203.8,  5492.9,  5782. ,\n",
       "         6071.1,  6360.2,  6649.3,  6938.4,  7227.5,  7516.6,  7805.7,\n",
       "         8094.8,  8383.9,  8673. ,  8962.1,  9251.2,  9540.3,  9829.4,\n",
       "        10118.5, 10407.6, 10696.7, 10985.8, 11274.9, 11564. , 11853.1,\n",
       "        12142.2, 12431.3, 12720.4, 13009.5, 13298.6, 13587.7, 13876.8,\n",
       "        14165.9, 14455. ]),\n",
       " <a list of 50 Patch objects>)"
      ]
     },
     "execution_count": 33,
     "metadata": {},
     "output_type": "execute_result"
    },
    {
     "data": {
      "image/png": "[encoded data removed]",
      "text/plain": [
       "<Figure size 432x288 with 1 Axes>"
      ]
     },
     "metadata": {},
     "output_type": "display_data"
    }
   ],
   "source": [
    "plt.hist(user_df['review_count'], bins=50, log=True)"
   ]
  },
  {
   "cell_type": "code",
   "execution_count": 46,
   "metadata": {
    "ExecuteTime": {
     "end_time": "2020-03-25T06:31:34.282768Z",
     "start_time": "2020-03-25T06:31:34.271432Z"
    }
   },
   "outputs": [
    {
     "data": {
      "text/plain": [
       "M5T 1L1    35\n",
       "M1V 5N1    32\n",
       "M5T        30\n",
       "M5V 1J5    27\n",
       "M5V        26\n",
       "M6A 2T9    23\n",
       "M4K 1P1    22\n",
       "M1V        21\n",
       "M4J 1L2    21\n",
       "M5B 2H1    21\n",
       "M4G 3B7    21\n",
       "M6G 1B4    20\n",
       "           20\n",
       "M6K 1L4    19\n",
       "M4K 1N2    19\n",
       "M4Y 2A6    19\n",
       "M6J        19\n",
       "M5V 1Z4    19\n",
       "M5V 1K4    18\n",
       "M5V 1M5    18\n",
       "Name: postal_code, dtype: int64"
      ]
     },
     "execution_count": 46,
     "metadata": {},
     "output_type": "execute_result"
    }
   ],
   "source": [
    "toronto_rest['postal_code'].value_counts()[:20]"
   ]
  },
  {
   "cell_type": "code",
   "execution_count": 42,
   "metadata": {
    "ExecuteTime": {
     "end_time": "2020-03-25T06:09:41.312069Z",
     "start_time": "2020-03-25T06:09:40.895149Z"
    }
   },
   "outputs": [
    {
     "data": {
      "text/plain": [
       "(array([1.527e+03, 6.120e+02, 3.270e+02, 0.000e+00, 2.000e+02, 1.300e+02,\n",
       "        0.000e+00, 1.120e+02, 6.100e+01, 0.000e+00, 5.000e+01, 3.000e+01,\n",
       "        0.000e+00, 3.600e+01, 2.100e+01, 0.000e+00, 1.500e+01, 1.000e+01,\n",
       "        0.000e+00, 6.000e+00, 5.000e+00, 0.000e+00, 6.000e+00, 4.000e+00,\n",
       "        0.000e+00, 5.000e+00, 5.000e+00, 2.000e+00, 0.000e+00, 4.000e+00,\n",
       "        1.000e+00, 0.000e+00, 1.000e+00, 0.000e+00, 0.000e+00, 0.000e+00,\n",
       "        1.000e+00, 0.000e+00, 1.000e+00, 0.000e+00, 0.000e+00, 0.000e+00,\n",
       "        1.000e+00, 0.000e+00, 0.000e+00, 1.000e+00, 0.000e+00, 0.000e+00,\n",
       "        0.000e+00, 1.000e+00]),\n",
       " array([ 1.  ,  1.68,  2.36,  3.04,  3.72,  4.4 ,  5.08,  5.76,  6.44,\n",
       "         7.12,  7.8 ,  8.48,  9.16,  9.84, 10.52, 11.2 , 11.88, 12.56,\n",
       "        13.24, 13.92, 14.6 , 15.28, 15.96, 16.64, 17.32, 18.  , 18.68,\n",
       "        19.36, 20.04, 20.72, 21.4 , 22.08, 22.76, 23.44, 24.12, 24.8 ,\n",
       "        25.48, 26.16, 26.84, 27.52, 28.2 , 28.88, 29.56, 30.24, 30.92,\n",
       "        31.6 , 32.28, 32.96, 33.64, 34.32, 35.  ]),\n",
       " <a list of 50 Patch objects>)"
      ]
     },
     "execution_count": 42,
     "metadata": {},
     "output_type": "execute_result"
    },
    {
     "data": {
      "image/png": "[encoded data removed]",
      "text/plain": [
       "<Figure size 432x288 with 1 Axes>"
      ]
     },
     "metadata": {},
     "output_type": "display_data"
    }
   ],
   "source": [
    "plt.hist(toronto_rest['postal_code'].value_counts(), bins=50, log=True)"
   ]
  },
  {
   "cell_type": "code",
   "execution_count": 48,
   "metadata": {
    "ExecuteTime": {
     "end_time": "2020-03-25T06:32:03.414927Z",
     "start_time": "2020-03-25T06:32:03.404792Z"
    }
   },
   "outputs": [
    {
     "data": {
      "text/plain": [
       "['M5T 1L1',\n",
       " 'M1V 5N1',\n",
       " 'M5T',\n",
       " 'M5V 1J5',\n",
       " 'M5V',\n",
       " 'M6A 2T9',\n",
       " 'M4K 1P1',\n",
       " 'M1V',\n",
       " 'M4J 1L2',\n",
       " 'M5B 2H1',\n",
       " 'M4G 3B7',\n",
       " 'M6G 1B4',\n",
       " '',\n",
       " 'M6K 1L4',\n",
       " 'M4K 1N2',\n",
       " 'M4Y 2A6',\n",
       " 'M6J',\n",
       " 'M5V 1Z4',\n",
       " 'M5V 1K4',\n",
       " 'M5V 1M5']"
      ]
     },
     "execution_count": 48,
     "metadata": {},
     "output_type": "execute_result"
    }
   ],
   "source": [
    "toronto_rest['postal_code'].value_counts()[:20].index.to_list()"
   ]
  },
  {
   "cell_type": "code",
   "execution_count": 61,
   "metadata": {
    "ExecuteTime": {
     "end_time": "2020-03-25T06:52:45.165965Z",
     "start_time": "2020-03-25T06:52:45.155543Z"
    }
   },
   "outputs": [],
   "source": [
    "cs = toronto_rest.groupby('postal_code').size().sort_values(ascending=False).cumsum()"
   ]
  },
  {
   "cell_type": "code",
   "execution_count": 62,
   "metadata": {
    "ExecuteTime": {
     "end_time": "2020-03-25T06:52:50.757531Z",
     "start_time": "2020-03-25T06:52:50.750201Z"
    }
   },
   "outputs": [
    {
     "data": {
      "text/plain": [
       "postal_code\n",
       "M5T 1L1     35\n",
       "M1V 5N1     67\n",
       "M5T         97\n",
       "M5V 1J5    124\n",
       "M5V        150\n",
       "M6A 2T9    173\n",
       "M4K 1P1    195\n",
       "dtype: int64"
      ]
     },
     "execution_count": 62,
     "metadata": {},
     "output_type": "execute_result"
    }
   ],
   "source": [
    "cs[cs < 200]"
   ]
  },
  {
   "cell_type": "code",
   "execution_count": 64,
   "metadata": {
    "ExecuteTime": {
     "end_time": "2020-03-25T07:00:48.548284Z",
     "start_time": "2020-03-25T07:00:48.538901Z"
    }
   },
   "outputs": [
    {
     "ename": "AttributeError",
     "evalue": "'numpy.int64' object has no attribute 'index'",
     "output_type": "error",
     "traceback": [
      "\u001b[0;31m---------------------------------------------------------------------------\u001b[0m",
      "\u001b[0;31mAttributeError\u001b[0m                            Traceback (most recent call last)",
      "\u001b[0;32m<ipython-input-64-f6f9de5eca2d>\u001b[0m in \u001b[0;36m<module>\u001b[0;34m\u001b[0m\n\u001b[0;32m----> 1\u001b[0;31m \u001b[0mcs\u001b[0m\u001b[0;34m.\u001b[0m\u001b[0mloc\u001b[0m\u001b[0;34m[\u001b[0m\u001b[0;34m'M4K 1P1'\u001b[0m\u001b[0;34m]\u001b[0m\u001b[0;34m.\u001b[0m\u001b[0mindex\u001b[0m\u001b[0;34m\u001b[0m\u001b[0;34m\u001b[0m\u001b[0m\n\u001b[0m",
      "\u001b[0;31mAttributeError\u001b[0m: 'numpy.int64' object has no attribute 'index'"
     ]
    }
   ],
   "source": [
    "cs.loc['M4K 1P1']"
   ]
  },
  {
   "cell_type": "code",
   "execution_count": null,
   "metadata": {},
   "outputs": [],
   "source": []
  }
 ],
 "metadata": {
  "kernelspec": {
   "display_name": "Python 3",
   "language": "python",
   "name": "python3"
  },
  "language_info": {
   "codemirror_mode": {
    "name": "ipython",
    "version": 3
   },
   "file_extension": ".py",
   "mimetype": "text/x-python",
   "name": "python",
   "nbconvert_exporter": "python",
   "pygments_lexer": "ipython3",
   "version": "3.7.6"
  }
 },
 "nbformat": 4,
 "nbformat_minor": 4
}

{
 "cells": [
  {
   "cell_type": "code",
   "execution_count": 74,
   "metadata": {
    "ExecuteTime": {
     "end_time": "2020-03-25T07:27:55.174434Z",
     "start_time": "2020-03-25T07:27:55.100438Z"
    }
   },
   "outputs": [],
   "source": [
    "import pandas as pd\n",
    "import numpy as np\n",
    "import networkx as nx\n",
    "import os\n",
    "import json\n",
    "from tqdm.notebook import tqdm"
   ]
  },
  {
   "cell_type": "code",
   "execution_count": 2,
   "metadata": {
    "ExecuteTime": {
     "end_time": "2020-03-24T20:26:22.226867Z",
     "start_time": "2020-03-24T20:26:22.223794Z"
    }
   },
   "outputs": [],
   "source": [
    "bussi_file = 'yelp_academic_dataset_business.json'\n",
    "user_file = 'yelp_academic_dataset_user.json'\n",
    "review_file = 'yelp_academic_dataset_review.json'"
   ]
  },
  {
   "cell_type": "code",
   "execution_count": 3,
   "metadata": {
    "ExecuteTime": {
     "end_time": "2020-03-24T20:26:22.232470Z",
     "start_time": "2020-03-24T20:26:22.229423Z"
    }
   },
   "outputs": [],
   "source": [
    "def parse_file(filename):\n",
    "    with open(filename) as inputfile:\n",
    "        for line in inputfile:\n",
    "            yield json.loads(line)"
   ]
  },
  {
   "cell_type": "code",
   "execution_count": 4,
   "metadata": {
    "ExecuteTime": {
     "end_time": "2020-03-24T20:26:25.915365Z",
     "start_time": "2020-03-24T20:26:22.234462Z"
    }
   },
   "outputs": [],
   "source": [
    "busi_df = pd.DataFrame.from_records([b for b in parse_file(bussi_file)])"
   ]
  },
  {
   "cell_type": "code",
   "execution_count": 19,
   "metadata": {
    "ExecuteTime": {
     "end_time": "2020-03-24T21:49:10.596641Z",
     "start_time": "2020-03-24T21:49:04.441914Z"
    }
   },
   "outputs": [],
   "source": [
    "rest_df = busi_df[busi_df.apply(lambda row: isinstance(row['categories'], str) and 'Restaurants' in row['categories'], axis=1)]\n",
    "rest_df.set_index('business_id', inplace=True)"
   ]
  },
  {
   "cell_type": "code",
   "execution_count": 7,
   "metadata": {
    "ExecuteTime": {
     "end_time": "2020-03-24T20:27:22.929700Z",
     "start_time": "2020-03-24T20:26:30.213151Z"
    }
   },
   "outputs": [],
   "source": [
    "user_df = pd.DataFrame.from_records([u for u in parse_file(user_file)])"
   ]
  },
  {
   "cell_type": "code",
   "execution_count": 17,
   "metadata": {
    "ExecuteTime": {
     "end_time": "2020-03-24T21:48:14.531924Z",
     "start_time": "2020-03-24T21:47:55.720320Z"
    }
   },
   "outputs": [],
   "source": [
    "user_df.set_index('user_id', inplace=True)"
   ]
  },
  {
   "cell_type": "code",
   "execution_count": 8,
   "metadata": {
    "ExecuteTime": {
     "end_time": "2020-03-24T21:40:37.540894Z",
     "start_time": "2020-03-24T21:36:45.614779Z"
    }
   },
   "outputs": [],
   "source": [
    "review_df = pd.DataFrame.from_records([r for r in parse_file(review_file)])"
   ]
  },
  {
   "cell_type": "code",
   "execution_count": 18,
   "metadata": {
    "ExecuteTime": {
     "end_time": "2020-03-24T21:49:00.552168Z",
     "start_time": "2020-03-24T21:48:30.756100Z"
    }
   },
   "outputs": [],
   "source": [
    "review_df.set_index('business_id', inplace=True)"
   ]
  },
  {
   "cell_type": "code",
   "execution_count": 20,
   "metadata": {
    "ExecuteTime": {
     "end_time": "2020-03-24T21:49:10.631391Z",
     "start_time": "2020-03-24T21:49:10.604503Z"
    }
   },
   "outputs": [],
   "source": [
    "toronto_rest = rest_df[rest_df['city'] == 'Toronto']"
   ]
  },
  {
   "cell_type": "code",
   "execution_count": 21,
   "metadata": {
    "ExecuteTime": {
     "end_time": "2020-03-24T21:49:10.646824Z",
     "start_time": "2020-03-24T21:49:10.636713Z"
    }
   },
   "outputs": [],
   "source": [
    "mid_toronto_rest = toronto_rest[(toronto_rest['review_count'] >= 100) & (toronto_rest['review_count'] < 1000)]"
   ]
  },
  {
   "cell_type": "code",
   "execution_count": 22,
   "metadata": {
    "ExecuteTime": {
     "end_time": "2020-03-24T21:49:10.699135Z",
     "start_time": "2020-03-24T21:49:10.649227Z"
    },
    "scrolled": true
   },
   "outputs": [
    {
     "data": {
      "text/html": [
       "<div>\n",
       "<style scoped>\n",
       "    .dataframe tbody tr th:only-of-type {\n",
       "        vertical-align: middle;\n",
       "    }\n",
       "\n",
       "    .dataframe tbody tr th {\n",
       "        vertical-align: top;\n",
       "    }\n",
       "\n",
       "    .dataframe thead th {\n",
       "        text-align: right;\n",
       "    }\n",
       "</style>\n",
       "<table border=\"1\" class=\"dataframe\">\n",
       "  <thead>\n",
       "    <tr style=\"text-align: right;\">\n",
       "      <th></th>\n",
       "      <th>name</th>\n",
       "      <th>address</th>\n",
       "      <th>city</th>\n",
       "      <th>state</th>\n",
       "      <th>postal_code</th>\n",
       "      <th>latitude</th>\n",
       "      <th>longitude</th>\n",
       "      <th>stars</th>\n",
       "      <th>review_count</th>\n",
       "      <th>is_open</th>\n",
       "      <th>attributes</th>\n",
       "      <th>categories</th>\n",
       "      <th>hours</th>\n",
       "    </tr>\n",
       "    <tr>\n",
       "      <th>business_id</th>\n",
       "      <th></th>\n",
       "      <th></th>\n",
       "      <th></th>\n",
       "      <th></th>\n",
       "      <th></th>\n",
       "      <th></th>\n",
       "      <th></th>\n",
       "      <th></th>\n",
       "      <th></th>\n",
       "      <th></th>\n",
       "      <th></th>\n",
       "      <th></th>\n",
       "      <th></th>\n",
       "    </tr>\n",
       "  </thead>\n",
       "  <tbody>\n",
       "    <tr>\n",
       "      <th>0QjROMVW9ACKjhSEfHqNCQ</th>\n",
       "      <td>Mi Mi Restaurant</td>\n",
       "      <td>688 Gerrard Street E</td>\n",
       "      <td>Toronto</td>\n",
       "      <td>ON</td>\n",
       "      <td>M4M 1Y3</td>\n",
       "      <td>43.666376</td>\n",
       "      <td>-79.348773</td>\n",
       "      <td>4.0</td>\n",
       "      <td>116</td>\n",
       "      <td>1</td>\n",
       "      <td>{'RestaurantsTakeOut': 'True', 'Alcohol': 'u'b...</td>\n",
       "      <td>Vietnamese, Restaurants</td>\n",
       "      <td>{'Monday': '11:0-22:0', 'Tuesday': '11:0-22:0'...</td>\n",
       "    </tr>\n",
       "    <tr>\n",
       "      <th>37kk0IW6jL7ZlxZF6k2QBg</th>\n",
       "      <td>Edulis</td>\n",
       "      <td>169 Niagara Street</td>\n",
       "      <td>Toronto</td>\n",
       "      <td>ON</td>\n",
       "      <td>M5V</td>\n",
       "      <td>43.641948</td>\n",
       "      <td>-79.406580</td>\n",
       "      <td>4.0</td>\n",
       "      <td>115</td>\n",
       "      <td>1</td>\n",
       "      <td>{'RestaurantsGoodForGroups': 'False', 'Restaur...</td>\n",
       "      <td>Restaurants, Spanish, French</td>\n",
       "      <td>{'Wednesday': '18:0-23:0', 'Thursday': '18:0-2...</td>\n",
       "    </tr>\n",
       "    <tr>\n",
       "      <th>Nxg73OigmRQQq0d1pKtkUQ</th>\n",
       "      <td>Xe Lua Restaurant</td>\n",
       "      <td>254 Spadina Avenue, 2nd Floor</td>\n",
       "      <td>Toronto</td>\n",
       "      <td>ON</td>\n",
       "      <td>M5T 2C2</td>\n",
       "      <td>43.651700</td>\n",
       "      <td>-79.397987</td>\n",
       "      <td>3.0</td>\n",
       "      <td>177</td>\n",
       "      <td>1</td>\n",
       "      <td>{'Alcohol': 'u'beer_and_wine'', 'RestaurantsDe...</td>\n",
       "      <td>Vietnamese, Restaurants</td>\n",
       "      <td>{'Monday': '10:0-0:0', 'Tuesday': '10:0-0:0', ...</td>\n",
       "    </tr>\n",
       "    <tr>\n",
       "      <th>K5Q2vkF5UpytV9Q1rB-5Yg</th>\n",
       "      <td>Akira Back</td>\n",
       "      <td>80 Blue Jays Way, 2nd Floor</td>\n",
       "      <td>Toronto</td>\n",
       "      <td>ON</td>\n",
       "      <td>M5V 2G3</td>\n",
       "      <td>43.645297</td>\n",
       "      <td>-79.392397</td>\n",
       "      <td>4.0</td>\n",
       "      <td>124</td>\n",
       "      <td>1</td>\n",
       "      <td>{'WiFi': ''no'', 'RestaurantsDelivery': 'False...</td>\n",
       "      <td>Restaurants, Japanese, Korean, Asian Fusion</td>\n",
       "      <td>None</td>\n",
       "    </tr>\n",
       "    <tr>\n",
       "      <th>q0hAKzn_LmyUiScCuWS4Hg</th>\n",
       "      <td>Korean Grill House</td>\n",
       "      <td>754 Yonge Street</td>\n",
       "      <td>Toronto</td>\n",
       "      <td>ON</td>\n",
       "      <td>M4Y 2B6</td>\n",
       "      <td>43.669261</td>\n",
       "      <td>-79.386833</td>\n",
       "      <td>3.0</td>\n",
       "      <td>122</td>\n",
       "      <td>1</td>\n",
       "      <td>{'BusinessParking': '{'garage': False, 'street...</td>\n",
       "      <td>Korean, Restaurants</td>\n",
       "      <td>None</td>\n",
       "    </tr>\n",
       "    <tr>\n",
       "      <th>...</th>\n",
       "      <td>...</td>\n",
       "      <td>...</td>\n",
       "      <td>...</td>\n",
       "      <td>...</td>\n",
       "      <td>...</td>\n",
       "      <td>...</td>\n",
       "      <td>...</td>\n",
       "      <td>...</td>\n",
       "      <td>...</td>\n",
       "      <td>...</td>\n",
       "      <td>...</td>\n",
       "      <td>...</td>\n",
       "      <td>...</td>\n",
       "    </tr>\n",
       "    <tr>\n",
       "      <th>Pthcdg09sHQ9M9Tj5P9gfQ</th>\n",
       "      <td>C'est What</td>\n",
       "      <td>67 Front Street E</td>\n",
       "      <td>Toronto</td>\n",
       "      <td>ON</td>\n",
       "      <td>M5E 1B5</td>\n",
       "      <td>43.648248</td>\n",
       "      <td>-79.373359</td>\n",
       "      <td>3.5</td>\n",
       "      <td>323</td>\n",
       "      <td>1</td>\n",
       "      <td>{'RestaurantsDelivery': 'False', 'RestaurantsP...</td>\n",
       "      <td>Nightlife, Bars, Burgers, Comfort Food, Pubs, ...</td>\n",
       "      <td>{'Monday': '0:0-0:0', 'Tuesday': '11:30-17:0',...</td>\n",
       "    </tr>\n",
       "    <tr>\n",
       "      <th>IE1lzZvdD9UnGeB1kXjuOQ</th>\n",
       "      <td>Aroma Espresso Bar</td>\n",
       "      <td>500 Bloor Street W</td>\n",
       "      <td>Toronto</td>\n",
       "      <td>ON</td>\n",
       "      <td>M5S 1Y3</td>\n",
       "      <td>43.665523</td>\n",
       "      <td>-79.410272</td>\n",
       "      <td>3.5</td>\n",
       "      <td>147</td>\n",
       "      <td>0</td>\n",
       "      <td>{'RestaurantsReservations': 'False', 'WiFi': '...</td>\n",
       "      <td>Sandwiches, Coffee &amp; Tea, Restaurants, Food, B...</td>\n",
       "      <td>{'Monday': '7:30-22:0', 'Tuesday': '7:30-22:0'...</td>\n",
       "    </tr>\n",
       "    <tr>\n",
       "      <th>2auigv5pF08RjJ8CL1dIVw</th>\n",
       "      <td>O&amp;B Canteen</td>\n",
       "      <td>330 King Street W</td>\n",
       "      <td>Toronto</td>\n",
       "      <td>ON</td>\n",
       "      <td>M5V 3X2</td>\n",
       "      <td>43.646693</td>\n",
       "      <td>-79.390210</td>\n",
       "      <td>3.0</td>\n",
       "      <td>291</td>\n",
       "      <td>1</td>\n",
       "      <td>{'RestaurantsGoodForGroups': 'True', 'Alcohol'...</td>\n",
       "      <td>American (New), Restaurants, Canadian (New), C...</td>\n",
       "      <td>{'Monday': '8:0-21:0', 'Tuesday': '8:0-22:0', ...</td>\n",
       "    </tr>\n",
       "    <tr>\n",
       "      <th>thzyiQZb16zD8wMliaEfRQ</th>\n",
       "      <td>Sushi Supreme</td>\n",
       "      <td>1995 Yonge Street</td>\n",
       "      <td>Toronto</td>\n",
       "      <td>ON</td>\n",
       "      <td>M4S 1Z8</td>\n",
       "      <td>43.700617</td>\n",
       "      <td>-79.396762</td>\n",
       "      <td>4.0</td>\n",
       "      <td>104</td>\n",
       "      <td>1</td>\n",
       "      <td>{'Ambience': '{'romantic': False, 'intimate': ...</td>\n",
       "      <td>Sushi Bars, Restaurants, Japanese</td>\n",
       "      <td>{'Monday': '12:0-23:0', 'Tuesday': '12:0-23:0'...</td>\n",
       "    </tr>\n",
       "    <tr>\n",
       "      <th>yFQCdWr_k1pTObzHPGis9Q</th>\n",
       "      <td>Grasshopper Restaurant</td>\n",
       "      <td>310 College Street</td>\n",
       "      <td>Toronto</td>\n",
       "      <td>ON</td>\n",
       "      <td>M5T 1S2</td>\n",
       "      <td>43.657716</td>\n",
       "      <td>-79.402098</td>\n",
       "      <td>4.0</td>\n",
       "      <td>177</td>\n",
       "      <td>1</td>\n",
       "      <td>{'DogsAllowed': 'False', 'BikeParking': 'True'...</td>\n",
       "      <td>Vegan, Restaurants, Vegetarian, Salad</td>\n",
       "      <td>{'Monday': '11:30-22:0', 'Tuesday': '11:30-22:...</td>\n",
       "    </tr>\n",
       "  </tbody>\n",
       "</table>\n",
       "<p>1062 rows × 13 columns</p>\n",
       "</div>"
      ],
      "text/plain": [
       "                                          name                        address  \\\n",
       "business_id                                                                     \n",
       "0QjROMVW9ACKjhSEfHqNCQ        Mi Mi Restaurant           688 Gerrard Street E   \n",
       "37kk0IW6jL7ZlxZF6k2QBg                  Edulis             169 Niagara Street   \n",
       "Nxg73OigmRQQq0d1pKtkUQ       Xe Lua Restaurant  254 Spadina Avenue, 2nd Floor   \n",
       "K5Q2vkF5UpytV9Q1rB-5Yg              Akira Back    80 Blue Jays Way, 2nd Floor   \n",
       "q0hAKzn_LmyUiScCuWS4Hg      Korean Grill House               754 Yonge Street   \n",
       "...                                        ...                            ...   \n",
       "Pthcdg09sHQ9M9Tj5P9gfQ              C'est What              67 Front Street E   \n",
       "IE1lzZvdD9UnGeB1kXjuOQ      Aroma Espresso Bar             500 Bloor Street W   \n",
       "2auigv5pF08RjJ8CL1dIVw             O&B Canteen              330 King Street W   \n",
       "thzyiQZb16zD8wMliaEfRQ           Sushi Supreme              1995 Yonge Street   \n",
       "yFQCdWr_k1pTObzHPGis9Q  Grasshopper Restaurant             310 College Street   \n",
       "\n",
       "                           city state postal_code   latitude  longitude  \\\n",
       "business_id                                                               \n",
       "0QjROMVW9ACKjhSEfHqNCQ  Toronto    ON     M4M 1Y3  43.666376 -79.348773   \n",
       "37kk0IW6jL7ZlxZF6k2QBg  Toronto    ON         M5V  43.641948 -79.406580   \n",
       "Nxg73OigmRQQq0d1pKtkUQ  Toronto    ON     M5T 2C2  43.651700 -79.397987   \n",
       "K5Q2vkF5UpytV9Q1rB-5Yg  Toronto    ON     M5V 2G3  43.645297 -79.392397   \n",
       "q0hAKzn_LmyUiScCuWS4Hg  Toronto    ON     M4Y 2B6  43.669261 -79.386833   \n",
       "...                         ...   ...         ...        ...        ...   \n",
       "Pthcdg09sHQ9M9Tj5P9gfQ  Toronto    ON     M5E 1B5  43.648248 -79.373359   \n",
       "IE1lzZvdD9UnGeB1kXjuOQ  Toronto    ON     M5S 1Y3  43.665523 -79.410272   \n",
       "2auigv5pF08RjJ8CL1dIVw  Toronto    ON     M5V 3X2  43.646693 -79.390210   \n",
       "thzyiQZb16zD8wMliaEfRQ  Toronto    ON     M4S 1Z8  43.700617 -79.396762   \n",
       "yFQCdWr_k1pTObzHPGis9Q  Toronto    ON     M5T 1S2  43.657716 -79.402098   \n",
       "\n",
       "                        stars  review_count  is_open  \\\n",
       "business_id                                            \n",
       "0QjROMVW9ACKjhSEfHqNCQ    4.0           116        1   \n",
       "37kk0IW6jL7ZlxZF6k2QBg    4.0           115        1   \n",
       "Nxg73OigmRQQq0d1pKtkUQ    3.0           177        1   \n",
       "K5Q2vkF5UpytV9Q1rB-5Yg    4.0           124        1   \n",
       "q0hAKzn_LmyUiScCuWS4Hg    3.0           122        1   \n",
       "...                       ...           ...      ...   \n",
       "Pthcdg09sHQ9M9Tj5P9gfQ    3.5           323        1   \n",
       "IE1lzZvdD9UnGeB1kXjuOQ    3.5           147        0   \n",
       "2auigv5pF08RjJ8CL1dIVw    3.0           291        1   \n",
       "thzyiQZb16zD8wMliaEfRQ    4.0           104        1   \n",
       "yFQCdWr_k1pTObzHPGis9Q    4.0           177        1   \n",
       "\n",
       "                                                               attributes  \\\n",
       "business_id                                                                 \n",
       "0QjROMVW9ACKjhSEfHqNCQ  {'RestaurantsTakeOut': 'True', 'Alcohol': 'u'b...   \n",
       "37kk0IW6jL7ZlxZF6k2QBg  {'RestaurantsGoodForGroups': 'False', 'Restaur...   \n",
       "Nxg73OigmRQQq0d1pKtkUQ  {'Alcohol': 'u'beer_and_wine'', 'RestaurantsDe...   \n",
       "K5Q2vkF5UpytV9Q1rB-5Yg  {'WiFi': ''no'', 'RestaurantsDelivery': 'False...   \n",
       "q0hAKzn_LmyUiScCuWS4Hg  {'BusinessParking': '{'garage': False, 'street...   \n",
       "...                                                                   ...   \n",
       "Pthcdg09sHQ9M9Tj5P9gfQ  {'RestaurantsDelivery': 'False', 'RestaurantsP...   \n",
       "IE1lzZvdD9UnGeB1kXjuOQ  {'RestaurantsReservations': 'False', 'WiFi': '...   \n",
       "2auigv5pF08RjJ8CL1dIVw  {'RestaurantsGoodForGroups': 'True', 'Alcohol'...   \n",
       "thzyiQZb16zD8wMliaEfRQ  {'Ambience': '{'romantic': False, 'intimate': ...   \n",
       "yFQCdWr_k1pTObzHPGis9Q  {'DogsAllowed': 'False', 'BikeParking': 'True'...   \n",
       "\n",
       "                                                               categories  \\\n",
       "business_id                                                                 \n",
       "0QjROMVW9ACKjhSEfHqNCQ                            Vietnamese, Restaurants   \n",
       "37kk0IW6jL7ZlxZF6k2QBg                       Restaurants, Spanish, French   \n",
       "Nxg73OigmRQQq0d1pKtkUQ                            Vietnamese, Restaurants   \n",
       "K5Q2vkF5UpytV9Q1rB-5Yg        Restaurants, Japanese, Korean, Asian Fusion   \n",
       "q0hAKzn_LmyUiScCuWS4Hg                                Korean, Restaurants   \n",
       "...                                                                   ...   \n",
       "Pthcdg09sHQ9M9Tj5P9gfQ  Nightlife, Bars, Burgers, Comfort Food, Pubs, ...   \n",
       "IE1lzZvdD9UnGeB1kXjuOQ  Sandwiches, Coffee & Tea, Restaurants, Food, B...   \n",
       "2auigv5pF08RjJ8CL1dIVw  American (New), Restaurants, Canadian (New), C...   \n",
       "thzyiQZb16zD8wMliaEfRQ                  Sushi Bars, Restaurants, Japanese   \n",
       "yFQCdWr_k1pTObzHPGis9Q              Vegan, Restaurants, Vegetarian, Salad   \n",
       "\n",
       "                                                                    hours  \n",
       "business_id                                                                \n",
       "0QjROMVW9ACKjhSEfHqNCQ  {'Monday': '11:0-22:0', 'Tuesday': '11:0-22:0'...  \n",
       "37kk0IW6jL7ZlxZF6k2QBg  {'Wednesday': '18:0-23:0', 'Thursday': '18:0-2...  \n",
       "Nxg73OigmRQQq0d1pKtkUQ  {'Monday': '10:0-0:0', 'Tuesday': '10:0-0:0', ...  \n",
       "K5Q2vkF5UpytV9Q1rB-5Yg                                               None  \n",
       "q0hAKzn_LmyUiScCuWS4Hg                                               None  \n",
       "...                                                                   ...  \n",
       "Pthcdg09sHQ9M9Tj5P9gfQ  {'Monday': '0:0-0:0', 'Tuesday': '11:30-17:0',...  \n",
       "IE1lzZvdD9UnGeB1kXjuOQ  {'Monday': '7:30-22:0', 'Tuesday': '7:30-22:0'...  \n",
       "2auigv5pF08RjJ8CL1dIVw  {'Monday': '8:0-21:0', 'Tuesday': '8:0-22:0', ...  \n",
       "thzyiQZb16zD8wMliaEfRQ  {'Monday': '12:0-23:0', 'Tuesday': '12:0-23:0'...  \n",
       "yFQCdWr_k1pTObzHPGis9Q  {'Monday': '11:30-22:0', 'Tuesday': '11:30-22:...  \n",
       "\n",
       "[1062 rows x 13 columns]"
      ]
     },
     "execution_count": 22,
     "metadata": {},
     "output_type": "execute_result"
    }
   ],
   "source": [
    "mid_toronto_rest"
   ]
  },
  {
   "cell_type": "code",
   "execution_count": 49,
   "metadata": {
    "ExecuteTime": {
     "end_time": "2020-03-25T03:39:19.664913Z",
     "start_time": "2020-03-25T03:39:19.658637Z"
    }
   },
   "outputs": [],
   "source": [
    "def np_encoder(obj):\n",
    "    if isinstance(obj, np.integer):\n",
    "        return int(obj)\n",
    "    elif isinstance(obj, np.floating):\n",
    "        return float(obj)\n",
    "    elif isinstance(obj, np.ndarray):\n",
    "        return obj.tolist()\n",
    "    elif isinstance(obj, datetime.datetime):\n",
    "        return obj.__str__()"
   ]
  },
  {
   "cell_type": "code",
   "execution_count": 77,
   "metadata": {
    "ExecuteTime": {
     "end_time": "2020-03-25T07:28:13.185280Z",
     "start_time": "2020-03-25T07:28:13.166443Z"
    }
   },
   "outputs": [],
   "source": [
    "def construct_graph(rest_df, n_rest, user_sample_size, output_dir):\n",
    "    node_mapping = {}\n",
    "    g = nx.Graph()\n",
    "    node_idx = 0\n",
    "    edge_idx = 0\n",
    "    \n",
    "    # Select all restaurants of a neighborhood (identified by postal code)\n",
    "    groups = rest_df.groupby('postal_code')\n",
    "    cum_sum = groups.size().sort_values(ascending=False).cumsum()\n",
    "    postal_codes = cum_sum[cum_sum <= n_rest].index.to_list()\n",
    "    if len(postal_codes) > 0:\n",
    "        restaurants = pd.concat([groups.get_group(p) for p in postal_codes])\n",
    "        leftover = n_rest - cum_sum.loc[postal_codes[-1]]\n",
    "    else:\n",
    "        restaurants = pd.DataFrame()\n",
    "        leftover = n_rest\n",
    "    \n",
    "    if leftover > 0:\n",
    "        next_postal_code = cum_sum[cum_sum > n_rest][:1].index.to_list()[0]\n",
    "        postal_codes.append(next_postal_code)\n",
    "        restaurants = pd.concat([restaurants, groups.get_group(next_postal_code).sample(leftover)])\n",
    "    print('postal codes: ', postal_codes, leftover)\n",
    "\n",
    "    for bs_id, a in tqdm(restaurants.iterrows(), total=len(restaurants)):\n",
    "        # Add a restaurant node\n",
    "        g.add_node(node_idx, original_id=bs_id, label=a['name'], type='restaurant', **a.to_dict())\n",
    "        node_mapping[bs_id] = node_idx\n",
    "        node_idx += 1\n",
    "\n",
    "        reviews = review_df.loc[bs_id]\n",
    "        # print(bs_id, a['postal_code'], a['name'], '\\t review count:', len(reviews))\n",
    "        sample_reviews = reviews.sample(min(user_sample_size, len(reviews)))\n",
    "        for idx, r in sample_reviews.iterrows():\n",
    "            user_id = r['user_id']\n",
    "            u = user_df.loc[user_id]\n",
    "            if user_id not in node_mapping:\n",
    "                # Add a user node\n",
    "                g.add_node(node_idx, original_id=r['user_id'], label=u['name'], type='user', **u.to_dict())\n",
    "                node_mapping[user_id] = node_idx\n",
    "                node_idx += 1\n",
    "            # else:\n",
    "                # print('user found: ', user_id)\n",
    "\n",
    "            # Add an edge\n",
    "            g.add_edge(node_mapping[bs_id], node_mapping[user_id], star=r['stars'], date=r['date'], text=r['text'])\n",
    "    \n",
    "    print('# nodes: ', g.number_of_nodes(), '\\t # edges: ', g.number_of_edges())\n",
    "    json_data = nx.node_link_data(g)\n",
    "    if not os.path.exists(output_dir):\n",
    "        print('Create directory: ', output_dir)\n",
    "        os.makedirs(output_dir)\n",
    "    json.dump(json_data, open(os.path.join(output_dir, 'graph.json'), 'w'), indent=2, allow_nan=False, default=np_encoder)\n",
    "    return g"
   ]
  },
  {
   "cell_type": "code",
   "execution_count": 78,
   "metadata": {
    "ExecuteTime": {
     "end_time": "2020-03-25T07:28:21.050996Z",
     "start_time": "2020-03-25T07:28:13.618007Z"
    }
   },
   "outputs": [
    {
     "name": "stdout",
     "output_type": "stream",
     "text": [
      "postal codes:  ['M5T 1L1'] 20\n"
     ]
    },
    {
     "data": {
      "application/vnd.jupyter.widget-view+json": {
       "model_id": "ad8d450f750e43ddaa6075f3592efc2b",
       "version_major": 2,
       "version_minor": 0
      },
      "text/plain": [
       "HBox(children=(FloatProgress(value=0.0, max=20.0), HTML(value='')))"
      ]
     },
     "metadata": {},
     "output_type": "display_data"
    },
    {
     "name": "stdout",
     "output_type": "stream",
     "text": [
      "\n",
      "# nodes:  637 \t # edges:  680\n"
     ]
    },
    {
     "data": {
      "text/plain": [
       "<networkx.classes.graph.Graph at 0xa1baafed0>"
      ]
     },
     "execution_count": 78,
     "metadata": {},
     "output_type": "execute_result"
    }
   ],
   "source": [
    "construct_graph(toronto_rest, 20, 50, 'graphs/toronto-rest-20-user-50')"
   ]
  },
  {
   "cell_type": "code",
   "execution_count": 79,
   "metadata": {
    "ExecuteTime": {
     "end_time": "2020-03-25T07:28:52.656890Z",
     "start_time": "2020-03-25T07:28:34.391984Z"
    }
   },
   "outputs": [
    {
     "name": "stdout",
     "output_type": "stream",
     "text": [
      "postal codes:  ['M5T 1L1', 'M1V 5N1'] 15\n"
     ]
    },
    {
     "data": {
      "application/vnd.jupyter.widget-view+json": {
       "model_id": "ac45def694c04d119cffd9794e513743",
       "version_major": 2,
       "version_minor": 0
      },
      "text/plain": [
       "HBox(children=(FloatProgress(value=0.0, max=50.0), HTML(value='')))"
      ]
     },
     "metadata": {},
     "output_type": "display_data"
    },
    {
     "name": "stdout",
     "output_type": "stream",
     "text": [
      "\n",
      "# nodes:  1225 \t # edges:  1401\n",
      "Create directory:  graphs/toronto-rest-50-user-50\n"
     ]
    },
    {
     "data": {
      "text/plain": [
       "<networkx.classes.graph.Graph at 0xa1ba926d0>"
      ]
     },
     "execution_count": 79,
     "metadata": {},
     "output_type": "execute_result"
    }
   ],
   "source": [
    "construct_graph(toronto_rest, 50, 50, 'graphs/toronto-rest-50-user-50')"
   ]
  },
  {
   "cell_type": "code",
   "execution_count": 80,
   "metadata": {
    "ExecuteTime": {
     "end_time": "2020-03-25T07:29:29.511765Z",
     "start_time": "2020-03-25T07:28:52.658520Z"
    }
   },
   "outputs": [
    {
     "name": "stdout",
     "output_type": "stream",
     "text": [
      "postal codes:  ['M5T 1L1', 'M1V 5N1', 'M5T', 'M5V 1J5'] 3\n"
     ]
    },
    {
     "data": {
      "application/vnd.jupyter.widget-view+json": {
       "model_id": "f0c657d947d74526844adec4471af3a4",
       "version_major": 2,
       "version_minor": 0
      },
      "text/plain": [
       "HBox(children=(FloatProgress(value=0.0), HTML(value='')))"
      ]
     },
     "metadata": {},
     "output_type": "display_data"
    },
    {
     "name": "stdout",
     "output_type": "stream",
     "text": [
      "\n",
      "# nodes:  2902 \t # edges:  3557\n",
      "Create directory:  graphs/toronto-rest-100-user-100\n"
     ]
    },
    {
     "data": {
      "text/plain": [
       "<networkx.classes.graph.Graph at 0xa1ba96110>"
      ]
     },
     "execution_count": 80,
     "metadata": {},
     "output_type": "execute_result"
    }
   ],
   "source": [
    "construct_graph(toronto_rest, 100, 100, 'graphs/toronto-rest-100-user-100')"
   ]
  },
  {
   "cell_type": "code",
   "execution_count": 81,
   "metadata": {
    "ExecuteTime": {
     "end_time": "2020-03-25T18:54:37.986783Z",
     "start_time": "2020-03-25T18:53:19.056936Z"
    }
   },
   "outputs": [
    {
     "name": "stdout",
     "output_type": "stream",
     "text": [
      "postal codes:  ['M5T 1L1', 'M1V 5N1', 'M5T', 'M5V 1J5', 'M5V', 'M6A 2T9', 'M4K 1P1', 'M5B 2H1'] 5\n"
     ]
    },
    {
     "data": {
      "application/vnd.jupyter.widget-view+json": {
       "model_id": "f04adb16eb1c423b92ea4dfe7a77b037",
       "version_major": 2,
       "version_minor": 0
      },
      "text/plain": [
       "HBox(children=(FloatProgress(value=0.0, max=200.0), HTML(value='')))"
      ]
     },
     "metadata": {},
     "output_type": "display_data"
    },
    {
     "name": "stdout",
     "output_type": "stream",
     "text": [
      "\n",
      "# nodes:  7074 \t # edges:  9285\n",
      "Create directory:  graphs/toronto-rest-200-user-150\n"
     ]
    },
    {
     "data": {
      "text/plain": [
       "<networkx.classes.graph.Graph at 0xa1bab7e10>"
      ]
     },
     "execution_count": 81,
     "metadata": {},
     "output_type": "execute_result"
    }
   ],
   "source": [
    "construct_graph(toronto_rest, 200, 150, 'graphs/toronto-rest-200-user-150')"
   ]
  },
  {
   "cell_type": "code",
   "execution_count": null,
   "metadata": {},
   "outputs": [],
   "source": []
  }
 ],
 "metadata": {
  "kernelspec": {
   "display_name": "Python 3",
   "language": "python",
   "name": "python3"
  },
  "language_info": {
   "codemirror_mode": {
    "name": "ipython",
    "version": 3
   },
   "file_extension": ".py",
   "mimetype": "text/x-python",
   "name": "python",
   "nbconvert_exporter": "python",
   "pygments_lexer": "ipython3",
   "version": "3.7.6"
  }
 },
 "nbformat": 4,
 "nbformat_minor": 4
}

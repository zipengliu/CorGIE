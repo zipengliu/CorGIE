{
 "cells": [
  {
   "cell_type": "code",
   "execution_count": 15,
   "metadata": {
    "ExecuteTime": {
     "end_time": "2020-09-23T09:23:09.808822Z",
     "start_time": "2020-09-23T09:23:09.805470Z"
    }
   },
   "outputs": [],
   "source": [
    "import pandas as pd\n",
    "import numpy as np\n",
    "import networkx as nx\n",
    "import os\n",
    "import json\n",
    "import string\n",
    "from tqdm.notebook import tqdm"
   ]
  },
  {
   "cell_type": "code",
   "execution_count": 2,
   "metadata": {
    "ExecuteTime": {
     "end_time": "2020-09-23T09:12:13.856384Z",
     "start_time": "2020-09-23T09:12:13.853269Z"
    }
   },
   "outputs": [],
   "source": [
    "bussi_file = 'yelp_academic_dataset_business.json'\n",
    "user_file = 'yelp_academic_dataset_user.json'\n",
    "review_file = 'yelp_academic_dataset_review.json'"
   ]
  },
  {
   "cell_type": "code",
   "execution_count": 3,
   "metadata": {
    "ExecuteTime": {
     "end_time": "2020-09-23T09:12:13.861472Z",
     "start_time": "2020-09-23T09:12:13.858676Z"
    }
   },
   "outputs": [],
   "source": [
    "def parse_file(filename):\n",
    "    with open(filename) as inputfile:\n",
    "        for line in inputfile:\n",
    "            yield json.loads(line)"
   ]
  },
  {
   "cell_type": "code",
   "execution_count": 4,
   "metadata": {
    "ExecuteTime": {
     "end_time": "2020-09-23T09:12:17.751075Z",
     "start_time": "2020-09-23T09:12:13.863640Z"
    }
   },
   "outputs": [],
   "source": [
    "busi_df = pd.DataFrame.from_records([b for b in parse_file(bussi_file)])"
   ]
  },
  {
   "cell_type": "code",
   "execution_count": 5,
   "metadata": {
    "ExecuteTime": {
     "end_time": "2020-09-23T09:12:22.295979Z",
     "start_time": "2020-09-23T09:12:17.752783Z"
    }
   },
   "outputs": [],
   "source": [
    "rest_df = busi_df[busi_df.apply(lambda row: isinstance(row['categories'], str) and 'Restaurants' in row['categories'], axis=1)]\n",
    "rest_df.set_index('business_id', inplace=True)"
   ]
  },
  {
   "cell_type": "code",
   "execution_count": 6,
   "metadata": {
    "ExecuteTime": {
     "end_time": "2020-09-23T09:12:22.339655Z",
     "start_time": "2020-09-23T09:12:22.298354Z"
    }
   },
   "outputs": [
    {
     "data": {
      "text/html": [
       "<div>\n",
       "<style scoped>\n",
       "    .dataframe tbody tr th:only-of-type {\n",
       "        vertical-align: middle;\n",
       "    }\n",
       "\n",
       "    .dataframe tbody tr th {\n",
       "        vertical-align: top;\n",
       "    }\n",
       "\n",
       "    .dataframe thead th {\n",
       "        text-align: right;\n",
       "    }\n",
       "</style>\n",
       "<table border=\"1\" class=\"dataframe\">\n",
       "  <thead>\n",
       "    <tr style=\"text-align: right;\">\n",
       "      <th></th>\n",
       "      <th>name</th>\n",
       "      <th>address</th>\n",
       "      <th>city</th>\n",
       "      <th>state</th>\n",
       "      <th>postal_code</th>\n",
       "      <th>latitude</th>\n",
       "      <th>longitude</th>\n",
       "      <th>stars</th>\n",
       "      <th>review_count</th>\n",
       "      <th>is_open</th>\n",
       "      <th>attributes</th>\n",
       "      <th>categories</th>\n",
       "      <th>hours</th>\n",
       "    </tr>\n",
       "    <tr>\n",
       "      <th>business_id</th>\n",
       "      <th></th>\n",
       "      <th></th>\n",
       "      <th></th>\n",
       "      <th></th>\n",
       "      <th></th>\n",
       "      <th></th>\n",
       "      <th></th>\n",
       "      <th></th>\n",
       "      <th></th>\n",
       "      <th></th>\n",
       "      <th></th>\n",
       "      <th></th>\n",
       "      <th></th>\n",
       "    </tr>\n",
       "  </thead>\n",
       "  <tbody>\n",
       "    <tr>\n",
       "      <th>pQeaRpvuhoEqudo3uymHIQ</th>\n",
       "      <td>The Empanadas House</td>\n",
       "      <td>404 E Green St</td>\n",
       "      <td>Champaign</td>\n",
       "      <td>IL</td>\n",
       "      <td>61820</td>\n",
       "      <td>40.110446</td>\n",
       "      <td>-88.233073</td>\n",
       "      <td>4.5</td>\n",
       "      <td>5</td>\n",
       "      <td>1</td>\n",
       "      <td>{'RestaurantsAttire': 'u'casual'', 'Restaurant...</td>\n",
       "      <td>Ethnic Food, Food Trucks, Specialty Food, Impo...</td>\n",
       "      <td>{'Monday': '11:30-14:30', 'Tuesday': '11:30-14...</td>\n",
       "    </tr>\n",
       "    <tr>\n",
       "      <th>CsLQLiRoafpJPJSkNX2h5Q</th>\n",
       "      <td>Middle East Deli</td>\n",
       "      <td>4508 E Independence Blvd</td>\n",
       "      <td>Charlotte</td>\n",
       "      <td>NC</td>\n",
       "      <td>28205</td>\n",
       "      <td>35.194894</td>\n",
       "      <td>-80.767442</td>\n",
       "      <td>3.0</td>\n",
       "      <td>5</td>\n",
       "      <td>0</td>\n",
       "      <td>{'RestaurantsGoodForGroups': 'True', 'OutdoorS...</td>\n",
       "      <td>Food, Restaurants, Grocery, Middle Eastern</td>\n",
       "      <td>None</td>\n",
       "    </tr>\n",
       "    <tr>\n",
       "      <th>eBEfgOPG7pvFhb2wcG9I7w</th>\n",
       "      <td>Philthy Phillys</td>\n",
       "      <td>15480 Bayview Avenue, unit D0110</td>\n",
       "      <td>Aurora</td>\n",
       "      <td>ON</td>\n",
       "      <td>L4G 7J1</td>\n",
       "      <td>44.010962</td>\n",
       "      <td>-79.448677</td>\n",
       "      <td>4.5</td>\n",
       "      <td>4</td>\n",
       "      <td>1</td>\n",
       "      <td>{'RestaurantsTableService': 'False', 'Restaura...</td>\n",
       "      <td>Restaurants, Cheesesteaks, Poutineries</td>\n",
       "      <td>{'Monday': '11:0-22:0', 'Tuesday': '11:0-22:0'...</td>\n",
       "    </tr>\n",
       "    <tr>\n",
       "      <th>lu7vtrp_bE9PnxWfA8g4Pg</th>\n",
       "      <td>Banzai Sushi</td>\n",
       "      <td>300 John Street</td>\n",
       "      <td>Thornhill</td>\n",
       "      <td>ON</td>\n",
       "      <td>L3T 5W4</td>\n",
       "      <td>43.820492</td>\n",
       "      <td>-79.398466</td>\n",
       "      <td>4.5</td>\n",
       "      <td>7</td>\n",
       "      <td>1</td>\n",
       "      <td>{'GoodForKids': 'True', 'RestaurantsTakeOut': ...</td>\n",
       "      <td>Japanese, Fast Food, Food Court, Restaurants</td>\n",
       "      <td>None</td>\n",
       "    </tr>\n",
       "    <tr>\n",
       "      <th>9sRGfSVEfLhN_km60YruTA</th>\n",
       "      <td>Apadana Restaurant</td>\n",
       "      <td>13071 Yonge Street</td>\n",
       "      <td>Richmond Hill</td>\n",
       "      <td>ON</td>\n",
       "      <td>L4E 1A5</td>\n",
       "      <td>43.947011</td>\n",
       "      <td>-79.454862</td>\n",
       "      <td>3.0</td>\n",
       "      <td>3</td>\n",
       "      <td>1</td>\n",
       "      <td>{'Ambience': '{'touristy': False, 'hipster': F...</td>\n",
       "      <td>Persian/Iranian, Turkish, Middle Eastern, Rest...</td>\n",
       "      <td>{'Tuesday': '12:0-21:0', 'Wednesday': '12:0-21...</td>\n",
       "    </tr>\n",
       "    <tr>\n",
       "      <th>...</th>\n",
       "      <td>...</td>\n",
       "      <td>...</td>\n",
       "      <td>...</td>\n",
       "      <td>...</td>\n",
       "      <td>...</td>\n",
       "      <td>...</td>\n",
       "      <td>...</td>\n",
       "      <td>...</td>\n",
       "      <td>...</td>\n",
       "      <td>...</td>\n",
       "      <td>...</td>\n",
       "      <td>...</td>\n",
       "      <td>...</td>\n",
       "    </tr>\n",
       "    <tr>\n",
       "      <th>xVpE01l6ZXdEtVf5PkRpDg</th>\n",
       "      <td>Julep</td>\n",
       "      <td>829 E Washington Ave</td>\n",
       "      <td>Madison</td>\n",
       "      <td>WI</td>\n",
       "      <td>53703</td>\n",
       "      <td>43.081022</td>\n",
       "      <td>-89.374006</td>\n",
       "      <td>4.0</td>\n",
       "      <td>95</td>\n",
       "      <td>0</td>\n",
       "      <td>{'NoiseLevel': 'u'average'', 'BikeParking': 'T...</td>\n",
       "      <td>Nightlife, Diners, Bars, Southern, Restaurants</td>\n",
       "      <td>{'Monday': '16:0-22:0', 'Tuesday': '16:0-22:0'...</td>\n",
       "    </tr>\n",
       "    <tr>\n",
       "      <th>BAVuLTDmpSzDCk37A5HjtQ</th>\n",
       "      <td>Bruegger's Bagels</td>\n",
       "      <td>27045 Lorain Rd</td>\n",
       "      <td>North Olmsted</td>\n",
       "      <td>OH</td>\n",
       "      <td>44070</td>\n",
       "      <td>41.416568</td>\n",
       "      <td>-81.921396</td>\n",
       "      <td>3.0</td>\n",
       "      <td>13</td>\n",
       "      <td>0</td>\n",
       "      <td>{'NoiseLevel': 'u'average'', 'BikeParking': 'F...</td>\n",
       "      <td>Restaurants, Sandwiches, Food, Breakfast &amp; Bru...</td>\n",
       "      <td>{'Monday': '5:30-15:0', 'Tuesday': '5:30-15:0'...</td>\n",
       "    </tr>\n",
       "    <tr>\n",
       "      <th>hskVqZCPqy-omm9CHi44xQ</th>\n",
       "      <td>Domino's</td>\n",
       "      <td>6420 Rea Rd, Suite B1</td>\n",
       "      <td>Charlotte</td>\n",
       "      <td>NC</td>\n",
       "      <td>28226</td>\n",
       "      <td>35.078538</td>\n",
       "      <td>-80.818358</td>\n",
       "      <td>2.0</td>\n",
       "      <td>16</td>\n",
       "      <td>1</td>\n",
       "      <td>{'BusinessAcceptsCreditCards': 'True', 'Restau...</td>\n",
       "      <td>Restaurants, Pizza, Sandwiches, Fast Food, Chi...</td>\n",
       "      <td>{'Monday': '10:30-0:0', 'Tuesday': '10:30-0:0'...</td>\n",
       "    </tr>\n",
       "    <tr>\n",
       "      <th>9Q0fPWAjUweoFDk0kafuzQ</th>\n",
       "      <td>Nishi Sushi</td>\n",
       "      <td>9750 Weston Road</td>\n",
       "      <td>Vaughan</td>\n",
       "      <td>ON</td>\n",
       "      <td>L4H 2P2</td>\n",
       "      <td>43.838555</td>\n",
       "      <td>-79.559823</td>\n",
       "      <td>4.0</td>\n",
       "      <td>5</td>\n",
       "      <td>0</td>\n",
       "      <td>{'Ambience': '{'romantic': False, 'intimate': ...</td>\n",
       "      <td>Japanese, Sushi Bars, Restaurants</td>\n",
       "      <td>{'Monday': '11:0-22:0', 'Tuesday': '11:0-22:0'...</td>\n",
       "    </tr>\n",
       "    <tr>\n",
       "      <th>SYa2j1boLF8DcGVOYfHPcA</th>\n",
       "      <td>Five Guys</td>\n",
       "      <td>7014-590 E Camelback Rd</td>\n",
       "      <td>Scottsdale</td>\n",
       "      <td>AZ</td>\n",
       "      <td>85251</td>\n",
       "      <td>33.504062</td>\n",
       "      <td>-111.929431</td>\n",
       "      <td>3.5</td>\n",
       "      <td>97</td>\n",
       "      <td>1</td>\n",
       "      <td>{'BusinessAcceptsCreditCards': 'True', 'Restau...</td>\n",
       "      <td>American (New), Food, Burgers, Restaurants, Fa...</td>\n",
       "      <td>{'Monday': '11:0-22:0', 'Tuesday': '11:0-22:0'...</td>\n",
       "    </tr>\n",
       "  </tbody>\n",
       "</table>\n",
       "<p>63944 rows × 13 columns</p>\n",
       "</div>"
      ],
      "text/plain": [
       "                                       name                           address  \\\n",
       "business_id                                                                     \n",
       "pQeaRpvuhoEqudo3uymHIQ  The Empanadas House                    404 E Green St   \n",
       "CsLQLiRoafpJPJSkNX2h5Q     Middle East Deli          4508 E Independence Blvd   \n",
       "eBEfgOPG7pvFhb2wcG9I7w      Philthy Phillys  15480 Bayview Avenue, unit D0110   \n",
       "lu7vtrp_bE9PnxWfA8g4Pg         Banzai Sushi                   300 John Street   \n",
       "9sRGfSVEfLhN_km60YruTA   Apadana Restaurant                13071 Yonge Street   \n",
       "...                                     ...                               ...   \n",
       "xVpE01l6ZXdEtVf5PkRpDg                Julep              829 E Washington Ave   \n",
       "BAVuLTDmpSzDCk37A5HjtQ    Bruegger's Bagels                   27045 Lorain Rd   \n",
       "hskVqZCPqy-omm9CHi44xQ             Domino's             6420 Rea Rd, Suite B1   \n",
       "9Q0fPWAjUweoFDk0kafuzQ          Nishi Sushi                  9750 Weston Road   \n",
       "SYa2j1boLF8DcGVOYfHPcA            Five Guys           7014-590 E Camelback Rd   \n",
       "\n",
       "                                 city state postal_code   latitude  \\\n",
       "business_id                                                          \n",
       "pQeaRpvuhoEqudo3uymHIQ      Champaign    IL       61820  40.110446   \n",
       "CsLQLiRoafpJPJSkNX2h5Q      Charlotte    NC       28205  35.194894   \n",
       "eBEfgOPG7pvFhb2wcG9I7w         Aurora    ON     L4G 7J1  44.010962   \n",
       "lu7vtrp_bE9PnxWfA8g4Pg      Thornhill    ON     L3T 5W4  43.820492   \n",
       "9sRGfSVEfLhN_km60YruTA  Richmond Hill    ON     L4E 1A5  43.947011   \n",
       "...                               ...   ...         ...        ...   \n",
       "xVpE01l6ZXdEtVf5PkRpDg        Madison    WI       53703  43.081022   \n",
       "BAVuLTDmpSzDCk37A5HjtQ  North Olmsted    OH       44070  41.416568   \n",
       "hskVqZCPqy-omm9CHi44xQ      Charlotte    NC       28226  35.078538   \n",
       "9Q0fPWAjUweoFDk0kafuzQ        Vaughan    ON     L4H 2P2  43.838555   \n",
       "SYa2j1boLF8DcGVOYfHPcA     Scottsdale    AZ       85251  33.504062   \n",
       "\n",
       "                         longitude  stars  review_count  is_open  \\\n",
       "business_id                                                        \n",
       "pQeaRpvuhoEqudo3uymHIQ  -88.233073    4.5             5        1   \n",
       "CsLQLiRoafpJPJSkNX2h5Q  -80.767442    3.0             5        0   \n",
       "eBEfgOPG7pvFhb2wcG9I7w  -79.448677    4.5             4        1   \n",
       "lu7vtrp_bE9PnxWfA8g4Pg  -79.398466    4.5             7        1   \n",
       "9sRGfSVEfLhN_km60YruTA  -79.454862    3.0             3        1   \n",
       "...                            ...    ...           ...      ...   \n",
       "xVpE01l6ZXdEtVf5PkRpDg  -89.374006    4.0            95        0   \n",
       "BAVuLTDmpSzDCk37A5HjtQ  -81.921396    3.0            13        0   \n",
       "hskVqZCPqy-omm9CHi44xQ  -80.818358    2.0            16        1   \n",
       "9Q0fPWAjUweoFDk0kafuzQ  -79.559823    4.0             5        0   \n",
       "SYa2j1boLF8DcGVOYfHPcA -111.929431    3.5            97        1   \n",
       "\n",
       "                                                               attributes  \\\n",
       "business_id                                                                 \n",
       "pQeaRpvuhoEqudo3uymHIQ  {'RestaurantsAttire': 'u'casual'', 'Restaurant...   \n",
       "CsLQLiRoafpJPJSkNX2h5Q  {'RestaurantsGoodForGroups': 'True', 'OutdoorS...   \n",
       "eBEfgOPG7pvFhb2wcG9I7w  {'RestaurantsTableService': 'False', 'Restaura...   \n",
       "lu7vtrp_bE9PnxWfA8g4Pg  {'GoodForKids': 'True', 'RestaurantsTakeOut': ...   \n",
       "9sRGfSVEfLhN_km60YruTA  {'Ambience': '{'touristy': False, 'hipster': F...   \n",
       "...                                                                   ...   \n",
       "xVpE01l6ZXdEtVf5PkRpDg  {'NoiseLevel': 'u'average'', 'BikeParking': 'T...   \n",
       "BAVuLTDmpSzDCk37A5HjtQ  {'NoiseLevel': 'u'average'', 'BikeParking': 'F...   \n",
       "hskVqZCPqy-omm9CHi44xQ  {'BusinessAcceptsCreditCards': 'True', 'Restau...   \n",
       "9Q0fPWAjUweoFDk0kafuzQ  {'Ambience': '{'romantic': False, 'intimate': ...   \n",
       "SYa2j1boLF8DcGVOYfHPcA  {'BusinessAcceptsCreditCards': 'True', 'Restau...   \n",
       "\n",
       "                                                               categories  \\\n",
       "business_id                                                                 \n",
       "pQeaRpvuhoEqudo3uymHIQ  Ethnic Food, Food Trucks, Specialty Food, Impo...   \n",
       "CsLQLiRoafpJPJSkNX2h5Q         Food, Restaurants, Grocery, Middle Eastern   \n",
       "eBEfgOPG7pvFhb2wcG9I7w             Restaurants, Cheesesteaks, Poutineries   \n",
       "lu7vtrp_bE9PnxWfA8g4Pg       Japanese, Fast Food, Food Court, Restaurants   \n",
       "9sRGfSVEfLhN_km60YruTA  Persian/Iranian, Turkish, Middle Eastern, Rest...   \n",
       "...                                                                   ...   \n",
       "xVpE01l6ZXdEtVf5PkRpDg     Nightlife, Diners, Bars, Southern, Restaurants   \n",
       "BAVuLTDmpSzDCk37A5HjtQ  Restaurants, Sandwiches, Food, Breakfast & Bru...   \n",
       "hskVqZCPqy-omm9CHi44xQ  Restaurants, Pizza, Sandwiches, Fast Food, Chi...   \n",
       "9Q0fPWAjUweoFDk0kafuzQ                  Japanese, Sushi Bars, Restaurants   \n",
       "SYa2j1boLF8DcGVOYfHPcA  American (New), Food, Burgers, Restaurants, Fa...   \n",
       "\n",
       "                                                                    hours  \n",
       "business_id                                                                \n",
       "pQeaRpvuhoEqudo3uymHIQ  {'Monday': '11:30-14:30', 'Tuesday': '11:30-14...  \n",
       "CsLQLiRoafpJPJSkNX2h5Q                                               None  \n",
       "eBEfgOPG7pvFhb2wcG9I7w  {'Monday': '11:0-22:0', 'Tuesday': '11:0-22:0'...  \n",
       "lu7vtrp_bE9PnxWfA8g4Pg                                               None  \n",
       "9sRGfSVEfLhN_km60YruTA  {'Tuesday': '12:0-21:0', 'Wednesday': '12:0-21...  \n",
       "...                                                                   ...  \n",
       "xVpE01l6ZXdEtVf5PkRpDg  {'Monday': '16:0-22:0', 'Tuesday': '16:0-22:0'...  \n",
       "BAVuLTDmpSzDCk37A5HjtQ  {'Monday': '5:30-15:0', 'Tuesday': '5:30-15:0'...  \n",
       "hskVqZCPqy-omm9CHi44xQ  {'Monday': '10:30-0:0', 'Tuesday': '10:30-0:0'...  \n",
       "9Q0fPWAjUweoFDk0kafuzQ  {'Monday': '11:0-22:0', 'Tuesday': '11:0-22:0'...  \n",
       "SYa2j1boLF8DcGVOYfHPcA  {'Monday': '11:0-22:0', 'Tuesday': '11:0-22:0'...  \n",
       "\n",
       "[63944 rows x 13 columns]"
      ]
     },
     "execution_count": 6,
     "metadata": {},
     "output_type": "execute_result"
    }
   ],
   "source": [
    "rest_df"
   ]
  },
  {
   "cell_type": "code",
   "execution_count": 7,
   "metadata": {
    "ExecuteTime": {
     "end_time": "2020-09-23T09:12:27.086209Z",
     "start_time": "2020-09-23T09:12:22.341679Z"
    }
   },
   "outputs": [],
   "source": [
    "rest_cat = {}\n",
    "for index, row in rest_df.iterrows():\n",
    "    s = [x.strip() for x in row['categories'].split(',')]\n",
    "    for c in s:\n",
    "        if c not in rest_cat:\n",
    "            rest_cat[c] = 0\n",
    "        rest_cat[c] += 1\n",
    "category_df = pd.DataFrame(rest_cat.items(), columns=['category', 'count'])"
   ]
  },
  {
   "cell_type": "code",
   "execution_count": 11,
   "metadata": {
    "ExecuteTime": {
     "end_time": "2020-09-23T09:14:26.611148Z",
     "start_time": "2020-09-23T09:14:26.602822Z"
    }
   },
   "outputs": [
    {
     "data": {
      "text/html": [
       "<div>\n",
       "<style scoped>\n",
       "    .dataframe tbody tr th:only-of-type {\n",
       "        vertical-align: middle;\n",
       "    }\n",
       "\n",
       "    .dataframe tbody tr th {\n",
       "        vertical-align: top;\n",
       "    }\n",
       "\n",
       "    .dataframe thead th {\n",
       "        text-align: right;\n",
       "    }\n",
       "</style>\n",
       "<table border=\"1\" class=\"dataframe\">\n",
       "  <thead>\n",
       "    <tr style=\"text-align: right;\">\n",
       "      <th></th>\n",
       "      <th>category</th>\n",
       "      <th>count</th>\n",
       "    </tr>\n",
       "  </thead>\n",
       "  <tbody>\n",
       "    <tr>\n",
       "      <th>6</th>\n",
       "      <td>Restaurants</td>\n",
       "      <td>63944</td>\n",
       "    </tr>\n",
       "    <tr>\n",
       "      <th>5</th>\n",
       "      <td>Food</td>\n",
       "      <td>16480</td>\n",
       "    </tr>\n",
       "    <tr>\n",
       "      <th>57</th>\n",
       "      <td>Nightlife</td>\n",
       "      <td>9400</td>\n",
       "    </tr>\n",
       "    <tr>\n",
       "      <th>52</th>\n",
       "      <td>Bars</td>\n",
       "      <td>9004</td>\n",
       "    </tr>\n",
       "    <tr>\n",
       "      <th>13</th>\n",
       "      <td>Fast Food</td>\n",
       "      <td>8106</td>\n",
       "    </tr>\n",
       "    <tr>\n",
       "      <th>...</th>\n",
       "      <td>...</td>\n",
       "      <td>...</td>\n",
       "    </tr>\n",
       "    <tr>\n",
       "      <th>430</th>\n",
       "      <td>Furniture Repair</td>\n",
       "      <td>1</td>\n",
       "    </tr>\n",
       "    <tr>\n",
       "      <th>432</th>\n",
       "      <td>Audio/Visual Equipment Rental</td>\n",
       "      <td>1</td>\n",
       "    </tr>\n",
       "    <tr>\n",
       "      <th>665</th>\n",
       "      <td>Health Retreats</td>\n",
       "      <td>1</td>\n",
       "    </tr>\n",
       "    <tr>\n",
       "      <th>667</th>\n",
       "      <td>Door Sales/Installation</td>\n",
       "      <td>1</td>\n",
       "    </tr>\n",
       "    <tr>\n",
       "      <th>810</th>\n",
       "      <td>Personal Injury Law</td>\n",
       "      <td>1</td>\n",
       "    </tr>\n",
       "  </tbody>\n",
       "</table>\n",
       "<p>811 rows × 2 columns</p>\n",
       "</div>"
      ],
      "text/plain": [
       "                          category  count\n",
       "6                      Restaurants  63944\n",
       "5                             Food  16480\n",
       "57                       Nightlife   9400\n",
       "52                            Bars   9004\n",
       "13                       Fast Food   8106\n",
       "..                             ...    ...\n",
       "430               Furniture Repair      1\n",
       "432  Audio/Visual Equipment Rental      1\n",
       "665                Health Retreats      1\n",
       "667        Door Sales/Installation      1\n",
       "810            Personal Injury Law      1\n",
       "\n",
       "[811 rows x 2 columns]"
      ]
     },
     "execution_count": 11,
     "metadata": {},
     "output_type": "execute_result"
    }
   ],
   "source": [
    "category_df.sort_values(by='count', inplace=True, ascending=False)\n",
    "category_df"
   ]
  },
  {
   "cell_type": "code",
   "execution_count": 22,
   "metadata": {
    "ExecuteTime": {
     "end_time": "2020-09-23T10:08:57.165116Z",
     "start_time": "2020-09-23T10:08:57.158992Z"
    }
   },
   "outputs": [],
   "source": [
    "# save the category_df to disk as a look dict \n",
    "category_df.to_csv('categories.csv', index=False, columns=['category', 'count'])"
   ]
  },
  {
   "cell_type": "code",
   "execution_count": 23,
   "metadata": {
    "ExecuteTime": {
     "end_time": "2020-09-23T10:10:04.506631Z",
     "start_time": "2020-09-23T10:08:57.664098Z"
    }
   },
   "outputs": [],
   "source": [
    "user_df = pd.DataFrame.from_records([u for u in parse_file(user_file)])"
   ]
  },
  {
   "cell_type": "code",
   "execution_count": 24,
   "metadata": {
    "ExecuteTime": {
     "end_time": "2020-09-23T10:10:04.859988Z",
     "start_time": "2020-09-23T10:10:04.512016Z"
    }
   },
   "outputs": [],
   "source": [
    "user_df.set_index('user_id', inplace=True)"
   ]
  },
  {
   "cell_type": "code",
   "execution_count": 25,
   "metadata": {
    "ExecuteTime": {
     "end_time": "2020-09-23T10:14:33.943193Z",
     "start_time": "2020-09-23T10:10:04.863576Z"
    }
   },
   "outputs": [],
   "source": [
    "review_df = pd.DataFrame.from_records([r for r in parse_file(review_file)])"
   ]
  },
  {
   "cell_type": "code",
   "execution_count": 26,
   "metadata": {
    "ExecuteTime": {
     "end_time": "2020-09-23T10:14:58.830604Z",
     "start_time": "2020-09-23T10:14:34.086019Z"
    }
   },
   "outputs": [],
   "source": [
    "review_df.set_index('business_id', inplace=True)"
   ]
  },
  {
   "cell_type": "code",
   "execution_count": 27,
   "metadata": {
    "ExecuteTime": {
     "end_time": "2020-09-23T10:14:59.691294Z",
     "start_time": "2020-09-23T10:14:58.838136Z"
    }
   },
   "outputs": [],
   "source": [
    "toronto_rest = rest_df[rest_df['city'] == 'Toronto']"
   ]
  },
  {
   "cell_type": "code",
   "execution_count": 28,
   "metadata": {
    "ExecuteTime": {
     "end_time": "2020-09-23T10:14:59.707952Z",
     "start_time": "2020-09-23T10:14:59.695763Z"
    }
   },
   "outputs": [],
   "source": [
    "mid_toronto_rest = toronto_rest[(toronto_rest['review_count'] >= 100) & (toronto_rest['review_count'] < 1000)]"
   ]
  },
  {
   "cell_type": "code",
   "execution_count": 29,
   "metadata": {
    "ExecuteTime": {
     "end_time": "2020-09-23T10:14:59.823074Z",
     "start_time": "2020-09-23T10:14:59.710587Z"
    },
    "scrolled": true
   },
   "outputs": [
    {
     "data": {
      "text/html": [
       "<div>\n",
       "<style scoped>\n",
       "    .dataframe tbody tr th:only-of-type {\n",
       "        vertical-align: middle;\n",
       "    }\n",
       "\n",
       "    .dataframe tbody tr th {\n",
       "        vertical-align: top;\n",
       "    }\n",
       "\n",
       "    .dataframe thead th {\n",
       "        text-align: right;\n",
       "    }\n",
       "</style>\n",
       "<table border=\"1\" class=\"dataframe\">\n",
       "  <thead>\n",
       "    <tr style=\"text-align: right;\">\n",
       "      <th></th>\n",
       "      <th>name</th>\n",
       "      <th>address</th>\n",
       "      <th>city</th>\n",
       "      <th>state</th>\n",
       "      <th>postal_code</th>\n",
       "      <th>latitude</th>\n",
       "      <th>longitude</th>\n",
       "      <th>stars</th>\n",
       "      <th>review_count</th>\n",
       "      <th>is_open</th>\n",
       "      <th>attributes</th>\n",
       "      <th>categories</th>\n",
       "      <th>hours</th>\n",
       "    </tr>\n",
       "    <tr>\n",
       "      <th>business_id</th>\n",
       "      <th></th>\n",
       "      <th></th>\n",
       "      <th></th>\n",
       "      <th></th>\n",
       "      <th></th>\n",
       "      <th></th>\n",
       "      <th></th>\n",
       "      <th></th>\n",
       "      <th></th>\n",
       "      <th></th>\n",
       "      <th></th>\n",
       "      <th></th>\n",
       "      <th></th>\n",
       "    </tr>\n",
       "  </thead>\n",
       "  <tbody>\n",
       "    <tr>\n",
       "      <th>0QjROMVW9ACKjhSEfHqNCQ</th>\n",
       "      <td>Mi Mi Restaurant</td>\n",
       "      <td>688 Gerrard Street E</td>\n",
       "      <td>Toronto</td>\n",
       "      <td>ON</td>\n",
       "      <td>M4M 1Y3</td>\n",
       "      <td>43.666376</td>\n",
       "      <td>-79.348773</td>\n",
       "      <td>4.0</td>\n",
       "      <td>116</td>\n",
       "      <td>1</td>\n",
       "      <td>{'RestaurantsTakeOut': 'True', 'Alcohol': 'u'b...</td>\n",
       "      <td>Vietnamese, Restaurants</td>\n",
       "      <td>{'Monday': '11:0-22:0', 'Tuesday': '11:0-22:0'...</td>\n",
       "    </tr>\n",
       "    <tr>\n",
       "      <th>37kk0IW6jL7ZlxZF6k2QBg</th>\n",
       "      <td>Edulis</td>\n",
       "      <td>169 Niagara Street</td>\n",
       "      <td>Toronto</td>\n",
       "      <td>ON</td>\n",
       "      <td>M5V</td>\n",
       "      <td>43.641948</td>\n",
       "      <td>-79.406580</td>\n",
       "      <td>4.0</td>\n",
       "      <td>115</td>\n",
       "      <td>1</td>\n",
       "      <td>{'RestaurantsGoodForGroups': 'False', 'Restaur...</td>\n",
       "      <td>Restaurants, Spanish, French</td>\n",
       "      <td>{'Wednesday': '18:0-23:0', 'Thursday': '18:0-2...</td>\n",
       "    </tr>\n",
       "    <tr>\n",
       "      <th>Nxg73OigmRQQq0d1pKtkUQ</th>\n",
       "      <td>Xe Lua Restaurant</td>\n",
       "      <td>254 Spadina Avenue, 2nd Floor</td>\n",
       "      <td>Toronto</td>\n",
       "      <td>ON</td>\n",
       "      <td>M5T 2C2</td>\n",
       "      <td>43.651700</td>\n",
       "      <td>-79.397987</td>\n",
       "      <td>3.0</td>\n",
       "      <td>177</td>\n",
       "      <td>1</td>\n",
       "      <td>{'Alcohol': 'u'beer_and_wine'', 'RestaurantsDe...</td>\n",
       "      <td>Vietnamese, Restaurants</td>\n",
       "      <td>{'Monday': '10:0-0:0', 'Tuesday': '10:0-0:0', ...</td>\n",
       "    </tr>\n",
       "    <tr>\n",
       "      <th>K5Q2vkF5UpytV9Q1rB-5Yg</th>\n",
       "      <td>Akira Back</td>\n",
       "      <td>80 Blue Jays Way, 2nd Floor</td>\n",
       "      <td>Toronto</td>\n",
       "      <td>ON</td>\n",
       "      <td>M5V 2G3</td>\n",
       "      <td>43.645297</td>\n",
       "      <td>-79.392397</td>\n",
       "      <td>4.0</td>\n",
       "      <td>124</td>\n",
       "      <td>1</td>\n",
       "      <td>{'WiFi': ''no'', 'RestaurantsDelivery': 'False...</td>\n",
       "      <td>Restaurants, Japanese, Korean, Asian Fusion</td>\n",
       "      <td>None</td>\n",
       "    </tr>\n",
       "    <tr>\n",
       "      <th>q0hAKzn_LmyUiScCuWS4Hg</th>\n",
       "      <td>Korean Grill House</td>\n",
       "      <td>754 Yonge Street</td>\n",
       "      <td>Toronto</td>\n",
       "      <td>ON</td>\n",
       "      <td>M4Y 2B6</td>\n",
       "      <td>43.669261</td>\n",
       "      <td>-79.386833</td>\n",
       "      <td>3.0</td>\n",
       "      <td>122</td>\n",
       "      <td>1</td>\n",
       "      <td>{'BusinessParking': '{'garage': False, 'street...</td>\n",
       "      <td>Korean, Restaurants</td>\n",
       "      <td>None</td>\n",
       "    </tr>\n",
       "    <tr>\n",
       "      <th>...</th>\n",
       "      <td>...</td>\n",
       "      <td>...</td>\n",
       "      <td>...</td>\n",
       "      <td>...</td>\n",
       "      <td>...</td>\n",
       "      <td>...</td>\n",
       "      <td>...</td>\n",
       "      <td>...</td>\n",
       "      <td>...</td>\n",
       "      <td>...</td>\n",
       "      <td>...</td>\n",
       "      <td>...</td>\n",
       "      <td>...</td>\n",
       "    </tr>\n",
       "    <tr>\n",
       "      <th>Pthcdg09sHQ9M9Tj5P9gfQ</th>\n",
       "      <td>C'est What</td>\n",
       "      <td>67 Front Street E</td>\n",
       "      <td>Toronto</td>\n",
       "      <td>ON</td>\n",
       "      <td>M5E 1B5</td>\n",
       "      <td>43.648248</td>\n",
       "      <td>-79.373359</td>\n",
       "      <td>3.5</td>\n",
       "      <td>323</td>\n",
       "      <td>1</td>\n",
       "      <td>{'RestaurantsDelivery': 'False', 'RestaurantsP...</td>\n",
       "      <td>Nightlife, Bars, Burgers, Comfort Food, Pubs, ...</td>\n",
       "      <td>{'Monday': '0:0-0:0', 'Tuesday': '11:30-17:0',...</td>\n",
       "    </tr>\n",
       "    <tr>\n",
       "      <th>IE1lzZvdD9UnGeB1kXjuOQ</th>\n",
       "      <td>Aroma Espresso Bar</td>\n",
       "      <td>500 Bloor Street W</td>\n",
       "      <td>Toronto</td>\n",
       "      <td>ON</td>\n",
       "      <td>M5S 1Y3</td>\n",
       "      <td>43.665523</td>\n",
       "      <td>-79.410272</td>\n",
       "      <td>3.5</td>\n",
       "      <td>147</td>\n",
       "      <td>0</td>\n",
       "      <td>{'RestaurantsReservations': 'False', 'WiFi': '...</td>\n",
       "      <td>Sandwiches, Coffee &amp; Tea, Restaurants, Food, B...</td>\n",
       "      <td>{'Monday': '7:30-22:0', 'Tuesday': '7:30-22:0'...</td>\n",
       "    </tr>\n",
       "    <tr>\n",
       "      <th>2auigv5pF08RjJ8CL1dIVw</th>\n",
       "      <td>O&amp;B Canteen</td>\n",
       "      <td>330 King Street W</td>\n",
       "      <td>Toronto</td>\n",
       "      <td>ON</td>\n",
       "      <td>M5V 3X2</td>\n",
       "      <td>43.646693</td>\n",
       "      <td>-79.390210</td>\n",
       "      <td>3.0</td>\n",
       "      <td>291</td>\n",
       "      <td>1</td>\n",
       "      <td>{'RestaurantsGoodForGroups': 'True', 'Alcohol'...</td>\n",
       "      <td>American (New), Restaurants, Canadian (New), C...</td>\n",
       "      <td>{'Monday': '8:0-21:0', 'Tuesday': '8:0-22:0', ...</td>\n",
       "    </tr>\n",
       "    <tr>\n",
       "      <th>thzyiQZb16zD8wMliaEfRQ</th>\n",
       "      <td>Sushi Supreme</td>\n",
       "      <td>1995 Yonge Street</td>\n",
       "      <td>Toronto</td>\n",
       "      <td>ON</td>\n",
       "      <td>M4S 1Z8</td>\n",
       "      <td>43.700617</td>\n",
       "      <td>-79.396762</td>\n",
       "      <td>4.0</td>\n",
       "      <td>104</td>\n",
       "      <td>1</td>\n",
       "      <td>{'Ambience': '{'romantic': False, 'intimate': ...</td>\n",
       "      <td>Sushi Bars, Restaurants, Japanese</td>\n",
       "      <td>{'Monday': '12:0-23:0', 'Tuesday': '12:0-23:0'...</td>\n",
       "    </tr>\n",
       "    <tr>\n",
       "      <th>yFQCdWr_k1pTObzHPGis9Q</th>\n",
       "      <td>Grasshopper Restaurant</td>\n",
       "      <td>310 College Street</td>\n",
       "      <td>Toronto</td>\n",
       "      <td>ON</td>\n",
       "      <td>M5T 1S2</td>\n",
       "      <td>43.657716</td>\n",
       "      <td>-79.402098</td>\n",
       "      <td>4.0</td>\n",
       "      <td>177</td>\n",
       "      <td>1</td>\n",
       "      <td>{'DogsAllowed': 'False', 'BikeParking': 'True'...</td>\n",
       "      <td>Vegan, Restaurants, Vegetarian, Salad</td>\n",
       "      <td>{'Monday': '11:30-22:0', 'Tuesday': '11:30-22:...</td>\n",
       "    </tr>\n",
       "  </tbody>\n",
       "</table>\n",
       "<p>1062 rows × 13 columns</p>\n",
       "</div>"
      ],
      "text/plain": [
       "                                          name                        address  \\\n",
       "business_id                                                                     \n",
       "0QjROMVW9ACKjhSEfHqNCQ        Mi Mi Restaurant           688 Gerrard Street E   \n",
       "37kk0IW6jL7ZlxZF6k2QBg                  Edulis             169 Niagara Street   \n",
       "Nxg73OigmRQQq0d1pKtkUQ       Xe Lua Restaurant  254 Spadina Avenue, 2nd Floor   \n",
       "K5Q2vkF5UpytV9Q1rB-5Yg              Akira Back    80 Blue Jays Way, 2nd Floor   \n",
       "q0hAKzn_LmyUiScCuWS4Hg      Korean Grill House               754 Yonge Street   \n",
       "...                                        ...                            ...   \n",
       "Pthcdg09sHQ9M9Tj5P9gfQ              C'est What              67 Front Street E   \n",
       "IE1lzZvdD9UnGeB1kXjuOQ      Aroma Espresso Bar             500 Bloor Street W   \n",
       "2auigv5pF08RjJ8CL1dIVw             O&B Canteen              330 King Street W   \n",
       "thzyiQZb16zD8wMliaEfRQ           Sushi Supreme              1995 Yonge Street   \n",
       "yFQCdWr_k1pTObzHPGis9Q  Grasshopper Restaurant             310 College Street   \n",
       "\n",
       "                           city state postal_code   latitude  longitude  \\\n",
       "business_id                                                               \n",
       "0QjROMVW9ACKjhSEfHqNCQ  Toronto    ON     M4M 1Y3  43.666376 -79.348773   \n",
       "37kk0IW6jL7ZlxZF6k2QBg  Toronto    ON         M5V  43.641948 -79.406580   \n",
       "Nxg73OigmRQQq0d1pKtkUQ  Toronto    ON     M5T 2C2  43.651700 -79.397987   \n",
       "K5Q2vkF5UpytV9Q1rB-5Yg  Toronto    ON     M5V 2G3  43.645297 -79.392397   \n",
       "q0hAKzn_LmyUiScCuWS4Hg  Toronto    ON     M4Y 2B6  43.669261 -79.386833   \n",
       "...                         ...   ...         ...        ...        ...   \n",
       "Pthcdg09sHQ9M9Tj5P9gfQ  Toronto    ON     M5E 1B5  43.648248 -79.373359   \n",
       "IE1lzZvdD9UnGeB1kXjuOQ  Toronto    ON     M5S 1Y3  43.665523 -79.410272   \n",
       "2auigv5pF08RjJ8CL1dIVw  Toronto    ON     M5V 3X2  43.646693 -79.390210   \n",
       "thzyiQZb16zD8wMliaEfRQ  Toronto    ON     M4S 1Z8  43.700617 -79.396762   \n",
       "yFQCdWr_k1pTObzHPGis9Q  Toronto    ON     M5T 1S2  43.657716 -79.402098   \n",
       "\n",
       "                        stars  review_count  is_open  \\\n",
       "business_id                                            \n",
       "0QjROMVW9ACKjhSEfHqNCQ    4.0           116        1   \n",
       "37kk0IW6jL7ZlxZF6k2QBg    4.0           115        1   \n",
       "Nxg73OigmRQQq0d1pKtkUQ    3.0           177        1   \n",
       "K5Q2vkF5UpytV9Q1rB-5Yg    4.0           124        1   \n",
       "q0hAKzn_LmyUiScCuWS4Hg    3.0           122        1   \n",
       "...                       ...           ...      ...   \n",
       "Pthcdg09sHQ9M9Tj5P9gfQ    3.5           323        1   \n",
       "IE1lzZvdD9UnGeB1kXjuOQ    3.5           147        0   \n",
       "2auigv5pF08RjJ8CL1dIVw    3.0           291        1   \n",
       "thzyiQZb16zD8wMliaEfRQ    4.0           104        1   \n",
       "yFQCdWr_k1pTObzHPGis9Q    4.0           177        1   \n",
       "\n",
       "                                                               attributes  \\\n",
       "business_id                                                                 \n",
       "0QjROMVW9ACKjhSEfHqNCQ  {'RestaurantsTakeOut': 'True', 'Alcohol': 'u'b...   \n",
       "37kk0IW6jL7ZlxZF6k2QBg  {'RestaurantsGoodForGroups': 'False', 'Restaur...   \n",
       "Nxg73OigmRQQq0d1pKtkUQ  {'Alcohol': 'u'beer_and_wine'', 'RestaurantsDe...   \n",
       "K5Q2vkF5UpytV9Q1rB-5Yg  {'WiFi': ''no'', 'RestaurantsDelivery': 'False...   \n",
       "q0hAKzn_LmyUiScCuWS4Hg  {'BusinessParking': '{'garage': False, 'street...   \n",
       "...                                                                   ...   \n",
       "Pthcdg09sHQ9M9Tj5P9gfQ  {'RestaurantsDelivery': 'False', 'RestaurantsP...   \n",
       "IE1lzZvdD9UnGeB1kXjuOQ  {'RestaurantsReservations': 'False', 'WiFi': '...   \n",
       "2auigv5pF08RjJ8CL1dIVw  {'RestaurantsGoodForGroups': 'True', 'Alcohol'...   \n",
       "thzyiQZb16zD8wMliaEfRQ  {'Ambience': '{'romantic': False, 'intimate': ...   \n",
       "yFQCdWr_k1pTObzHPGis9Q  {'DogsAllowed': 'False', 'BikeParking': 'True'...   \n",
       "\n",
       "                                                               categories  \\\n",
       "business_id                                                                 \n",
       "0QjROMVW9ACKjhSEfHqNCQ                            Vietnamese, Restaurants   \n",
       "37kk0IW6jL7ZlxZF6k2QBg                       Restaurants, Spanish, French   \n",
       "Nxg73OigmRQQq0d1pKtkUQ                            Vietnamese, Restaurants   \n",
       "K5Q2vkF5UpytV9Q1rB-5Yg        Restaurants, Japanese, Korean, Asian Fusion   \n",
       "q0hAKzn_LmyUiScCuWS4Hg                                Korean, Restaurants   \n",
       "...                                                                   ...   \n",
       "Pthcdg09sHQ9M9Tj5P9gfQ  Nightlife, Bars, Burgers, Comfort Food, Pubs, ...   \n",
       "IE1lzZvdD9UnGeB1kXjuOQ  Sandwiches, Coffee & Tea, Restaurants, Food, B...   \n",
       "2auigv5pF08RjJ8CL1dIVw  American (New), Restaurants, Canadian (New), C...   \n",
       "thzyiQZb16zD8wMliaEfRQ                  Sushi Bars, Restaurants, Japanese   \n",
       "yFQCdWr_k1pTObzHPGis9Q              Vegan, Restaurants, Vegetarian, Salad   \n",
       "\n",
       "                                                                    hours  \n",
       "business_id                                                                \n",
       "0QjROMVW9ACKjhSEfHqNCQ  {'Monday': '11:0-22:0', 'Tuesday': '11:0-22:0'...  \n",
       "37kk0IW6jL7ZlxZF6k2QBg  {'Wednesday': '18:0-23:0', 'Thursday': '18:0-2...  \n",
       "Nxg73OigmRQQq0d1pKtkUQ  {'Monday': '10:0-0:0', 'Tuesday': '10:0-0:0', ...  \n",
       "K5Q2vkF5UpytV9Q1rB-5Yg                                               None  \n",
       "q0hAKzn_LmyUiScCuWS4Hg                                               None  \n",
       "...                                                                   ...  \n",
       "Pthcdg09sHQ9M9Tj5P9gfQ  {'Monday': '0:0-0:0', 'Tuesday': '11:30-17:0',...  \n",
       "IE1lzZvdD9UnGeB1kXjuOQ  {'Monday': '7:30-22:0', 'Tuesday': '7:30-22:0'...  \n",
       "2auigv5pF08RjJ8CL1dIVw  {'Monday': '8:0-21:0', 'Tuesday': '8:0-22:0', ...  \n",
       "thzyiQZb16zD8wMliaEfRQ  {'Monday': '12:0-23:0', 'Tuesday': '12:0-23:0'...  \n",
       "yFQCdWr_k1pTObzHPGis9Q  {'Monday': '11:30-22:0', 'Tuesday': '11:30-22:...  \n",
       "\n",
       "[1062 rows x 13 columns]"
      ]
     },
     "execution_count": 29,
     "metadata": {},
     "output_type": "execute_result"
    }
   ],
   "source": [
    "mid_toronto_rest"
   ]
  },
  {
   "cell_type": "code",
   "execution_count": 30,
   "metadata": {
    "ExecuteTime": {
     "end_time": "2020-09-23T10:14:59.836766Z",
     "start_time": "2020-09-23T10:14:59.830012Z"
    }
   },
   "outputs": [],
   "source": [
    "def np_encoder(obj):\n",
    "    if isinstance(obj, np.integer):\n",
    "        return int(obj)\n",
    "    elif isinstance(obj, np.floating):\n",
    "        return float(obj)\n",
    "    elif isinstance(obj, np.ndarray):\n",
    "        return obj.tolist()\n",
    "    elif isinstance(obj, datetime.datetime):\n",
    "        return obj.__str__()"
   ]
  },
  {
   "cell_type": "code",
   "execution_count": 37,
   "metadata": {
    "ExecuteTime": {
     "end_time": "2020-09-23T10:34:42.149869Z",
     "start_time": "2020-09-23T10:34:42.141309Z"
    }
   },
   "outputs": [
    {
     "ename": "TypeError",
     "evalue": "convert_category_name() missing 1 required positional argument: 'prefix'",
     "output_type": "error",
     "traceback": [
      "\u001b[0;31m---------------------------------------------------------------------------\u001b[0m",
      "\u001b[0;31mTypeError\u001b[0m                                 Traceback (most recent call last)",
      "\u001b[0;32m<ipython-input-37-948a18ccbdc3>\u001b[0m in \u001b[0;36m<module>\u001b[0;34m\u001b[0m\n\u001b[1;32m      2\u001b[0m     \u001b[0;32mreturn\u001b[0m \u001b[0mprefix\u001b[0m \u001b[0;34m+\u001b[0m \u001b[0mcat_name\u001b[0m\u001b[0;34m.\u001b[0m\u001b[0mtranslate\u001b[0m\u001b[0;34m(\u001b[0m\u001b[0mstr\u001b[0m\u001b[0;34m.\u001b[0m\u001b[0mmaketrans\u001b[0m\u001b[0;34m(\u001b[0m\u001b[0;34m''\u001b[0m\u001b[0;34m,\u001b[0m \u001b[0;34m''\u001b[0m\u001b[0;34m,\u001b[0m \u001b[0mstring\u001b[0m\u001b[0;34m.\u001b[0m\u001b[0mpunctuation\u001b[0m \u001b[0;34m+\u001b[0m \u001b[0;34m' '\u001b[0m\u001b[0;34m)\u001b[0m\u001b[0;34m)\u001b[0m\u001b[0;34m\u001b[0m\u001b[0;34m\u001b[0m\u001b[0m\n\u001b[1;32m      3\u001b[0m \u001b[0;31m# test string\u001b[0m\u001b[0;34m\u001b[0m\u001b[0;34m\u001b[0m\u001b[0;34m\u001b[0m\u001b[0m\n\u001b[0;32m----> 4\u001b[0;31m \u001b[0mprint\u001b[0m\u001b[0;34m(\u001b[0m\u001b[0mconvert_category_name\u001b[0m\u001b[0;34m(\u001b[0m\u001b[0;34m'Haha x & Y '\u001b[0m\u001b[0;34m)\u001b[0m\u001b[0;34m)\u001b[0m\u001b[0;34m\u001b[0m\u001b[0;34m\u001b[0m\u001b[0m\n\u001b[0m",
      "\u001b[0;31mTypeError\u001b[0m: convert_category_name() missing 1 required positional argument: 'prefix'"
     ]
    }
   ],
   "source": [
    "def convert_category_name(cat_name, prefix):\n",
    "    return prefix + cat_name.translate(str.maketrans('', '', string.punctuation + ' '))\n",
    "# test string\n",
    "print(convert_category_name('Haha x & Y '))"
   ]
  },
  {
   "cell_type": "code",
   "execution_count": 38,
   "metadata": {
    "ExecuteTime": {
     "end_time": "2020-09-23T10:34:42.934928Z",
     "start_time": "2020-09-23T10:34:42.907385Z"
    }
   },
   "outputs": [
    {
     "data": {
      "text/html": [
       "<div>\n",
       "<style scoped>\n",
       "    .dataframe tbody tr th:only-of-type {\n",
       "        vertical-align: middle;\n",
       "    }\n",
       "\n",
       "    .dataframe tbody tr th {\n",
       "        vertical-align: top;\n",
       "    }\n",
       "\n",
       "    .dataframe thead th {\n",
       "        text-align: right;\n",
       "    }\n",
       "</style>\n",
       "<table border=\"1\" class=\"dataframe\">\n",
       "  <thead>\n",
       "    <tr style=\"text-align: right;\">\n",
       "      <th></th>\n",
       "      <th>category</th>\n",
       "      <th>count</th>\n",
       "      <th>colName</th>\n",
       "    </tr>\n",
       "  </thead>\n",
       "  <tbody>\n",
       "    <tr>\n",
       "      <th>6</th>\n",
       "      <td>Restaurants</td>\n",
       "      <td>63944</td>\n",
       "      <td>caRestaurants</td>\n",
       "    </tr>\n",
       "    <tr>\n",
       "      <th>5</th>\n",
       "      <td>Food</td>\n",
       "      <td>16480</td>\n",
       "      <td>caFood</td>\n",
       "    </tr>\n",
       "    <tr>\n",
       "      <th>57</th>\n",
       "      <td>Nightlife</td>\n",
       "      <td>9400</td>\n",
       "      <td>caNightlife</td>\n",
       "    </tr>\n",
       "    <tr>\n",
       "      <th>52</th>\n",
       "      <td>Bars</td>\n",
       "      <td>9004</td>\n",
       "      <td>caBars</td>\n",
       "    </tr>\n",
       "    <tr>\n",
       "      <th>13</th>\n",
       "      <td>Fast Food</td>\n",
       "      <td>8106</td>\n",
       "      <td>caFastFood</td>\n",
       "    </tr>\n",
       "    <tr>\n",
       "      <th>...</th>\n",
       "      <td>...</td>\n",
       "      <td>...</td>\n",
       "      <td>...</td>\n",
       "    </tr>\n",
       "    <tr>\n",
       "      <th>430</th>\n",
       "      <td>Furniture Repair</td>\n",
       "      <td>1</td>\n",
       "      <td>caFurnitureRepair</td>\n",
       "    </tr>\n",
       "    <tr>\n",
       "      <th>432</th>\n",
       "      <td>Audio/Visual Equipment Rental</td>\n",
       "      <td>1</td>\n",
       "      <td>caAudioVisualEquipmentRental</td>\n",
       "    </tr>\n",
       "    <tr>\n",
       "      <th>665</th>\n",
       "      <td>Health Retreats</td>\n",
       "      <td>1</td>\n",
       "      <td>caHealthRetreats</td>\n",
       "    </tr>\n",
       "    <tr>\n",
       "      <th>667</th>\n",
       "      <td>Door Sales/Installation</td>\n",
       "      <td>1</td>\n",
       "      <td>caDoorSalesInstallation</td>\n",
       "    </tr>\n",
       "    <tr>\n",
       "      <th>810</th>\n",
       "      <td>Personal Injury Law</td>\n",
       "      <td>1</td>\n",
       "      <td>caPersonalInjuryLaw</td>\n",
       "    </tr>\n",
       "  </tbody>\n",
       "</table>\n",
       "<p>811 rows × 3 columns</p>\n",
       "</div>"
      ],
      "text/plain": [
       "                          category  count                       colName\n",
       "6                      Restaurants  63944                 caRestaurants\n",
       "5                             Food  16480                        caFood\n",
       "57                       Nightlife   9400                   caNightlife\n",
       "52                            Bars   9004                        caBars\n",
       "13                       Fast Food   8106                    caFastFood\n",
       "..                             ...    ...                           ...\n",
       "430               Furniture Repair      1             caFurnitureRepair\n",
       "432  Audio/Visual Equipment Rental      1  caAudioVisualEquipmentRental\n",
       "665                Health Retreats      1              caHealthRetreats\n",
       "667        Door Sales/Installation      1       caDoorSalesInstallation\n",
       "810            Personal Injury Law      1           caPersonalInjuryLaw\n",
       "\n",
       "[811 rows x 3 columns]"
      ]
     },
     "execution_count": 38,
     "metadata": {},
     "output_type": "execute_result"
    }
   ],
   "source": [
    "category_df['colName'] = category_df.apply(lambda row: convert_category_name(row['category'], 'ca'), axis=1)\n",
    "category_df"
   ]
  },
  {
   "cell_type": "code",
   "execution_count": 42,
   "metadata": {
    "ExecuteTime": {
     "end_time": "2020-09-23T10:35:21.497949Z",
     "start_time": "2020-09-23T10:35:21.478603Z"
    }
   },
   "outputs": [],
   "source": [
    "def construct_graph(rest_df, n_rest, user_sample_size, output_dir):\n",
    "    node_mapping = {}\n",
    "    g = nx.Graph()\n",
    "    node_idx = 0\n",
    "    edge_idx = 0\n",
    "    \n",
    "    # Select all restaurants of a neighborhood (identified by postal code)\n",
    "    groups = rest_df.groupby('postal_code')\n",
    "    cum_sum = groups.size().sort_values(ascending=False).cumsum()\n",
    "    postal_codes = cum_sum[cum_sum <= n_rest].index.to_list()\n",
    "    if len(postal_codes) > 0:\n",
    "        restaurants = pd.concat([groups.get_group(p) for p in postal_codes])\n",
    "        leftover = n_rest - cum_sum.loc[postal_codes[-1]]\n",
    "    else:\n",
    "        restaurants = pd.DataFrame()\n",
    "        leftover = n_rest\n",
    "    \n",
    "    if leftover > 0:\n",
    "        next_postal_code = cum_sum[cum_sum > n_rest][:1].index.to_list()[0]\n",
    "        postal_codes.append(next_postal_code)\n",
    "        restaurants = pd.concat([restaurants, groups.get_group(next_postal_code).sample(leftover)])\n",
    "    print('postal codes: ', postal_codes, leftover)\n",
    "\n",
    "    for bs_id, a in tqdm(restaurants.iterrows(), total=len(restaurants)):\n",
    "        # Add a restaurant node\n",
    "        g.add_node(node_idx, original_id=bs_id, label=a['name'], type='restaurant', **a.to_dict())\n",
    "        # Add category columns to this restaurant node\n",
    "        temp_cat_dict = {}\n",
    "        for x in a['categories'].split(','):\n",
    "            temp_cat_dict[x.strip()] = True\n",
    "        for cat_idx, cat_row in category_df.iterrows():\n",
    "            g.nodes[node_idx][cat_row['colName']] = 1 if cat_row['category'] in temp_cat_dict else 0\n",
    "\n",
    "        node_mapping[bs_id] = node_idx\n",
    "        node_idx += 1\n",
    "\n",
    "        reviews = review_df.loc[bs_id]\n",
    "        # print(bs_id, a['postal_code'], a['name'], '\\t review count:', len(reviews))\n",
    "        sample_reviews = reviews.sample(min(user_sample_size, len(reviews)))\n",
    "        for idx, r in sample_reviews.iterrows():\n",
    "            user_id = r['user_id']\n",
    "            u = user_df.loc[user_id]\n",
    "            if user_id not in node_mapping:\n",
    "                # Add a user node\n",
    "                g.add_node(node_idx, original_id=r['user_id'], label=u['name'], type='user', **u.to_dict())\n",
    "                node_mapping[user_id] = node_idx\n",
    "                node_idx += 1\n",
    "            # else:\n",
    "                # print('user found: ', user_id)\n",
    "\n",
    "            # Add an edge\n",
    "            g.add_edge(node_mapping[bs_id], node_mapping[user_id], star=r['stars'], date=r['date'], text=r['text'])\n",
    "    \n",
    "    print('# nodes: ', g.number_of_nodes(), '\\t # edges: ', g.number_of_edges())\n",
    "    json_data = nx.node_link_data(g)\n",
    "    if not os.path.exists(output_dir):\n",
    "        print('Create directory: ', output_dir)\n",
    "        os.makedirs(output_dir)\n",
    "    json.dump(json_data, open(os.path.join(output_dir, 'graph.json'), 'w'), indent=2, allow_nan=False, default=np_encoder)\n",
    "    return g"
   ]
  },
  {
   "cell_type": "code",
   "execution_count": 43,
   "metadata": {
    "ExecuteTime": {
     "end_time": "2020-09-23T10:35:31.381130Z",
     "start_time": "2020-09-23T10:35:22.102425Z"
    }
   },
   "outputs": [
    {
     "name": "stdout",
     "output_type": "stream",
     "text": [
      "postal codes:  ['M5T 1L1'] 20\n"
     ]
    },
    {
     "data": {
      "application/vnd.jupyter.widget-view+json": {
       "model_id": "8e20eac784bd4d34a6b83fa634a64fcb",
       "version_major": 2,
       "version_minor": 0
      },
      "text/plain": [
       "HBox(children=(FloatProgress(value=0.0, max=20.0), HTML(value='')))"
      ]
     },
     "metadata": {},
     "output_type": "display_data"
    },
    {
     "name": "stdout",
     "output_type": "stream",
     "text": [
      "\n",
      "# nodes:  693 \t # edges:  741\n"
     ]
    },
    {
     "data": {
      "text/plain": [
       "<networkx.classes.graph.Graph at 0x7faf9bbd9e50>"
      ]
     },
     "execution_count": 43,
     "metadata": {},
     "output_type": "execute_result"
    }
   ],
   "source": [
    "construct_graph(toronto_rest, 20, 50, 'graphs/toronto-rest-20-user-50')"
   ]
  },
  {
   "cell_type": "code",
   "execution_count": 44,
   "metadata": {
    "ExecuteTime": {
     "end_time": "2020-09-23T10:36:51.086121Z",
     "start_time": "2020-09-23T10:36:28.358304Z"
    }
   },
   "outputs": [
    {
     "name": "stdout",
     "output_type": "stream",
     "text": [
      "postal codes:  ['M5T 1L1', 'M1V 5N1'] 15\n"
     ]
    },
    {
     "data": {
      "application/vnd.jupyter.widget-view+json": {
       "model_id": "b905359186cf4ab1aaa9f37bc6ba2333",
       "version_major": 2,
       "version_minor": 0
      },
      "text/plain": [
       "HBox(children=(FloatProgress(value=0.0, max=50.0), HTML(value='')))"
      ]
     },
     "metadata": {},
     "output_type": "display_data"
    },
    {
     "name": "stdout",
     "output_type": "stream",
     "text": [
      "\n",
      "# nodes:  1265 \t # edges:  1438\n"
     ]
    },
    {
     "data": {
      "text/plain": [
       "<networkx.classes.graph.Graph at 0x7faf9bbdc950>"
      ]
     },
     "execution_count": 44,
     "metadata": {},
     "output_type": "execute_result"
    }
   ],
   "source": [
    "construct_graph(toronto_rest, 50, 50, 'graphs/toronto-rest-50-user-50')"
   ]
  },
  {
   "cell_type": "code",
   "execution_count": 45,
   "metadata": {
    "ExecuteTime": {
     "end_time": "2020-09-23T10:37:36.143689Z",
     "start_time": "2020-09-23T10:36:51.087840Z"
    }
   },
   "outputs": [
    {
     "name": "stdout",
     "output_type": "stream",
     "text": [
      "postal codes:  ['M5T 1L1', 'M1V 5N1', 'M5T', 'M5V 1J5'] 3\n"
     ]
    },
    {
     "data": {
      "application/vnd.jupyter.widget-view+json": {
       "model_id": "57c84eeb2ce04fd4b9c80850cb1d9ebe",
       "version_major": 2,
       "version_minor": 0
      },
      "text/plain": [
       "HBox(children=(FloatProgress(value=0.0), HTML(value='')))"
      ]
     },
     "metadata": {},
     "output_type": "display_data"
    },
    {
     "name": "stdout",
     "output_type": "stream",
     "text": [
      "\n",
      "# nodes:  2832 \t # edges:  3498\n"
     ]
    },
    {
     "data": {
      "text/plain": [
       "<networkx.classes.graph.Graph at 0x7faf9bbd3790>"
      ]
     },
     "execution_count": 45,
     "metadata": {},
     "output_type": "execute_result"
    }
   ],
   "source": [
    "construct_graph(toronto_rest, 100, 100, 'graphs/toronto-rest-100-user-100')"
   ]
  },
  {
   "cell_type": "code",
   "execution_count": 46,
   "metadata": {
    "ExecuteTime": {
     "end_time": "2020-09-23T10:39:09.080661Z",
     "start_time": "2020-09-23T10:37:36.145710Z"
    }
   },
   "outputs": [
    {
     "name": "stdout",
     "output_type": "stream",
     "text": [
      "postal codes:  ['M5T 1L1', 'M1V 5N1', 'M5T', 'M5V 1J5', 'M5V', 'M6A 2T9', 'M4K 1P1', 'M5B 2H1'] 5\n"
     ]
    },
    {
     "data": {
      "application/vnd.jupyter.widget-view+json": {
       "model_id": "0c8a8fa683584884a96839fa35638ad3",
       "version_major": 2,
       "version_minor": 0
      },
      "text/plain": [
       "HBox(children=(FloatProgress(value=0.0, max=200.0), HTML(value='')))"
      ]
     },
     "metadata": {},
     "output_type": "display_data"
    },
    {
     "name": "stdout",
     "output_type": "stream",
     "text": [
      "\n",
      "# nodes:  7098 \t # edges:  9366\n"
     ]
    },
    {
     "data": {
      "text/plain": [
       "<networkx.classes.graph.Graph at 0x7faf9bb1f310>"
      ]
     },
     "execution_count": 46,
     "metadata": {},
     "output_type": "execute_result"
    }
   ],
   "source": [
    "construct_graph(toronto_rest, 200, 150, 'graphs/toronto-rest-200-user-150')"
   ]
  },
  {
   "cell_type": "code",
   "execution_count": null,
   "metadata": {},
   "outputs": [],
   "source": []
  }
 ],
 "metadata": {
  "kernelspec": {
   "display_name": "Python 3",
   "language": "python",
   "name": "python3"
  },
  "language_info": {
   "codemirror_mode": {
    "name": "ipython",
    "version": 3
   },
   "file_extension": ".py",
   "mimetype": "text/x-python",
   "name": "python",
   "nbconvert_exporter": "python",
   "pygments_lexer": "ipython3",
   "version": "3.7.6"
  }
 },
 "nbformat": 4,
 "nbformat_minor": 4
}
